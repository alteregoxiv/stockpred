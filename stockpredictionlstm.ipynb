{
  "nbformat": 4,
  "nbformat_minor": 0,
  "metadata": {
    "colab": {
      "name": "stockpredictionlstm.ipynb",
      "provenance": [],
      "collapsed_sections": [],
      "authorship_tag": "ABX9TyPtj1xt261xAiBS0DNK5oo7",
      "include_colab_link": true
    },
    "kernelspec": {
      "name": "python3",
      "display_name": "Python 3"
    },
    "language_info": {
      "name": "python"
    }
  },
  "cells": [
    {
      "cell_type": "markdown",
      "metadata": {
        "id": "view-in-github",
        "colab_type": "text"
      },
      "source": [
        "<a href=\"https://colab.research.google.com/github/alteregoxiv/stockpred/blob/main/stockpredictionlstm.ipynb\" target=\"_parent\"><img src=\"https://colab.research.google.com/assets/colab-badge.svg\" alt=\"Open In Colab\"/></a>"
      ]
    },
    {
      "cell_type": "markdown",
      "metadata": {
        "id": "Lgd1YiGWppPz"
      },
      "source": [
        "# **STOCK PREDICTION USING LSTM(KERAS)**\n"
      ]
    },
    {
      "cell_type": "markdown",
      "metadata": {
        "id": "ev5-W2HvWUpB"
      },
      "source": [
        "# **Importing necessary Libraries**"
      ]
    },
    {
      "cell_type": "code",
      "metadata": {
        "id": "sT7zcAoIcksy"
      },
      "source": [
        "import numpy as np\n",
        "import matplotlib.pyplot as plt\n",
        "import pandas as pd"
      ],
      "execution_count": null,
      "outputs": []
    },
    {
      "cell_type": "markdown",
      "metadata": {
        "id": "rnVYQZhNWcKe"
      },
      "source": [
        "# **Training Data Set**"
      ]
    },
    {
      "cell_type": "code",
      "metadata": {
        "colab": {
          "base_uri": "https://localhost:8080/",
          "height": 206
        },
        "id": "zxg_MYh3SOAk",
        "outputId": "78cc267f-3fbd-4be4-cbfe-35e6f0676b6f"
      },
      "source": [
        "traindata = pd.read_csv(\"./AMZNtrain.csv\")\n",
        "traindata.head()"
      ],
      "execution_count": null,
      "outputs": [
        {
          "output_type": "execute_result",
          "data": {
            "text/html": [
              "<div>\n",
              "<style scoped>\n",
              "    .dataframe tbody tr th:only-of-type {\n",
              "        vertical-align: middle;\n",
              "    }\n",
              "\n",
              "    .dataframe tbody tr th {\n",
              "        vertical-align: top;\n",
              "    }\n",
              "\n",
              "    .dataframe thead th {\n",
              "        text-align: right;\n",
              "    }\n",
              "</style>\n",
              "<table border=\"1\" class=\"dataframe\">\n",
              "  <thead>\n",
              "    <tr style=\"text-align: right;\">\n",
              "      <th></th>\n",
              "      <th>Date</th>\n",
              "      <th>Open</th>\n",
              "      <th>High</th>\n",
              "      <th>Low</th>\n",
              "      <th>Close</th>\n",
              "      <th>Adj Close</th>\n",
              "      <th>Volume</th>\n",
              "    </tr>\n",
              "  </thead>\n",
              "  <tbody>\n",
              "    <tr>\n",
              "      <th>0</th>\n",
              "      <td>2014-01-02</td>\n",
              "      <td>398.799988</td>\n",
              "      <td>399.359985</td>\n",
              "      <td>394.019989</td>\n",
              "      <td>397.970001</td>\n",
              "      <td>397.970001</td>\n",
              "      <td>2137800</td>\n",
              "    </tr>\n",
              "    <tr>\n",
              "      <th>1</th>\n",
              "      <td>2014-01-03</td>\n",
              "      <td>398.290009</td>\n",
              "      <td>402.709991</td>\n",
              "      <td>396.220001</td>\n",
              "      <td>396.440002</td>\n",
              "      <td>396.440002</td>\n",
              "      <td>2210200</td>\n",
              "    </tr>\n",
              "    <tr>\n",
              "      <th>2</th>\n",
              "      <td>2014-01-06</td>\n",
              "      <td>395.850006</td>\n",
              "      <td>397.000000</td>\n",
              "      <td>388.420013</td>\n",
              "      <td>393.630005</td>\n",
              "      <td>393.630005</td>\n",
              "      <td>3170600</td>\n",
              "    </tr>\n",
              "    <tr>\n",
              "      <th>3</th>\n",
              "      <td>2014-01-07</td>\n",
              "      <td>395.040009</td>\n",
              "      <td>398.470001</td>\n",
              "      <td>394.290009</td>\n",
              "      <td>398.029999</td>\n",
              "      <td>398.029999</td>\n",
              "      <td>1916000</td>\n",
              "    </tr>\n",
              "    <tr>\n",
              "      <th>4</th>\n",
              "      <td>2014-01-08</td>\n",
              "      <td>398.470001</td>\n",
              "      <td>403.000000</td>\n",
              "      <td>396.040009</td>\n",
              "      <td>401.920013</td>\n",
              "      <td>401.920013</td>\n",
              "      <td>2316500</td>\n",
              "    </tr>\n",
              "  </tbody>\n",
              "</table>\n",
              "</div>"
            ],
            "text/plain": [
              "         Date        Open        High  ...       Close   Adj Close   Volume\n",
              "0  2014-01-02  398.799988  399.359985  ...  397.970001  397.970001  2137800\n",
              "1  2014-01-03  398.290009  402.709991  ...  396.440002  396.440002  2210200\n",
              "2  2014-01-06  395.850006  397.000000  ...  393.630005  393.630005  3170600\n",
              "3  2014-01-07  395.040009  398.470001  ...  398.029999  398.029999  1916000\n",
              "4  2014-01-08  398.470001  403.000000  ...  401.920013  401.920013  2316500\n",
              "\n",
              "[5 rows x 7 columns]"
            ]
          },
          "metadata": {
            "tags": []
          },
          "execution_count": 2
        }
      ]
    },
    {
      "cell_type": "markdown",
      "metadata": {
        "id": "QPEpZlynWnQW"
      },
      "source": [
        "# **Testing Data Set**"
      ]
    },
    {
      "cell_type": "code",
      "metadata": {
        "colab": {
          "base_uri": "https://localhost:8080/",
          "height": 206
        },
        "id": "JVYD_bNkSg5d",
        "outputId": "07cc1482-4fd0-421a-e110-c2caaa0a2732"
      },
      "source": [
        "testdata = pd.read_csv(\"./AMZNtest.csv\")\n",
        "testdata.head()"
      ],
      "execution_count": null,
      "outputs": [
        {
          "output_type": "execute_result",
          "data": {
            "text/html": [
              "<div>\n",
              "<style scoped>\n",
              "    .dataframe tbody tr th:only-of-type {\n",
              "        vertical-align: middle;\n",
              "    }\n",
              "\n",
              "    .dataframe tbody tr th {\n",
              "        vertical-align: top;\n",
              "    }\n",
              "\n",
              "    .dataframe thead th {\n",
              "        text-align: right;\n",
              "    }\n",
              "</style>\n",
              "<table border=\"1\" class=\"dataframe\">\n",
              "  <thead>\n",
              "    <tr style=\"text-align: right;\">\n",
              "      <th></th>\n",
              "      <th>Date</th>\n",
              "      <th>Open</th>\n",
              "      <th>High</th>\n",
              "      <th>Low</th>\n",
              "      <th>Close</th>\n",
              "      <th>Adj Close</th>\n",
              "      <th>Volume</th>\n",
              "    </tr>\n",
              "  </thead>\n",
              "  <tbody>\n",
              "    <tr>\n",
              "      <th>0</th>\n",
              "      <td>2019-01-02</td>\n",
              "      <td>1465.199951</td>\n",
              "      <td>1553.359985</td>\n",
              "      <td>1460.930054</td>\n",
              "      <td>1539.130005</td>\n",
              "      <td>1539.130005</td>\n",
              "      <td>7983100</td>\n",
              "    </tr>\n",
              "    <tr>\n",
              "      <th>1</th>\n",
              "      <td>2019-01-03</td>\n",
              "      <td>1520.010010</td>\n",
              "      <td>1538.000000</td>\n",
              "      <td>1497.109985</td>\n",
              "      <td>1500.280029</td>\n",
              "      <td>1500.280029</td>\n",
              "      <td>6975600</td>\n",
              "    </tr>\n",
              "    <tr>\n",
              "      <th>2</th>\n",
              "      <td>2019-01-04</td>\n",
              "      <td>1530.000000</td>\n",
              "      <td>1594.000000</td>\n",
              "      <td>1518.310059</td>\n",
              "      <td>1575.390015</td>\n",
              "      <td>1575.390015</td>\n",
              "      <td>9182600</td>\n",
              "    </tr>\n",
              "    <tr>\n",
              "      <th>3</th>\n",
              "      <td>2019-01-07</td>\n",
              "      <td>1602.310059</td>\n",
              "      <td>1634.560059</td>\n",
              "      <td>1589.189941</td>\n",
              "      <td>1629.510010</td>\n",
              "      <td>1629.510010</td>\n",
              "      <td>7993200</td>\n",
              "    </tr>\n",
              "    <tr>\n",
              "      <th>4</th>\n",
              "      <td>2019-01-08</td>\n",
              "      <td>1664.689941</td>\n",
              "      <td>1676.609985</td>\n",
              "      <td>1616.609985</td>\n",
              "      <td>1656.579956</td>\n",
              "      <td>1656.579956</td>\n",
              "      <td>8881400</td>\n",
              "    </tr>\n",
              "  </tbody>\n",
              "</table>\n",
              "</div>"
            ],
            "text/plain": [
              "         Date         Open         High  ...        Close    Adj Close   Volume\n",
              "0  2019-01-02  1465.199951  1553.359985  ...  1539.130005  1539.130005  7983100\n",
              "1  2019-01-03  1520.010010  1538.000000  ...  1500.280029  1500.280029  6975600\n",
              "2  2019-01-04  1530.000000  1594.000000  ...  1575.390015  1575.390015  9182600\n",
              "3  2019-01-07  1602.310059  1634.560059  ...  1629.510010  1629.510010  7993200\n",
              "4  2019-01-08  1664.689941  1676.609985  ...  1656.579956  1656.579956  8881400\n",
              "\n",
              "[5 rows x 7 columns]"
            ]
          },
          "metadata": {
            "tags": []
          },
          "execution_count": 3
        }
      ]
    },
    {
      "cell_type": "markdown",
      "metadata": {
        "id": "URHQm4XdWrNU"
      },
      "source": [
        "# **Shapes of both data sets(Train , Test)**"
      ]
    },
    {
      "cell_type": "code",
      "metadata": {
        "colab": {
          "base_uri": "https://localhost:8080/"
        },
        "id": "wF6nBNrZU7Ux",
        "outputId": "6739a9e3-84b5-440f-d9e7-924e20d6dfd5"
      },
      "source": [
        "traindata.shape , testdata.shape"
      ],
      "execution_count": null,
      "outputs": [
        {
          "output_type": "execute_result",
          "data": {
            "text/plain": [
              "((1258, 7), (21, 7))"
            ]
          },
          "metadata": {
            "tags": []
          },
          "execution_count": 4
        }
      ]
    },
    {
      "cell_type": "markdown",
      "metadata": {
        "id": "5YZOISlTXUqo"
      },
      "source": [
        "# **Concatenating Datasers and Sorting**"
      ]
    },
    {
      "cell_type": "code",
      "metadata": {
        "id": "vMCJ0YqEVVlF",
        "colab": {
          "base_uri": "https://localhost:8080/"
        },
        "outputId": "a1a9fb30-f528-48ce-808f-9a27019203ad"
      },
      "source": [
        "data = pd.concat([traindata , testdata] , axis=0 , ignore_index=True)\n",
        "data.head"
      ],
      "execution_count": null,
      "outputs": [
        {
          "output_type": "execute_result",
          "data": {
            "text/plain": [
              "<bound method NDFrame.head of             Date         Open         High  ...        Close    Adj Close    Volume\n",
              "0     2014-01-02   398.799988   399.359985  ...   397.970001   397.970001   2137800\n",
              "1     2014-01-03   398.290009   402.709991  ...   396.440002   396.440002   2210200\n",
              "2     2014-01-06   395.850006   397.000000  ...   393.630005   393.630005   3170600\n",
              "3     2014-01-07   395.040009   398.470001  ...   398.029999   398.029999   1916000\n",
              "4     2014-01-08   398.470001   403.000000  ...   401.920013   401.920013   2316500\n",
              "...          ...          ...          ...  ...          ...          ...       ...\n",
              "1274  2019-01-25  1670.500000  1683.479980  ...  1670.569946  1670.569946   4945900\n",
              "1275  2019-01-28  1643.589966  1645.000000  ...  1637.890015  1637.890015   4837700\n",
              "1276  2019-01-29  1631.270020  1632.380005  ...  1593.880005  1593.880005   4632800\n",
              "1277  2019-01-30  1623.000000  1676.949951  ...  1670.430054  1670.430054   5783800\n",
              "1278  2019-01-31  1692.849976  1736.410034  ...  1718.729980  1718.729980  10910300\n",
              "\n",
              "[1279 rows x 7 columns]>"
            ]
          },
          "metadata": {
            "tags": []
          },
          "execution_count": 5
        }
      ]
    },
    {
      "cell_type": "code",
      "metadata": {
        "colab": {
          "base_uri": "https://localhost:8080/",
          "height": 293
        },
        "id": "SEFBWlNzXazd",
        "outputId": "db0c51c3-4549-4eac-8572-f45d98c0d592"
      },
      "source": [
        "for i in range(len(data)):\n",
        "  date = data[\"Date\"][i]\n",
        "  d = date.split(\"-\")\n",
        "  s = str(d[0]) + str(d[1]) + str(d[2])\n",
        "  data[\"Date\"][i] = s\n",
        "data.head()"
      ],
      "execution_count": null,
      "outputs": [
        {
          "output_type": "stream",
          "text": [
            "/usr/local/lib/python3.7/dist-packages/ipykernel_launcher.py:5: SettingWithCopyWarning: \n",
            "A value is trying to be set on a copy of a slice from a DataFrame\n",
            "\n",
            "See the caveats in the documentation: https://pandas.pydata.org/pandas-docs/stable/user_guide/indexing.html#returning-a-view-versus-a-copy\n",
            "  \"\"\"\n"
          ],
          "name": "stderr"
        },
        {
          "output_type": "execute_result",
          "data": {
            "text/html": [
              "<div>\n",
              "<style scoped>\n",
              "    .dataframe tbody tr th:only-of-type {\n",
              "        vertical-align: middle;\n",
              "    }\n",
              "\n",
              "    .dataframe tbody tr th {\n",
              "        vertical-align: top;\n",
              "    }\n",
              "\n",
              "    .dataframe thead th {\n",
              "        text-align: right;\n",
              "    }\n",
              "</style>\n",
              "<table border=\"1\" class=\"dataframe\">\n",
              "  <thead>\n",
              "    <tr style=\"text-align: right;\">\n",
              "      <th></th>\n",
              "      <th>Date</th>\n",
              "      <th>Open</th>\n",
              "      <th>High</th>\n",
              "      <th>Low</th>\n",
              "      <th>Close</th>\n",
              "      <th>Adj Close</th>\n",
              "      <th>Volume</th>\n",
              "    </tr>\n",
              "  </thead>\n",
              "  <tbody>\n",
              "    <tr>\n",
              "      <th>0</th>\n",
              "      <td>20140102</td>\n",
              "      <td>398.799988</td>\n",
              "      <td>399.359985</td>\n",
              "      <td>394.019989</td>\n",
              "      <td>397.970001</td>\n",
              "      <td>397.970001</td>\n",
              "      <td>2137800</td>\n",
              "    </tr>\n",
              "    <tr>\n",
              "      <th>1</th>\n",
              "      <td>20140103</td>\n",
              "      <td>398.290009</td>\n",
              "      <td>402.709991</td>\n",
              "      <td>396.220001</td>\n",
              "      <td>396.440002</td>\n",
              "      <td>396.440002</td>\n",
              "      <td>2210200</td>\n",
              "    </tr>\n",
              "    <tr>\n",
              "      <th>2</th>\n",
              "      <td>20140106</td>\n",
              "      <td>395.850006</td>\n",
              "      <td>397.000000</td>\n",
              "      <td>388.420013</td>\n",
              "      <td>393.630005</td>\n",
              "      <td>393.630005</td>\n",
              "      <td>3170600</td>\n",
              "    </tr>\n",
              "    <tr>\n",
              "      <th>3</th>\n",
              "      <td>20140107</td>\n",
              "      <td>395.040009</td>\n",
              "      <td>398.470001</td>\n",
              "      <td>394.290009</td>\n",
              "      <td>398.029999</td>\n",
              "      <td>398.029999</td>\n",
              "      <td>1916000</td>\n",
              "    </tr>\n",
              "    <tr>\n",
              "      <th>4</th>\n",
              "      <td>20140108</td>\n",
              "      <td>398.470001</td>\n",
              "      <td>403.000000</td>\n",
              "      <td>396.040009</td>\n",
              "      <td>401.920013</td>\n",
              "      <td>401.920013</td>\n",
              "      <td>2316500</td>\n",
              "    </tr>\n",
              "  </tbody>\n",
              "</table>\n",
              "</div>"
            ],
            "text/plain": [
              "       Date        Open        High  ...       Close   Adj Close   Volume\n",
              "0  20140102  398.799988  399.359985  ...  397.970001  397.970001  2137800\n",
              "1  20140103  398.290009  402.709991  ...  396.440002  396.440002  2210200\n",
              "2  20140106  395.850006  397.000000  ...  393.630005  393.630005  3170600\n",
              "3  20140107  395.040009  398.470001  ...  398.029999  398.029999  1916000\n",
              "4  20140108  398.470001  403.000000  ...  401.920013  401.920013  2316500\n",
              "\n",
              "[5 rows x 7 columns]"
            ]
          },
          "metadata": {
            "tags": []
          },
          "execution_count": 6
        }
      ]
    },
    {
      "cell_type": "code",
      "metadata": {
        "colab": {
          "base_uri": "https://localhost:8080/"
        },
        "id": "vl95h11OhUXG",
        "outputId": "f29ac528-1300-4966-baaa-06e30b5565b2"
      },
      "source": [
        "data = data.sort_index(ascending=True , axis=0)\n",
        "data.head"
      ],
      "execution_count": null,
      "outputs": [
        {
          "output_type": "execute_result",
          "data": {
            "text/plain": [
              "<bound method NDFrame.head of           Date         Open         High  ...        Close    Adj Close    Volume\n",
              "0     20140102   398.799988   399.359985  ...   397.970001   397.970001   2137800\n",
              "1     20140103   398.290009   402.709991  ...   396.440002   396.440002   2210200\n",
              "2     20140106   395.850006   397.000000  ...   393.630005   393.630005   3170600\n",
              "3     20140107   395.040009   398.470001  ...   398.029999   398.029999   1916000\n",
              "4     20140108   398.470001   403.000000  ...   401.920013   401.920013   2316500\n",
              "...        ...          ...          ...  ...          ...          ...       ...\n",
              "1274  20190125  1670.500000  1683.479980  ...  1670.569946  1670.569946   4945900\n",
              "1275  20190128  1643.589966  1645.000000  ...  1637.890015  1637.890015   4837700\n",
              "1276  20190129  1631.270020  1632.380005  ...  1593.880005  1593.880005   4632800\n",
              "1277  20190130  1623.000000  1676.949951  ...  1670.430054  1670.430054   5783800\n",
              "1278  20190131  1692.849976  1736.410034  ...  1718.729980  1718.729980  10910300\n",
              "\n",
              "[1279 rows x 7 columns]>"
            ]
          },
          "metadata": {
            "tags": []
          },
          "execution_count": 7
        }
      ]
    },
    {
      "cell_type": "markdown",
      "metadata": {
        "id": "cmL2H46GhxzR"
      },
      "source": [
        ""
      ]
    },
    {
      "cell_type": "markdown",
      "metadata": {
        "id": "WFvm1e-Vnsvt"
      },
      "source": [
        "# **Saving the DataFrame**"
      ]
    },
    {
      "cell_type": "code",
      "metadata": {
        "id": "oBruMR6WhxB7"
      },
      "source": [
        "data.to_csv(r'./AMZNTotalData.csv' , index=False)"
      ],
      "execution_count": null,
      "outputs": []
    },
    {
      "cell_type": "code",
      "metadata": {
        "colab": {
          "base_uri": "https://localhost:8080/"
        },
        "id": "wvQ5cI7ykyvr",
        "outputId": "f7be895a-0fa8-4cea-9a9e-30ec56e5e0cd"
      },
      "source": [
        "newdata = pd.read_csv(\"./AMZNTotalData.csv\")\n",
        "newdata.head"
      ],
      "execution_count": null,
      "outputs": [
        {
          "output_type": "execute_result",
          "data": {
            "text/plain": [
              "<bound method NDFrame.head of           Date         Open         High  ...        Close    Adj Close    Volume\n",
              "0     20140102   398.799988   399.359985  ...   397.970001   397.970001   2137800\n",
              "1     20140103   398.290009   402.709991  ...   396.440002   396.440002   2210200\n",
              "2     20140106   395.850006   397.000000  ...   393.630005   393.630005   3170600\n",
              "3     20140107   395.040009   398.470001  ...   398.029999   398.029999   1916000\n",
              "4     20140108   398.470001   403.000000  ...   401.920013   401.920013   2316500\n",
              "...        ...          ...          ...  ...          ...          ...       ...\n",
              "1274  20190125  1670.500000  1683.479980  ...  1670.569946  1670.569946   4945900\n",
              "1275  20190128  1643.589966  1645.000000  ...  1637.890015  1637.890015   4837700\n",
              "1276  20190129  1631.270020  1632.380005  ...  1593.880005  1593.880005   4632800\n",
              "1277  20190130  1623.000000  1676.949951  ...  1670.430054  1670.430054   5783800\n",
              "1278  20190131  1692.849976  1736.410034  ...  1718.729980  1718.729980  10910300\n",
              "\n",
              "[1279 rows x 7 columns]>"
            ]
          },
          "metadata": {
            "tags": []
          },
          "execution_count": 9
        }
      ]
    },
    {
      "cell_type": "markdown",
      "metadata": {
        "id": "37LGB3wEp93X"
      },
      "source": [
        "# **Test Train Split from the concatenated Data Set**"
      ]
    },
    {
      "cell_type": "code",
      "metadata": {
        "colab": {
          "base_uri": "https://localhost:8080/"
        },
        "id": "VZnXpPuIonv9",
        "outputId": "331982aa-0d39-4c90-a006-8288470105df"
      },
      "source": [
        "limit = np.random.rand((len(newdata)))<0.7\n",
        "train = newdata[limit]\n",
        "test = newdata[~limit]\n",
        "train.shape , test.shape"
      ],
      "execution_count": null,
      "outputs": [
        {
          "output_type": "execute_result",
          "data": {
            "text/plain": [
              "((919, 7), (360, 7))"
            ]
          },
          "metadata": {
            "tags": []
          },
          "execution_count": 10
        }
      ]
    },
    {
      "cell_type": "code",
      "metadata": {
        "colab": {
          "base_uri": "https://localhost:8080/"
        },
        "id": "AXTXV-D4qQot",
        "outputId": "ad20e27e-b99a-4aa9-934e-57717f273d02"
      },
      "source": [
        "newtrain = train[['Adj Close']]\n",
        "newtest = test[['Adj Close']]\n",
        "\n",
        "newtrain.shape , newtest.shape"
      ],
      "execution_count": null,
      "outputs": [
        {
          "output_type": "execute_result",
          "data": {
            "text/plain": [
              "((919, 1), (360, 1))"
            ]
          },
          "metadata": {
            "tags": []
          },
          "execution_count": 11
        }
      ]
    },
    {
      "cell_type": "markdown",
      "metadata": {
        "id": "OD7YgMi7yU3g"
      },
      "source": [
        "# **Scaling the Data**"
      ]
    },
    {
      "cell_type": "code",
      "metadata": {
        "id": "C5e02dL5-PoF"
      },
      "source": [
        "from sklearn.preprocessing import MinMaxScaler\n",
        "sc = MinMaxScaler(feature_range = (0, 1))\n",
        "\n",
        "newtrain = sc.fit_transform(newtrain)\n",
        "newtest = sc.fit_transform(newtest)\n",
        "\n",
        "newtrain = np.reshape(newtrain , (-1 , 1))\n",
        "newtest = np.reshape(newtest , (-1 , 1))"
      ],
      "execution_count": null,
      "outputs": []
    },
    {
      "cell_type": "markdown",
      "metadata": {
        "id": "N84K9DW2yepY"
      },
      "source": [
        "# **Preparing the Final data using timestep for LSTM**"
      ]
    },
    {
      "cell_type": "code",
      "metadata": {
        "id": "dAixTgSxeNNF"
      },
      "source": [
        "def final_data(data , timestep):\n",
        "  xdata , ydata = [] , []\n",
        "  l = len(data)\n",
        "  for i in range(l-timestep):\n",
        "    a = data[i : i+timestep , 0]\n",
        "    xdata.append(a)\n",
        "    ydata.append(data[i+timestep , 0])\n",
        "  return np.array(xdata) , np.array(ydata)\n",
        "\n",
        "\n",
        "\n",
        "timestep = 60\n",
        "xtrain  , ytrain = final_data(newtrain , timestep)\n",
        "xtest , ytest = final_data(newtest , timestep)"
      ],
      "execution_count": null,
      "outputs": []
    },
    {
      "cell_type": "code",
      "metadata": {
        "id": "JA1JwMQYh5GZ"
      },
      "source": [
        "xtrain = xtrain.reshape(xtrain.shape[0] , xtrain.shape[1] , 1)\n",
        "xtest = xtest.reshape(xtest.shape[0] , xtest.shape[1] , 1)\n",
        "#xtrain.shape\n",
        "#print(xtrain)"
      ],
      "execution_count": null,
      "outputs": []
    },
    {
      "cell_type": "markdown",
      "metadata": {
        "id": "3G-BglZkzh6V"
      },
      "source": [
        "# **Preparing Model**"
      ]
    },
    {
      "cell_type": "code",
      "metadata": {
        "id": "PC_0T-jFjw6E"
      },
      "source": [
        "from tensorflow.keras.models import Sequential\n",
        "from tensorflow.keras.layers import Dense , LSTM"
      ],
      "execution_count": null,
      "outputs": []
    },
    {
      "cell_type": "code",
      "metadata": {
        "id": "Ra1u6nyUkkVV"
      },
      "source": [
        "model = Sequential()\n",
        "model.add(LSTM(50 , return_sequences=True , input_shape=(60 , 1)))\n",
        "model.add(LSTM(50 , return_sequences=True))\n",
        "model.add(LSTM(50))\n",
        "model.add(Dense(1))\n",
        "model.compile(loss='mean_squared_error' , optimizer='adam')"
      ],
      "execution_count": null,
      "outputs": []
    },
    {
      "cell_type": "code",
      "metadata": {
        "colab": {
          "base_uri": "https://localhost:8080/"
        },
        "id": "SWzEihXDnLmu",
        "outputId": "6579e322-a980-4589-9c73-1a18c9d88772"
      },
      "source": [
        "model.summary()"
      ],
      "execution_count": null,
      "outputs": [
        {
          "output_type": "stream",
          "text": [
            "Model: \"sequential\"\n",
            "_________________________________________________________________\n",
            "Layer (type)                 Output Shape              Param #   \n",
            "=================================================================\n",
            "lstm (LSTM)                  (None, 60, 50)            10400     \n",
            "_________________________________________________________________\n",
            "lstm_1 (LSTM)                (None, 60, 50)            20200     \n",
            "_________________________________________________________________\n",
            "lstm_2 (LSTM)                (None, 50)                20200     \n",
            "_________________________________________________________________\n",
            "dense (Dense)                (None, 1)                 51        \n",
            "=================================================================\n",
            "Total params: 50,851\n",
            "Trainable params: 50,851\n",
            "Non-trainable params: 0\n",
            "_________________________________________________________________\n"
          ],
          "name": "stdout"
        }
      ]
    },
    {
      "cell_type": "markdown",
      "metadata": {
        "id": "5GUCkn8pzmYy"
      },
      "source": [
        "# **Fitting**"
      ]
    },
    {
      "cell_type": "code",
      "metadata": {
        "colab": {
          "base_uri": "https://localhost:8080/"
        },
        "id": "IESruTGgnRog",
        "outputId": "a4806b4a-531f-4dd9-bc3f-f649ef34e1bc"
      },
      "source": [
        "model.fit(xtrain , ytrain , validation_data=(xtest , ytest) , epochs=300 , batch_size=64 , verbose=1)"
      ],
      "execution_count": null,
      "outputs": [
        {
          "output_type": "stream",
          "text": [
            "Epoch 1/300\n",
            "14/14 [==============================] - 8s 205ms/step - loss: 0.0739 - val_loss: 0.0126\n",
            "Epoch 2/300\n",
            "14/14 [==============================] - 2s 117ms/step - loss: 0.0102 - val_loss: 0.0034\n",
            "Epoch 3/300\n",
            "14/14 [==============================] - 2s 117ms/step - loss: 0.0024 - val_loss: 0.0034\n",
            "Epoch 4/300\n",
            "14/14 [==============================] - 2s 114ms/step - loss: 0.0015 - val_loss: 0.0028\n",
            "Epoch 5/300\n",
            "14/14 [==============================] - 2s 114ms/step - loss: 0.0012 - val_loss: 0.0031\n",
            "Epoch 6/300\n",
            "14/14 [==============================] - 2s 117ms/step - loss: 0.0012 - val_loss: 0.0031\n",
            "Epoch 7/300\n",
            "14/14 [==============================] - 2s 116ms/step - loss: 0.0013 - val_loss: 0.0030\n",
            "Epoch 8/300\n",
            "14/14 [==============================] - 2s 114ms/step - loss: 0.0011 - val_loss: 0.0030\n",
            "Epoch 9/300\n",
            "14/14 [==============================] - 2s 114ms/step - loss: 0.0011 - val_loss: 0.0028\n",
            "Epoch 10/300\n",
            "14/14 [==============================] - 2s 116ms/step - loss: 0.0011 - val_loss: 0.0030\n",
            "Epoch 11/300\n",
            "14/14 [==============================] - 2s 115ms/step - loss: 0.0011 - val_loss: 0.0026\n",
            "Epoch 12/300\n",
            "14/14 [==============================] - 2s 115ms/step - loss: 0.0011 - val_loss: 0.0028\n",
            "Epoch 13/300\n",
            "14/14 [==============================] - 2s 114ms/step - loss: 0.0010 - val_loss: 0.0029\n",
            "Epoch 14/300\n",
            "14/14 [==============================] - 2s 116ms/step - loss: 0.0011 - val_loss: 0.0025\n",
            "Epoch 15/300\n",
            "14/14 [==============================] - 2s 115ms/step - loss: 0.0012 - val_loss: 0.0024\n",
            "Epoch 16/300\n",
            "14/14 [==============================] - 2s 116ms/step - loss: 0.0010 - val_loss: 0.0023\n",
            "Epoch 17/300\n",
            "14/14 [==============================] - 2s 115ms/step - loss: 0.0010 - val_loss: 0.0023\n",
            "Epoch 18/300\n",
            "14/14 [==============================] - 2s 114ms/step - loss: 0.0010 - val_loss: 0.0023\n",
            "Epoch 19/300\n",
            "14/14 [==============================] - 2s 113ms/step - loss: 9.7634e-04 - val_loss: 0.0022\n",
            "Epoch 20/300\n",
            "14/14 [==============================] - 2s 114ms/step - loss: 0.0010 - val_loss: 0.0022\n",
            "Epoch 21/300\n",
            "14/14 [==============================] - 2s 118ms/step - loss: 9.4451e-04 - val_loss: 0.0025\n",
            "Epoch 22/300\n",
            "14/14 [==============================] - 2s 116ms/step - loss: 9.2123e-04 - val_loss: 0.0023\n",
            "Epoch 23/300\n",
            "14/14 [==============================] - 2s 116ms/step - loss: 8.6913e-04 - val_loss: 0.0021\n",
            "Epoch 24/300\n",
            "14/14 [==============================] - 2s 118ms/step - loss: 8.5333e-04 - val_loss: 0.0020\n",
            "Epoch 25/300\n",
            "14/14 [==============================] - 2s 115ms/step - loss: 8.5418e-04 - val_loss: 0.0021\n",
            "Epoch 26/300\n",
            "14/14 [==============================] - 2s 118ms/step - loss: 8.1630e-04 - val_loss: 0.0020\n",
            "Epoch 27/300\n",
            "14/14 [==============================] - 2s 119ms/step - loss: 9.5769e-04 - val_loss: 0.0023\n",
            "Epoch 28/300\n",
            "14/14 [==============================] - 2s 115ms/step - loss: 8.4779e-04 - val_loss: 0.0022\n",
            "Epoch 29/300\n",
            "14/14 [==============================] - 2s 117ms/step - loss: 9.5190e-04 - val_loss: 0.0020\n",
            "Epoch 30/300\n",
            "14/14 [==============================] - 2s 115ms/step - loss: 8.3690e-04 - val_loss: 0.0018\n",
            "Epoch 31/300\n",
            "14/14 [==============================] - 2s 114ms/step - loss: 7.9006e-04 - val_loss: 0.0018\n",
            "Epoch 32/300\n",
            "14/14 [==============================] - 2s 118ms/step - loss: 9.4041e-04 - val_loss: 0.0018\n",
            "Epoch 33/300\n",
            "14/14 [==============================] - 2s 118ms/step - loss: 9.6644e-04 - val_loss: 0.0021\n",
            "Epoch 34/300\n",
            "14/14 [==============================] - 2s 116ms/step - loss: 0.0010 - val_loss: 0.0023\n",
            "Epoch 35/300\n",
            "14/14 [==============================] - 2s 122ms/step - loss: 8.7657e-04 - val_loss: 0.0019\n",
            "Epoch 36/300\n",
            "14/14 [==============================] - 2s 117ms/step - loss: 8.6655e-04 - val_loss: 0.0017\n",
            "Epoch 37/300\n",
            "14/14 [==============================] - 2s 113ms/step - loss: 8.6105e-04 - val_loss: 0.0019\n",
            "Epoch 38/300\n",
            "14/14 [==============================] - 2s 118ms/step - loss: 7.5970e-04 - val_loss: 0.0017\n",
            "Epoch 39/300\n",
            "14/14 [==============================] - 2s 113ms/step - loss: 7.8330e-04 - val_loss: 0.0019\n",
            "Epoch 40/300\n",
            "14/14 [==============================] - 2s 116ms/step - loss: 8.4257e-04 - val_loss: 0.0018\n",
            "Epoch 41/300\n",
            "14/14 [==============================] - 2s 114ms/step - loss: 8.8352e-04 - val_loss: 0.0021\n",
            "Epoch 42/300\n",
            "14/14 [==============================] - 2s 117ms/step - loss: 8.3527e-04 - val_loss: 0.0018\n",
            "Epoch 43/300\n",
            "14/14 [==============================] - 2s 116ms/step - loss: 8.2001e-04 - val_loss: 0.0016\n",
            "Epoch 44/300\n",
            "14/14 [==============================] - 2s 114ms/step - loss: 7.2191e-04 - val_loss: 0.0015\n",
            "Epoch 45/300\n",
            "14/14 [==============================] - 2s 117ms/step - loss: 7.2749e-04 - val_loss: 0.0017\n",
            "Epoch 46/300\n",
            "14/14 [==============================] - 2s 116ms/step - loss: 7.1916e-04 - val_loss: 0.0016\n",
            "Epoch 47/300\n",
            "14/14 [==============================] - 2s 114ms/step - loss: 7.1806e-04 - val_loss: 0.0019\n",
            "Epoch 48/300\n",
            "14/14 [==============================] - 2s 120ms/step - loss: 7.2829e-04 - val_loss: 0.0017\n",
            "Epoch 49/300\n",
            "14/14 [==============================] - 2s 115ms/step - loss: 7.1245e-04 - val_loss: 0.0015\n",
            "Epoch 50/300\n",
            "14/14 [==============================] - 2s 114ms/step - loss: 6.4371e-04 - val_loss: 0.0017\n",
            "Epoch 51/300\n",
            "14/14 [==============================] - 2s 115ms/step - loss: 7.3467e-04 - val_loss: 0.0017\n",
            "Epoch 52/300\n",
            "14/14 [==============================] - 2s 117ms/step - loss: 6.8912e-04 - val_loss: 0.0015\n",
            "Epoch 53/300\n",
            "14/14 [==============================] - 2s 116ms/step - loss: 6.6412e-04 - val_loss: 0.0016\n",
            "Epoch 54/300\n",
            "14/14 [==============================] - 2s 115ms/step - loss: 7.8798e-04 - val_loss: 0.0015\n",
            "Epoch 55/300\n",
            "14/14 [==============================] - 2s 114ms/step - loss: 7.4095e-04 - val_loss: 0.0014\n",
            "Epoch 56/300\n",
            "14/14 [==============================] - 2s 113ms/step - loss: 7.0965e-04 - val_loss: 0.0016\n",
            "Epoch 57/300\n",
            "14/14 [==============================] - 2s 116ms/step - loss: 6.5664e-04 - val_loss: 0.0015\n",
            "Epoch 58/300\n",
            "14/14 [==============================] - 2s 115ms/step - loss: 6.4675e-04 - val_loss: 0.0014\n",
            "Epoch 59/300\n",
            "14/14 [==============================] - 2s 114ms/step - loss: 6.5871e-04 - val_loss: 0.0016\n",
            "Epoch 60/300\n",
            "14/14 [==============================] - 2s 116ms/step - loss: 6.1799e-04 - val_loss: 0.0015\n",
            "Epoch 61/300\n",
            "14/14 [==============================] - 2s 116ms/step - loss: 6.2311e-04 - val_loss: 0.0015\n",
            "Epoch 62/300\n",
            "14/14 [==============================] - 2s 119ms/step - loss: 6.4869e-04 - val_loss: 0.0016\n",
            "Epoch 63/300\n",
            "14/14 [==============================] - 2s 116ms/step - loss: 6.3340e-04 - val_loss: 0.0017\n",
            "Epoch 64/300\n",
            "14/14 [==============================] - 2s 114ms/step - loss: 7.0540e-04 - val_loss: 0.0017\n",
            "Epoch 65/300\n",
            "14/14 [==============================] - 2s 120ms/step - loss: 7.3243e-04 - val_loss: 0.0014\n",
            "Epoch 66/300\n",
            "14/14 [==============================] - 2s 118ms/step - loss: 6.3173e-04 - val_loss: 0.0013\n",
            "Epoch 67/300\n",
            "14/14 [==============================] - 2s 124ms/step - loss: 6.6535e-04 - val_loss: 0.0014\n",
            "Epoch 68/300\n",
            "14/14 [==============================] - 2s 122ms/step - loss: 6.9251e-04 - val_loss: 0.0016\n",
            "Epoch 69/300\n",
            "14/14 [==============================] - 2s 118ms/step - loss: 7.5015e-04 - val_loss: 0.0019\n",
            "Epoch 70/300\n",
            "14/14 [==============================] - 2s 117ms/step - loss: 6.6992e-04 - val_loss: 0.0016\n",
            "Epoch 71/300\n",
            "14/14 [==============================] - 2s 117ms/step - loss: 6.3874e-04 - val_loss: 0.0012\n",
            "Epoch 72/300\n",
            "14/14 [==============================] - 2s 120ms/step - loss: 6.5186e-04 - val_loss: 0.0018\n",
            "Epoch 73/300\n",
            "14/14 [==============================] - 2s 119ms/step - loss: 7.0210e-04 - val_loss: 0.0016\n",
            "Epoch 74/300\n",
            "14/14 [==============================] - 2s 121ms/step - loss: 6.6704e-04 - val_loss: 0.0013\n",
            "Epoch 75/300\n",
            "14/14 [==============================] - 2s 117ms/step - loss: 5.7574e-04 - val_loss: 0.0013\n",
            "Epoch 76/300\n",
            "14/14 [==============================] - 2s 117ms/step - loss: 5.6113e-04 - val_loss: 0.0013\n",
            "Epoch 77/300\n",
            "14/14 [==============================] - 2s 118ms/step - loss: 6.0867e-04 - val_loss: 0.0013\n",
            "Epoch 78/300\n",
            "14/14 [==============================] - 2s 119ms/step - loss: 6.2517e-04 - val_loss: 0.0013\n",
            "Epoch 79/300\n",
            "14/14 [==============================] - 2s 119ms/step - loss: 5.5295e-04 - val_loss: 0.0012\n",
            "Epoch 80/300\n",
            "14/14 [==============================] - 2s 121ms/step - loss: 5.3429e-04 - val_loss: 0.0011\n",
            "Epoch 81/300\n",
            "14/14 [==============================] - 2s 119ms/step - loss: 5.3340e-04 - val_loss: 0.0013\n",
            "Epoch 82/300\n",
            "14/14 [==============================] - 2s 123ms/step - loss: 6.1394e-04 - val_loss: 0.0014\n",
            "Epoch 83/300\n",
            "14/14 [==============================] - 2s 118ms/step - loss: 6.3808e-04 - val_loss: 0.0017\n",
            "Epoch 84/300\n",
            "14/14 [==============================] - 2s 117ms/step - loss: 6.5727e-04 - val_loss: 0.0012\n",
            "Epoch 85/300\n",
            "14/14 [==============================] - 2s 117ms/step - loss: 5.0878e-04 - val_loss: 0.0012\n",
            "Epoch 86/300\n",
            "14/14 [==============================] - 2s 119ms/step - loss: 5.2558e-04 - val_loss: 0.0012\n",
            "Epoch 87/300\n",
            "14/14 [==============================] - 2s 117ms/step - loss: 5.8324e-04 - val_loss: 0.0012\n",
            "Epoch 88/300\n",
            "14/14 [==============================] - 2s 123ms/step - loss: 5.3777e-04 - val_loss: 0.0011\n",
            "Epoch 89/300\n",
            "14/14 [==============================] - 2s 116ms/step - loss: 5.6049e-04 - val_loss: 0.0012\n",
            "Epoch 90/300\n",
            "14/14 [==============================] - 2s 119ms/step - loss: 4.8778e-04 - val_loss: 0.0012\n",
            "Epoch 91/300\n",
            "14/14 [==============================] - 2s 119ms/step - loss: 5.0242e-04 - val_loss: 0.0012\n",
            "Epoch 92/300\n",
            "14/14 [==============================] - 2s 119ms/step - loss: 5.2081e-04 - val_loss: 9.9169e-04\n",
            "Epoch 93/300\n",
            "14/14 [==============================] - 2s 123ms/step - loss: 4.7793e-04 - val_loss: 0.0011\n",
            "Epoch 94/300\n",
            "14/14 [==============================] - 2s 116ms/step - loss: 4.5277e-04 - val_loss: 0.0011\n",
            "Epoch 95/300\n",
            "14/14 [==============================] - 2s 119ms/step - loss: 4.7463e-04 - val_loss: 0.0012\n",
            "Epoch 96/300\n",
            "14/14 [==============================] - 2s 118ms/step - loss: 4.3266e-04 - val_loss: 0.0011\n",
            "Epoch 97/300\n",
            "14/14 [==============================] - 2s 117ms/step - loss: 4.4119e-04 - val_loss: 0.0012\n",
            "Epoch 98/300\n",
            "14/14 [==============================] - 2s 125ms/step - loss: 4.9961e-04 - val_loss: 0.0012\n",
            "Epoch 99/300\n",
            "14/14 [==============================] - 2s 119ms/step - loss: 5.3805e-04 - val_loss: 0.0012\n",
            "Epoch 100/300\n",
            "14/14 [==============================] - 2s 116ms/step - loss: 4.6651e-04 - val_loss: 0.0012\n",
            "Epoch 101/300\n",
            "14/14 [==============================] - 2s 122ms/step - loss: 4.5136e-04 - val_loss: 9.1232e-04\n",
            "Epoch 102/300\n",
            "14/14 [==============================] - 2s 118ms/step - loss: 4.0930e-04 - val_loss: 9.9749e-04\n",
            "Epoch 103/300\n",
            "14/14 [==============================] - 2s 119ms/step - loss: 4.0034e-04 - val_loss: 9.6540e-04\n",
            "Epoch 104/300\n",
            "14/14 [==============================] - 2s 119ms/step - loss: 3.9059e-04 - val_loss: 9.1373e-04\n",
            "Epoch 105/300\n",
            "14/14 [==============================] - 2s 121ms/step - loss: 3.7541e-04 - val_loss: 9.6554e-04\n",
            "Epoch 106/300\n",
            "14/14 [==============================] - 2s 120ms/step - loss: 4.0907e-04 - val_loss: 9.7704e-04\n",
            "Epoch 107/300\n",
            "14/14 [==============================] - 2s 117ms/step - loss: 4.1431e-04 - val_loss: 0.0010\n",
            "Epoch 108/300\n",
            "14/14 [==============================] - 2s 120ms/step - loss: 4.1282e-04 - val_loss: 9.1907e-04\n",
            "Epoch 109/300\n",
            "14/14 [==============================] - 2s 120ms/step - loss: 4.6630e-04 - val_loss: 0.0010\n",
            "Epoch 110/300\n",
            "14/14 [==============================] - 2s 120ms/step - loss: 4.1486e-04 - val_loss: 0.0013\n",
            "Epoch 111/300\n",
            "14/14 [==============================] - 2s 123ms/step - loss: 4.0758e-04 - val_loss: 9.0826e-04\n",
            "Epoch 112/300\n",
            "14/14 [==============================] - 2s 122ms/step - loss: 3.5832e-04 - val_loss: 9.3096e-04\n",
            "Epoch 113/300\n",
            "14/14 [==============================] - 2s 123ms/step - loss: 3.7883e-04 - val_loss: 8.5285e-04\n",
            "Epoch 114/300\n",
            "14/14 [==============================] - 2s 121ms/step - loss: 3.4237e-04 - val_loss: 8.9342e-04\n",
            "Epoch 115/300\n",
            "14/14 [==============================] - 2s 122ms/step - loss: 3.7350e-04 - val_loss: 9.0566e-04\n",
            "Epoch 116/300\n",
            "14/14 [==============================] - 2s 118ms/step - loss: 3.7946e-04 - val_loss: 0.0011\n",
            "Epoch 117/300\n",
            "14/14 [==============================] - 2s 123ms/step - loss: 4.0423e-04 - val_loss: 0.0011\n",
            "Epoch 118/300\n",
            "14/14 [==============================] - 2s 121ms/step - loss: 3.7851e-04 - val_loss: 0.0011\n",
            "Epoch 119/300\n",
            "14/14 [==============================] - 2s 120ms/step - loss: 4.2325e-04 - val_loss: 9.2366e-04\n",
            "Epoch 120/300\n",
            "14/14 [==============================] - 2s 119ms/step - loss: 3.5379e-04 - val_loss: 9.8389e-04\n",
            "Epoch 121/300\n",
            "14/14 [==============================] - 2s 123ms/step - loss: 3.9206e-04 - val_loss: 9.0102e-04\n",
            "Epoch 122/300\n",
            "14/14 [==============================] - 2s 117ms/step - loss: 3.6118e-04 - val_loss: 7.9181e-04\n",
            "Epoch 123/300\n",
            "14/14 [==============================] - 2s 122ms/step - loss: 3.2052e-04 - val_loss: 8.6636e-04\n",
            "Epoch 124/300\n",
            "14/14 [==============================] - 2s 120ms/step - loss: 3.4815e-04 - val_loss: 7.7711e-04\n",
            "Epoch 125/300\n",
            "14/14 [==============================] - 2s 117ms/step - loss: 3.1716e-04 - val_loss: 8.2469e-04\n",
            "Epoch 126/300\n",
            "14/14 [==============================] - 2s 122ms/step - loss: 4.4544e-04 - val_loss: 7.4578e-04\n",
            "Epoch 127/300\n",
            "14/14 [==============================] - 2s 121ms/step - loss: 5.7009e-04 - val_loss: 0.0012\n",
            "Epoch 128/300\n",
            "14/14 [==============================] - 2s 119ms/step - loss: 5.5998e-04 - val_loss: 0.0011\n",
            "Epoch 129/300\n",
            "14/14 [==============================] - 2s 117ms/step - loss: 3.6850e-04 - val_loss: 8.7468e-04\n",
            "Epoch 130/300\n",
            "14/14 [==============================] - 2s 123ms/step - loss: 3.4604e-04 - val_loss: 8.5056e-04\n",
            "Epoch 131/300\n",
            "14/14 [==============================] - 2s 120ms/step - loss: 3.1611e-04 - val_loss: 7.9706e-04\n",
            "Epoch 132/300\n",
            "14/14 [==============================] - 2s 121ms/step - loss: 3.1193e-04 - val_loss: 7.7981e-04\n",
            "Epoch 133/300\n",
            "14/14 [==============================] - 2s 123ms/step - loss: 3.1071e-04 - val_loss: 8.3983e-04\n",
            "Epoch 134/300\n",
            "14/14 [==============================] - 2s 122ms/step - loss: 3.3283e-04 - val_loss: 7.9499e-04\n",
            "Epoch 135/300\n",
            "14/14 [==============================] - 2s 124ms/step - loss: 3.3566e-04 - val_loss: 9.4839e-04\n",
            "Epoch 136/300\n",
            "14/14 [==============================] - 2s 124ms/step - loss: 3.5451e-04 - val_loss: 0.0011\n",
            "Epoch 137/300\n",
            "14/14 [==============================] - 2s 118ms/step - loss: 3.8877e-04 - val_loss: 8.7507e-04\n",
            "Epoch 138/300\n",
            "14/14 [==============================] - 2s 122ms/step - loss: 3.8179e-04 - val_loss: 7.9695e-04\n",
            "Epoch 139/300\n",
            "14/14 [==============================] - 2s 123ms/step - loss: 3.1002e-04 - val_loss: 7.1105e-04\n",
            "Epoch 140/300\n",
            "14/14 [==============================] - 2s 121ms/step - loss: 2.9203e-04 - val_loss: 8.2543e-04\n",
            "Epoch 141/300\n",
            "14/14 [==============================] - 2s 123ms/step - loss: 2.8874e-04 - val_loss: 7.3202e-04\n",
            "Epoch 142/300\n",
            "14/14 [==============================] - 2s 124ms/step - loss: 3.2341e-04 - val_loss: 9.5425e-04\n",
            "Epoch 143/300\n",
            "14/14 [==============================] - 2s 125ms/step - loss: 3.4720e-04 - val_loss: 8.1832e-04\n",
            "Epoch 144/300\n",
            "14/14 [==============================] - 2s 126ms/step - loss: 2.9933e-04 - val_loss: 7.1883e-04\n",
            "Epoch 145/300\n",
            "14/14 [==============================] - 2s 123ms/step - loss: 2.8827e-04 - val_loss: 7.2698e-04\n",
            "Epoch 146/300\n",
            "14/14 [==============================] - 2s 125ms/step - loss: 3.0545e-04 - val_loss: 7.0912e-04\n",
            "Epoch 147/300\n",
            "14/14 [==============================] - 2s 123ms/step - loss: 2.6835e-04 - val_loss: 7.1437e-04\n",
            "Epoch 148/300\n",
            "14/14 [==============================] - 2s 125ms/step - loss: 3.3595e-04 - val_loss: 7.9387e-04\n",
            "Epoch 149/300\n",
            "14/14 [==============================] - 2s 118ms/step - loss: 3.0547e-04 - val_loss: 8.7977e-04\n",
            "Epoch 150/300\n",
            "14/14 [==============================] - 2s 120ms/step - loss: 3.9209e-04 - val_loss: 0.0010\n",
            "Epoch 151/300\n",
            "14/14 [==============================] - 2s 121ms/step - loss: 4.0162e-04 - val_loss: 6.8060e-04\n",
            "Epoch 152/300\n",
            "14/14 [==============================] - 2s 121ms/step - loss: 2.9043e-04 - val_loss: 7.5317e-04\n",
            "Epoch 153/300\n",
            "14/14 [==============================] - 2s 117ms/step - loss: 2.9888e-04 - val_loss: 6.6449e-04\n",
            "Epoch 154/300\n",
            "14/14 [==============================] - 2s 127ms/step - loss: 2.7208e-04 - val_loss: 7.0765e-04\n",
            "Epoch 155/300\n",
            "14/14 [==============================] - 2s 120ms/step - loss: 2.6628e-04 - val_loss: 6.5030e-04\n",
            "Epoch 156/300\n",
            "14/14 [==============================] - 2s 118ms/step - loss: 2.6040e-04 - val_loss: 6.7771e-04\n",
            "Epoch 157/300\n",
            "14/14 [==============================] - 2s 124ms/step - loss: 2.6646e-04 - val_loss: 7.3463e-04\n",
            "Epoch 158/300\n",
            "14/14 [==============================] - 2s 118ms/step - loss: 2.9108e-04 - val_loss: 6.6267e-04\n",
            "Epoch 159/300\n",
            "14/14 [==============================] - 2s 123ms/step - loss: 2.5626e-04 - val_loss: 6.3421e-04\n",
            "Epoch 160/300\n",
            "14/14 [==============================] - 2s 125ms/step - loss: 2.7103e-04 - val_loss: 6.6434e-04\n",
            "Epoch 161/300\n",
            "14/14 [==============================] - 2s 121ms/step - loss: 2.6939e-04 - val_loss: 6.6425e-04\n",
            "Epoch 162/300\n",
            "14/14 [==============================] - 2s 121ms/step - loss: 2.6656e-04 - val_loss: 6.5513e-04\n",
            "Epoch 163/300\n",
            "14/14 [==============================] - 2s 119ms/step - loss: 2.7902e-04 - val_loss: 6.2763e-04\n",
            "Epoch 164/300\n",
            "14/14 [==============================] - 2s 121ms/step - loss: 2.9462e-04 - val_loss: 6.0754e-04\n",
            "Epoch 165/300\n",
            "14/14 [==============================] - 2s 117ms/step - loss: 3.2332e-04 - val_loss: 6.6029e-04\n",
            "Epoch 166/300\n",
            "14/14 [==============================] - 2s 120ms/step - loss: 3.3239e-04 - val_loss: 6.9335e-04\n",
            "Epoch 167/300\n",
            "14/14 [==============================] - 2s 127ms/step - loss: 2.5337e-04 - val_loss: 6.3944e-04\n",
            "Epoch 168/300\n",
            "14/14 [==============================] - 2s 122ms/step - loss: 2.6348e-04 - val_loss: 6.6698e-04\n",
            "Epoch 169/300\n",
            "14/14 [==============================] - 2s 123ms/step - loss: 2.6125e-04 - val_loss: 7.6091e-04\n",
            "Epoch 170/300\n",
            "14/14 [==============================] - 2s 123ms/step - loss: 2.7465e-04 - val_loss: 6.3287e-04\n",
            "Epoch 171/300\n",
            "14/14 [==============================] - 2s 119ms/step - loss: 2.6044e-04 - val_loss: 7.0521e-04\n",
            "Epoch 172/300\n",
            "14/14 [==============================] - 2s 123ms/step - loss: 2.7478e-04 - val_loss: 7.1898e-04\n",
            "Epoch 173/300\n",
            "14/14 [==============================] - 2s 121ms/step - loss: 2.6049e-04 - val_loss: 6.0069e-04\n",
            "Epoch 174/300\n",
            "14/14 [==============================] - 2s 123ms/step - loss: 2.4732e-04 - val_loss: 7.1839e-04\n",
            "Epoch 175/300\n",
            "14/14 [==============================] - 2s 124ms/step - loss: 2.5920e-04 - val_loss: 6.3125e-04\n",
            "Epoch 176/300\n",
            "14/14 [==============================] - 2s 120ms/step - loss: 2.9748e-04 - val_loss: 6.6844e-04\n",
            "Epoch 177/300\n",
            "14/14 [==============================] - 2s 124ms/step - loss: 2.5144e-04 - val_loss: 5.9055e-04\n",
            "Epoch 178/300\n",
            "14/14 [==============================] - 2s 123ms/step - loss: 2.4829e-04 - val_loss: 5.9490e-04\n",
            "Epoch 179/300\n",
            "14/14 [==============================] - 2s 121ms/step - loss: 2.4584e-04 - val_loss: 6.3473e-04\n",
            "Epoch 180/300\n",
            "14/14 [==============================] - 2s 118ms/step - loss: 2.9378e-04 - val_loss: 6.3876e-04\n",
            "Epoch 181/300\n",
            "14/14 [==============================] - 2s 126ms/step - loss: 2.6377e-04 - val_loss: 6.0421e-04\n",
            "Epoch 182/300\n",
            "14/14 [==============================] - 2s 116ms/step - loss: 2.5058e-04 - val_loss: 6.1437e-04\n",
            "Epoch 183/300\n",
            "14/14 [==============================] - 2s 117ms/step - loss: 2.4151e-04 - val_loss: 5.9928e-04\n",
            "Epoch 184/300\n",
            "14/14 [==============================] - 2s 118ms/step - loss: 3.0468e-04 - val_loss: 5.5933e-04\n",
            "Epoch 185/300\n",
            "14/14 [==============================] - 2s 121ms/step - loss: 3.3168e-04 - val_loss: 6.1221e-04\n",
            "Epoch 186/300\n",
            "14/14 [==============================] - 2s 118ms/step - loss: 2.4459e-04 - val_loss: 5.6829e-04\n",
            "Epoch 187/300\n",
            "14/14 [==============================] - 2s 121ms/step - loss: 2.3247e-04 - val_loss: 5.8987e-04\n",
            "Epoch 188/300\n",
            "14/14 [==============================] - 2s 122ms/step - loss: 2.4067e-04 - val_loss: 5.6933e-04\n",
            "Epoch 189/300\n",
            "14/14 [==============================] - 2s 119ms/step - loss: 2.3526e-04 - val_loss: 5.5472e-04\n",
            "Epoch 190/300\n",
            "14/14 [==============================] - 2s 119ms/step - loss: 2.3505e-04 - val_loss: 5.7123e-04\n",
            "Epoch 191/300\n",
            "14/14 [==============================] - 2s 121ms/step - loss: 2.3668e-04 - val_loss: 5.4833e-04\n",
            "Epoch 192/300\n",
            "14/14 [==============================] - 2s 121ms/step - loss: 2.4527e-04 - val_loss: 6.7845e-04\n",
            "Epoch 193/300\n",
            "14/14 [==============================] - 2s 125ms/step - loss: 3.3219e-04 - val_loss: 6.7173e-04\n",
            "Epoch 194/300\n",
            "14/14 [==============================] - 2s 119ms/step - loss: 3.1235e-04 - val_loss: 6.6111e-04\n",
            "Epoch 195/300\n",
            "14/14 [==============================] - 2s 119ms/step - loss: 3.3845e-04 - val_loss: 5.9110e-04\n",
            "Epoch 196/300\n",
            "14/14 [==============================] - 2s 123ms/step - loss: 2.9630e-04 - val_loss: 5.6532e-04\n",
            "Epoch 197/300\n",
            "14/14 [==============================] - 2s 121ms/step - loss: 2.5752e-04 - val_loss: 5.7440e-04\n",
            "Epoch 198/300\n",
            "14/14 [==============================] - 2s 120ms/step - loss: 2.7536e-04 - val_loss: 8.4819e-04\n",
            "Epoch 199/300\n",
            "14/14 [==============================] - 2s 119ms/step - loss: 3.3611e-04 - val_loss: 5.3755e-04\n",
            "Epoch 200/300\n",
            "14/14 [==============================] - 2s 119ms/step - loss: 2.2963e-04 - val_loss: 6.1965e-04\n",
            "Epoch 201/300\n",
            "14/14 [==============================] - 2s 120ms/step - loss: 2.3958e-04 - val_loss: 6.3810e-04\n",
            "Epoch 202/300\n",
            "14/14 [==============================] - 2s 122ms/step - loss: 2.8099e-04 - val_loss: 6.7052e-04\n",
            "Epoch 203/300\n",
            "14/14 [==============================] - 2s 123ms/step - loss: 3.3362e-04 - val_loss: 5.6898e-04\n",
            "Epoch 204/300\n",
            "14/14 [==============================] - 2s 123ms/step - loss: 2.3586e-04 - val_loss: 5.8932e-04\n",
            "Epoch 205/300\n",
            "14/14 [==============================] - 2s 122ms/step - loss: 2.4407e-04 - val_loss: 5.5047e-04\n",
            "Epoch 206/300\n",
            "14/14 [==============================] - 2s 119ms/step - loss: 2.6165e-04 - val_loss: 5.6256e-04\n",
            "Epoch 207/300\n",
            "14/14 [==============================] - 2s 123ms/step - loss: 2.5166e-04 - val_loss: 5.6573e-04\n",
            "Epoch 208/300\n",
            "14/14 [==============================] - 2s 149ms/step - loss: 2.2674e-04 - val_loss: 6.3021e-04\n",
            "Epoch 209/300\n",
            "14/14 [==============================] - 2s 145ms/step - loss: 2.6766e-04 - val_loss: 5.4440e-04\n",
            "Epoch 210/300\n",
            "14/14 [==============================] - 2s 143ms/step - loss: 2.6149e-04 - val_loss: 5.3157e-04\n",
            "Epoch 211/300\n",
            "14/14 [==============================] - 2s 171ms/step - loss: 3.0971e-04 - val_loss: 5.7216e-04\n",
            "Epoch 212/300\n",
            "14/14 [==============================] - 2s 132ms/step - loss: 2.6895e-04 - val_loss: 7.9385e-04\n",
            "Epoch 213/300\n",
            "14/14 [==============================] - 2s 121ms/step - loss: 3.2381e-04 - val_loss: 7.1567e-04\n",
            "Epoch 214/300\n",
            "14/14 [==============================] - 2s 120ms/step - loss: 3.5318e-04 - val_loss: 6.7758e-04\n",
            "Epoch 215/300\n",
            "14/14 [==============================] - 2s 120ms/step - loss: 3.0024e-04 - val_loss: 5.7766e-04\n",
            "Epoch 216/300\n",
            "14/14 [==============================] - 2s 118ms/step - loss: 2.6159e-04 - val_loss: 6.1861e-04\n",
            "Epoch 217/300\n",
            "14/14 [==============================] - 2s 119ms/step - loss: 2.5116e-04 - val_loss: 5.1624e-04\n",
            "Epoch 218/300\n",
            "14/14 [==============================] - 2s 119ms/step - loss: 2.0894e-04 - val_loss: 5.8152e-04\n",
            "Epoch 219/300\n",
            "14/14 [==============================] - 2s 120ms/step - loss: 2.5474e-04 - val_loss: 5.5722e-04\n",
            "Epoch 220/300\n",
            "14/14 [==============================] - 2s 119ms/step - loss: 2.3530e-04 - val_loss: 6.6181e-04\n",
            "Epoch 221/300\n",
            "14/14 [==============================] - 2s 120ms/step - loss: 2.4634e-04 - val_loss: 5.3630e-04\n",
            "Epoch 222/300\n",
            "14/14 [==============================] - 2s 118ms/step - loss: 2.5214e-04 - val_loss: 5.6309e-04\n",
            "Epoch 223/300\n",
            "14/14 [==============================] - 2s 122ms/step - loss: 2.1897e-04 - val_loss: 5.6301e-04\n",
            "Epoch 224/300\n",
            "14/14 [==============================] - 2s 121ms/step - loss: 2.3054e-04 - val_loss: 5.5486e-04\n",
            "Epoch 225/300\n",
            "14/14 [==============================] - 2s 124ms/step - loss: 2.5913e-04 - val_loss: 5.3919e-04\n",
            "Epoch 226/300\n",
            "14/14 [==============================] - 2s 118ms/step - loss: 2.1489e-04 - val_loss: 6.0625e-04\n",
            "Epoch 227/300\n",
            "14/14 [==============================] - 2s 125ms/step - loss: 2.3162e-04 - val_loss: 5.0699e-04\n",
            "Epoch 228/300\n",
            "14/14 [==============================] - 2s 118ms/step - loss: 2.4686e-04 - val_loss: 5.4419e-04\n",
            "Epoch 229/300\n",
            "14/14 [==============================] - 2s 123ms/step - loss: 2.3860e-04 - val_loss: 5.2522e-04\n",
            "Epoch 230/300\n",
            "14/14 [==============================] - 2s 121ms/step - loss: 2.2222e-04 - val_loss: 5.5474e-04\n",
            "Epoch 231/300\n",
            "14/14 [==============================] - 2s 121ms/step - loss: 2.2536e-04 - val_loss: 5.1632e-04\n",
            "Epoch 232/300\n",
            "14/14 [==============================] - 2s 122ms/step - loss: 2.1112e-04 - val_loss: 5.4220e-04\n",
            "Epoch 233/300\n",
            "14/14 [==============================] - 2s 125ms/step - loss: 2.9555e-04 - val_loss: 6.2987e-04\n",
            "Epoch 234/300\n",
            "14/14 [==============================] - 2s 122ms/step - loss: 3.5402e-04 - val_loss: 4.9451e-04\n",
            "Epoch 235/300\n",
            "14/14 [==============================] - 2s 122ms/step - loss: 2.5318e-04 - val_loss: 5.2868e-04\n",
            "Epoch 236/300\n",
            "14/14 [==============================] - 2s 121ms/step - loss: 2.4677e-04 - val_loss: 6.4722e-04\n",
            "Epoch 237/300\n",
            "14/14 [==============================] - 2s 120ms/step - loss: 2.7283e-04 - val_loss: 5.3201e-04\n",
            "Epoch 238/300\n",
            "14/14 [==============================] - 2s 122ms/step - loss: 2.8872e-04 - val_loss: 6.1683e-04\n",
            "Epoch 239/300\n",
            "14/14 [==============================] - 2s 125ms/step - loss: 2.3237e-04 - val_loss: 5.3779e-04\n",
            "Epoch 240/300\n",
            "14/14 [==============================] - 2s 120ms/step - loss: 2.2455e-04 - val_loss: 4.7883e-04\n",
            "Epoch 241/300\n",
            "14/14 [==============================] - 2s 120ms/step - loss: 2.7791e-04 - val_loss: 5.0850e-04\n",
            "Epoch 242/300\n",
            "14/14 [==============================] - 2s 121ms/step - loss: 2.1504e-04 - val_loss: 5.1268e-04\n",
            "Epoch 243/300\n",
            "14/14 [==============================] - 2s 121ms/step - loss: 3.0426e-04 - val_loss: 6.0844e-04\n",
            "Epoch 244/300\n",
            "14/14 [==============================] - 2s 122ms/step - loss: 2.5018e-04 - val_loss: 5.1592e-04\n",
            "Epoch 245/300\n",
            "14/14 [==============================] - 2s 127ms/step - loss: 2.2097e-04 - val_loss: 4.8680e-04\n",
            "Epoch 246/300\n",
            "14/14 [==============================] - 2s 120ms/step - loss: 2.1017e-04 - val_loss: 4.8469e-04\n",
            "Epoch 247/300\n",
            "14/14 [==============================] - 2s 122ms/step - loss: 2.5716e-04 - val_loss: 5.6066e-04\n",
            "Epoch 248/300\n",
            "14/14 [==============================] - 2s 124ms/step - loss: 2.6181e-04 - val_loss: 5.2004e-04\n",
            "Epoch 249/300\n",
            "14/14 [==============================] - 2s 122ms/step - loss: 2.3709e-04 - val_loss: 4.9622e-04\n",
            "Epoch 250/300\n",
            "14/14 [==============================] - 2s 120ms/step - loss: 2.8057e-04 - val_loss: 4.8664e-04\n",
            "Epoch 251/300\n",
            "14/14 [==============================] - 2s 121ms/step - loss: 2.4068e-04 - val_loss: 6.4296e-04\n",
            "Epoch 252/300\n",
            "14/14 [==============================] - 2s 125ms/step - loss: 2.5081e-04 - val_loss: 5.5686e-04\n",
            "Epoch 253/300\n",
            "14/14 [==============================] - 2s 120ms/step - loss: 2.4255e-04 - val_loss: 6.6958e-04\n",
            "Epoch 254/300\n",
            "14/14 [==============================] - 2s 119ms/step - loss: 2.6089e-04 - val_loss: 5.2492e-04\n",
            "Epoch 255/300\n",
            "14/14 [==============================] - 2s 121ms/step - loss: 2.2726e-04 - val_loss: 5.1189e-04\n",
            "Epoch 256/300\n",
            "14/14 [==============================] - 2s 122ms/step - loss: 2.2331e-04 - val_loss: 5.5118e-04\n",
            "Epoch 257/300\n",
            "14/14 [==============================] - 2s 122ms/step - loss: 2.7820e-04 - val_loss: 5.8785e-04\n",
            "Epoch 258/300\n",
            "14/14 [==============================] - 2s 124ms/step - loss: 3.8385e-04 - val_loss: 5.9730e-04\n",
            "Epoch 259/300\n",
            "14/14 [==============================] - 2s 126ms/step - loss: 3.2636e-04 - val_loss: 7.0935e-04\n",
            "Epoch 260/300\n",
            "14/14 [==============================] - 2s 119ms/step - loss: 2.9375e-04 - val_loss: 5.4304e-04\n",
            "Epoch 261/300\n",
            "14/14 [==============================] - 2s 123ms/step - loss: 2.2197e-04 - val_loss: 5.1017e-04\n",
            "Epoch 262/300\n",
            "14/14 [==============================] - 2s 125ms/step - loss: 2.3025e-04 - val_loss: 5.5172e-04\n",
            "Epoch 263/300\n",
            "14/14 [==============================] - 2s 121ms/step - loss: 2.0963e-04 - val_loss: 4.8208e-04\n",
            "Epoch 264/300\n",
            "14/14 [==============================] - 2s 124ms/step - loss: 2.1827e-04 - val_loss: 5.1057e-04\n",
            "Epoch 265/300\n",
            "14/14 [==============================] - 2s 120ms/step - loss: 2.3343e-04 - val_loss: 5.7548e-04\n",
            "Epoch 266/300\n",
            "14/14 [==============================] - 2s 121ms/step - loss: 2.4529e-04 - val_loss: 5.1656e-04\n",
            "Epoch 267/300\n",
            "14/14 [==============================] - 2s 125ms/step - loss: 2.4983e-04 - val_loss: 5.5543e-04\n",
            "Epoch 268/300\n",
            "14/14 [==============================] - 2s 125ms/step - loss: 3.1362e-04 - val_loss: 5.2008e-04\n",
            "Epoch 269/300\n",
            "14/14 [==============================] - 2s 122ms/step - loss: 2.5535e-04 - val_loss: 5.9660e-04\n",
            "Epoch 270/300\n",
            "14/14 [==============================] - 2s 122ms/step - loss: 2.6347e-04 - val_loss: 5.0024e-04\n",
            "Epoch 271/300\n",
            "14/14 [==============================] - 2s 122ms/step - loss: 2.4716e-04 - val_loss: 4.8902e-04\n",
            "Epoch 272/300\n",
            "14/14 [==============================] - 2s 121ms/step - loss: 2.1732e-04 - val_loss: 4.8780e-04\n",
            "Epoch 273/300\n",
            "14/14 [==============================] - 2s 121ms/step - loss: 2.1745e-04 - val_loss: 4.7964e-04\n",
            "Epoch 274/300\n",
            "14/14 [==============================] - 2s 124ms/step - loss: 2.2277e-04 - val_loss: 5.5227e-04\n",
            "Epoch 275/300\n",
            "14/14 [==============================] - 2s 123ms/step - loss: 2.4732e-04 - val_loss: 4.8569e-04\n",
            "Epoch 276/300\n",
            "14/14 [==============================] - 2s 121ms/step - loss: 2.8347e-04 - val_loss: 4.8673e-04\n",
            "Epoch 277/300\n",
            "14/14 [==============================] - 2s 120ms/step - loss: 2.7920e-04 - val_loss: 4.5550e-04\n",
            "Epoch 278/300\n",
            "14/14 [==============================] - 2s 121ms/step - loss: 2.2078e-04 - val_loss: 4.9184e-04\n",
            "Epoch 279/300\n",
            "14/14 [==============================] - 2s 122ms/step - loss: 2.2666e-04 - val_loss: 4.9174e-04\n",
            "Epoch 280/300\n",
            "14/14 [==============================] - 2s 124ms/step - loss: 2.3227e-04 - val_loss: 4.9998e-04\n",
            "Epoch 281/300\n",
            "14/14 [==============================] - 2s 121ms/step - loss: 2.4955e-04 - val_loss: 5.8731e-04\n",
            "Epoch 282/300\n",
            "14/14 [==============================] - 2s 126ms/step - loss: 2.6527e-04 - val_loss: 5.5581e-04\n",
            "Epoch 283/300\n",
            "14/14 [==============================] - 2s 124ms/step - loss: 2.7774e-04 - val_loss: 4.5947e-04\n",
            "Epoch 284/300\n",
            "14/14 [==============================] - 2s 123ms/step - loss: 2.2378e-04 - val_loss: 6.7327e-04\n",
            "Epoch 285/300\n",
            "14/14 [==============================] - 2s 120ms/step - loss: 2.4739e-04 - val_loss: 5.2781e-04\n",
            "Epoch 286/300\n",
            "14/14 [==============================] - 2s 121ms/step - loss: 3.2337e-04 - val_loss: 5.4429e-04\n",
            "Epoch 287/300\n",
            "14/14 [==============================] - 2s 121ms/step - loss: 2.7656e-04 - val_loss: 5.4515e-04\n",
            "Epoch 288/300\n",
            "14/14 [==============================] - 2s 121ms/step - loss: 2.2473e-04 - val_loss: 4.7103e-04\n",
            "Epoch 289/300\n",
            "14/14 [==============================] - 2s 121ms/step - loss: 2.1259e-04 - val_loss: 5.5657e-04\n",
            "Epoch 290/300\n",
            "14/14 [==============================] - 2s 125ms/step - loss: 2.5967e-04 - val_loss: 5.6324e-04\n",
            "Epoch 291/300\n",
            "14/14 [==============================] - 2s 122ms/step - loss: 2.8800e-04 - val_loss: 6.8212e-04\n",
            "Epoch 292/300\n",
            "14/14 [==============================] - 2s 124ms/step - loss: 2.4925e-04 - val_loss: 4.7797e-04\n",
            "Epoch 293/300\n",
            "14/14 [==============================] - 2s 121ms/step - loss: 2.2502e-04 - val_loss: 7.3443e-04\n",
            "Epoch 294/300\n",
            "14/14 [==============================] - 2s 122ms/step - loss: 2.4624e-04 - val_loss: 4.8593e-04\n",
            "Epoch 295/300\n",
            "14/14 [==============================] - 2s 120ms/step - loss: 2.2273e-04 - val_loss: 4.7730e-04\n",
            "Epoch 296/300\n",
            "14/14 [==============================] - 2s 123ms/step - loss: 2.3170e-04 - val_loss: 4.8987e-04\n",
            "Epoch 297/300\n",
            "14/14 [==============================] - 2s 121ms/step - loss: 2.1674e-04 - val_loss: 4.6646e-04\n",
            "Epoch 298/300\n",
            "14/14 [==============================] - 2s 125ms/step - loss: 2.1178e-04 - val_loss: 4.9517e-04\n",
            "Epoch 299/300\n",
            "14/14 [==============================] - 2s 121ms/step - loss: 2.2903e-04 - val_loss: 4.6507e-04\n",
            "Epoch 300/300\n",
            "14/14 [==============================] - 2s 122ms/step - loss: 2.2196e-04 - val_loss: 5.1939e-04\n"
          ],
          "name": "stdout"
        },
        {
          "output_type": "execute_result",
          "data": {
            "text/plain": [
              "<tensorflow.python.keras.callbacks.History at 0x7f2d423a6cd0>"
            ]
          },
          "metadata": {
            "tags": []
          },
          "execution_count": 18
        }
      ]
    },
    {
      "cell_type": "code",
      "metadata": {
        "id": "IVcg6YfW3_t3"
      },
      "source": [
        "trainpredict = model.predict(xtrain)\n",
        "testpredict = model.predict(xtest)"
      ],
      "execution_count": null,
      "outputs": []
    },
    {
      "cell_type": "code",
      "metadata": {
        "id": "SuhglG6rQcfG"
      },
      "source": [
        "from math import sqrt\n",
        "from sklearn.metrics import mean_squared_error"
      ],
      "execution_count": null,
      "outputs": []
    },
    {
      "cell_type": "code",
      "metadata": {
        "colab": {
          "base_uri": "https://localhost:8080/"
        },
        "id": "S09rQErKQo3K",
        "outputId": "93bd237a-176a-46ef-a18b-c017e4ad29f3"
      },
      "source": [
        "sqrt(mean_squared_error(ytrain , trainpredict))"
      ],
      "execution_count": null,
      "outputs": [
        {
          "output_type": "execute_result",
          "data": {
            "text/plain": [
              "0.014858710102329779"
            ]
          },
          "metadata": {
            "tags": []
          },
          "execution_count": 21
        }
      ]
    },
    {
      "cell_type": "code",
      "metadata": {
        "colab": {
          "base_uri": "https://localhost:8080/"
        },
        "id": "xFfygICMQpa-",
        "outputId": "a1eef12f-af11-4df3-98d2-ea27086228ed"
      },
      "source": [
        "sqrt(mean_squared_error(ytest , testpredict))"
      ],
      "execution_count": null,
      "outputs": [
        {
          "output_type": "execute_result",
          "data": {
            "text/plain": [
              "0.022790032591250953"
            ]
          },
          "metadata": {
            "tags": []
          },
          "execution_count": 22
        }
      ]
    },
    {
      "cell_type": "code",
      "metadata": {
        "id": "vL3NUeh_SDRF"
      },
      "source": [
        "# x_train = sc.inverse_transform(xtrain)\n",
        "y_train = sc.inverse_transform(np.reshape(ytrain , (-1 , 1)))"
      ],
      "execution_count": null,
      "outputs": []
    },
    {
      "cell_type": "code",
      "metadata": {
        "id": "9CQXY0HmqB_J"
      },
      "source": [
        "# x_test = sc.inverse_transform(xtest)\n",
        "y_test = sc.inverse_transform(np.reshape(ytest , (-1 , 1)))"
      ],
      "execution_count": null,
      "outputs": []
    },
    {
      "cell_type": "code",
      "metadata": {
        "id": "0HAL22HJptoB"
      },
      "source": [
        "train_predict = sc.inverse_transform(trainpredict)\n",
        "test_predict = sc.inverse_transform(testpredict)"
      ],
      "execution_count": null,
      "outputs": []
    },
    {
      "cell_type": "code",
      "metadata": {
        "colab": {
          "base_uri": "https://localhost:8080/"
        },
        "id": "YH30qIrLqIX3",
        "outputId": "449c0016-f2ad-451a-a6bf-3701f329b1e6"
      },
      "source": [
        "sqrt(mean_squared_error(y_train , train_predict))"
      ],
      "execution_count": null,
      "outputs": [
        {
          "output_type": "execute_result",
          "data": {
            "text/plain": [
              "25.984465227862994"
            ]
          },
          "metadata": {
            "tags": []
          },
          "execution_count": 26
        }
      ]
    },
    {
      "cell_type": "code",
      "metadata": {
        "colab": {
          "base_uri": "https://localhost:8080/"
        },
        "id": "8AWCVzKtqI8-",
        "outputId": "c8b2594a-ff31-4185-ff20-1f87d560bba1"
      },
      "source": [
        "sqrt(mean_squared_error(y_test , test_predict))"
      ],
      "execution_count": null,
      "outputs": [
        {
          "output_type": "execute_result",
          "data": {
            "text/plain": [
              "39.854523738335196"
            ]
          },
          "metadata": {
            "tags": []
          },
          "execution_count": 27
        }
      ]
    },
    {
      "cell_type": "markdown",
      "metadata": {
        "id": "EKHBpoAXh9gn"
      },
      "source": [
        "# **Plotting**"
      ]
    },
    {
      "cell_type": "code",
      "metadata": {
        "colab": {
          "base_uri": "https://localhost:8080/",
          "height": 265
        },
        "id": "Tjiz5GK9yZWq",
        "outputId": "df578ebc-cc44-49d0-d19a-0b4ec1f38143"
      },
      "source": [
        "from google.colab import files\n",
        "\n",
        "plt.plot(y_train , label='y_train')\n",
        "plt.plot(train_predict , c='red' , label='train_predict')\n",
        "plt.legend()\n",
        "plt.savefig(\"trainprediction.png\")\n",
        "\n",
        "files.download(\"trainprediction.png\")"
      ],
      "execution_count": null,
      "outputs": [
        {
          "output_type": "display_data",
          "data": {
            "application/javascript": [
              "\n",
              "    async function download(id, filename, size) {\n",
              "      if (!google.colab.kernel.accessAllowed) {\n",
              "        return;\n",
              "      }\n",
              "      const div = document.createElement('div');\n",
              "      const label = document.createElement('label');\n",
              "      label.textContent = `Downloading \"${filename}\": `;\n",
              "      div.appendChild(label);\n",
              "      const progress = document.createElement('progress');\n",
              "      progress.max = size;\n",
              "      div.appendChild(progress);\n",
              "      document.body.appendChild(div);\n",
              "\n",
              "      const buffers = [];\n",
              "      let downloaded = 0;\n",
              "\n",
              "      const channel = await google.colab.kernel.comms.open(id);\n",
              "      // Send a message to notify the kernel that we're ready.\n",
              "      channel.send({})\n",
              "\n",
              "      for await (const message of channel.messages) {\n",
              "        // Send a message to notify the kernel that we're ready.\n",
              "        channel.send({})\n",
              "        if (message.buffers) {\n",
              "          for (const buffer of message.buffers) {\n",
              "            buffers.push(buffer);\n",
              "            downloaded += buffer.byteLength;\n",
              "            progress.value = downloaded;\n",
              "          }\n",
              "        }\n",
              "      }\n",
              "      const blob = new Blob(buffers, {type: 'application/binary'});\n",
              "      const a = document.createElement('a');\n",
              "      a.href = window.URL.createObjectURL(blob);\n",
              "      a.download = filename;\n",
              "      div.appendChild(a);\n",
              "      a.click();\n",
              "      div.remove();\n",
              "    }\n",
              "  "
            ],
            "text/plain": [
              "<IPython.core.display.Javascript object>"
            ]
          },
          "metadata": {
            "tags": []
          }
        },
        {
          "output_type": "display_data",
          "data": {
            "application/javascript": [
              "download(\"download_d7351a31-c567-452e-b34f-7b3ffd9b1599\", \"trainprediction.png\", 19007)"
            ],
            "text/plain": [
              "<IPython.core.display.Javascript object>"
            ]
          },
          "metadata": {
            "tags": []
          }
        },
        {
          "output_type": "display_data",
          "data": {
            "image/png": "[encoded data removed]",
            "text/plain": [
              "<Figure size 432x288 with 1 Axes>"
            ]
          },
          "metadata": {
            "tags": [],
            "needs_background": "light"
          }
        }
      ]
    },
    {
      "cell_type": "code",
      "metadata": {
        "colab": {
          "base_uri": "https://localhost:8080/",
          "height": 265
        },
        "id": "9DtAxrtBcofY",
        "outputId": "e92776cc-460b-447e-c551-02a789719ab8"
      },
      "source": [
        "plt.plot(y_test , label='y_test')\n",
        "plt.plot(test_predict , c='red' , label='test_predict')\n",
        "plt.legend()\n",
        "plt.savefig(\"testprediction.png\")\n",
        "\n",
        "files.download(\"testprediction.png\")"
      ],
      "execution_count": null,
      "outputs": [
        {
          "output_type": "display_data",
          "data": {
            "application/javascript": [
              "\n",
              "    async function download(id, filename, size) {\n",
              "      if (!google.colab.kernel.accessAllowed) {\n",
              "        return;\n",
              "      }\n",
              "      const div = document.createElement('div');\n",
              "      const label = document.createElement('label');\n",
              "      label.textContent = `Downloading \"${filename}\": `;\n",
              "      div.appendChild(label);\n",
              "      const progress = document.createElement('progress');\n",
              "      progress.max = size;\n",
              "      div.appendChild(progress);\n",
              "      document.body.appendChild(div);\n",
              "\n",
              "      const buffers = [];\n",
              "      let downloaded = 0;\n",
              "\n",
              "      const channel = await google.colab.kernel.comms.open(id);\n",
              "      // Send a message to notify the kernel that we're ready.\n",
              "      channel.send({})\n",
              "\n",
              "      for await (const message of channel.messages) {\n",
              "        // Send a message to notify the kernel that we're ready.\n",
              "        channel.send({})\n",
              "        if (message.buffers) {\n",
              "          for (const buffer of message.buffers) {\n",
              "            buffers.push(buffer);\n",
              "            downloaded += buffer.byteLength;\n",
              "            progress.value = downloaded;\n",
              "          }\n",
              "        }\n",
              "      }\n",
              "      const blob = new Blob(buffers, {type: 'application/binary'});\n",
              "      const a = document.createElement('a');\n",
              "      a.href = window.URL.createObjectURL(blob);\n",
              "      a.download = filename;\n",
              "      div.appendChild(a);\n",
              "      a.click();\n",
              "      div.remove();\n",
              "    }\n",
              "  "
            ],
            "text/plain": [
              "<IPython.core.display.Javascript object>"
            ]
          },
          "metadata": {
            "tags": []
          }
        },
        {
          "output_type": "display_data",
          "data": {
            "application/javascript": [
              "download(\"download_0f8b6818-f59c-4414-80c8-9f278ba22148\", \"testprediction.png\", 19148)"
            ],
            "text/plain": [
              "<IPython.core.display.Javascript object>"
            ]
          },
          "metadata": {
            "tags": []
          }
        },
        {
          "output_type": "display_data",
          "data": {
            "image/png": "[encoded data removed]",
            "text/plain": [
              "<Figure size 432x288 with 1 Axes>"
            ]
          },
          "metadata": {
            "tags": [],
            "needs_background": "light"
          }
        }
      ]
    },
    {
      "cell_type": "code",
      "metadata": {
        "colab": {
          "base_uri": "https://localhost:8080/",
          "height": 265
        },
        "id": "jEN1WMPAclxy",
        "outputId": "a37b39b5-6d19-4efc-f77b-f9dcdc0544c6"
      },
      "source": [
        "l = [i for i in range(y_train.shape[0])]\n",
        "plt.scatter(l , y_train , label='y_train')\n",
        "plt.scatter(l , train_predict , label='train_predict' , c='red')\n",
        "plt.legend()\n",
        "plt.plot()\n",
        "\n",
        "plt.savefig(\"scattertrainpredict.png\")\n",
        "files.download(\"scattertrainpredict.png\")"
      ],
      "execution_count": null,
      "outputs": [
        {
          "output_type": "display_data",
          "data": {
            "application/javascript": [
              "\n",
              "    async function download(id, filename, size) {\n",
              "      if (!google.colab.kernel.accessAllowed) {\n",
              "        return;\n",
              "      }\n",
              "      const div = document.createElement('div');\n",
              "      const label = document.createElement('label');\n",
              "      label.textContent = `Downloading \"${filename}\": `;\n",
              "      div.appendChild(label);\n",
              "      const progress = document.createElement('progress');\n",
              "      progress.max = size;\n",
              "      div.appendChild(progress);\n",
              "      document.body.appendChild(div);\n",
              "\n",
              "      const buffers = [];\n",
              "      let downloaded = 0;\n",
              "\n",
              "      const channel = await google.colab.kernel.comms.open(id);\n",
              "      // Send a message to notify the kernel that we're ready.\n",
              "      channel.send({})\n",
              "\n",
              "      for await (const message of channel.messages) {\n",
              "        // Send a message to notify the kernel that we're ready.\n",
              "        channel.send({})\n",
              "        if (message.buffers) {\n",
              "          for (const buffer of message.buffers) {\n",
              "            buffers.push(buffer);\n",
              "            downloaded += buffer.byteLength;\n",
              "            progress.value = downloaded;\n",
              "          }\n",
              "        }\n",
              "      }\n",
              "      const blob = new Blob(buffers, {type: 'application/binary'});\n",
              "      const a = document.createElement('a');\n",
              "      a.href = window.URL.createObjectURL(blob);\n",
              "      a.download = filename;\n",
              "      div.appendChild(a);\n",
              "      a.click();\n",
              "      div.remove();\n",
              "    }\n",
              "  "
            ],
            "text/plain": [
              "<IPython.core.display.Javascript object>"
            ]
          },
          "metadata": {
            "tags": []
          }
        },
        {
          "output_type": "display_data",
          "data": {
            "application/javascript": [
              "download(\"download_26313fc8-e5e6-4dd0-9a8e-103c8676682c\", \"scattertrainpredict.png\", 16780)"
            ],
            "text/plain": [
              "<IPython.core.display.Javascript object>"
            ]
          },
          "metadata": {
            "tags": []
          }
        },
        {
          "output_type": "display_data",
          "data": {
            "image/png": "[encoded data removed]",
            "text/plain": [
              "<Figure size 432x288 with 1 Axes>"
            ]
          },
          "metadata": {
            "tags": [],
            "needs_background": "light"
          }
        }
      ]
    },
    {
      "cell_type": "code",
      "metadata": {
        "colab": {
          "base_uri": "https://localhost:8080/",
          "height": 265
        },
        "id": "xMcfhUUsdYyd",
        "outputId": "1dff78a4-ba81-47b8-8130-4def8a241fb0"
      },
      "source": [
        "li = [i for i in range(y_test.shape[0])]\n",
        "plt.scatter(li , y_test , label='y_test')\n",
        "plt.scatter(li , test_predict , label='test_predict' , c='red')\n",
        "plt.legend()\n",
        "plt.plot()\n",
        "\n",
        "plt.savefig(\"scattertestpredict.png\")\n",
        "files.download(\"scattertestpredict.png\")"
      ],
      "execution_count": null,
      "outputs": [
        {
          "output_type": "display_data",
          "data": {
            "application/javascript": [
              "\n",
              "    async function download(id, filename, size) {\n",
              "      if (!google.colab.kernel.accessAllowed) {\n",
              "        return;\n",
              "      }\n",
              "      const div = document.createElement('div');\n",
              "      const label = document.createElement('label');\n",
              "      label.textContent = `Downloading \"${filename}\": `;\n",
              "      div.appendChild(label);\n",
              "      const progress = document.createElement('progress');\n",
              "      progress.max = size;\n",
              "      div.appendChild(progress);\n",
              "      document.body.appendChild(div);\n",
              "\n",
              "      const buffers = [];\n",
              "      let downloaded = 0;\n",
              "\n",
              "      const channel = await google.colab.kernel.comms.open(id);\n",
              "      // Send a message to notify the kernel that we're ready.\n",
              "      channel.send({})\n",
              "\n",
              "      for await (const message of channel.messages) {\n",
              "        // Send a message to notify the kernel that we're ready.\n",
              "        channel.send({})\n",
              "        if (message.buffers) {\n",
              "          for (const buffer of message.buffers) {\n",
              "            buffers.push(buffer);\n",
              "            downloaded += buffer.byteLength;\n",
              "            progress.value = downloaded;\n",
              "          }\n",
              "        }\n",
              "      }\n",
              "      const blob = new Blob(buffers, {type: 'application/binary'});\n",
              "      const a = document.createElement('a');\n",
              "      a.href = window.URL.createObjectURL(blob);\n",
              "      a.download = filename;\n",
              "      div.appendChild(a);\n",
              "      a.click();\n",
              "      div.remove();\n",
              "    }\n",
              "  "
            ],
            "text/plain": [
              "<IPython.core.display.Javascript object>"
            ]
          },
          "metadata": {
            "tags": []
          }
        },
        {
          "output_type": "display_data",
          "data": {
            "application/javascript": [
              "download(\"download_d4275c56-e5e0-493f-aeac-b328db0dbfec\", \"scattertestpredict.png\", 16678)"
            ],
            "text/plain": [
              "<IPython.core.display.Javascript object>"
            ]
          },
          "metadata": {
            "tags": []
          }
        },
        {
          "output_type": "display_data",
          "data": {
            "image/png": "[encoded data removed]",
            "text/plain": [
              "<Figure size 432x288 with 1 Axes>"
            ]
          },
          "metadata": {
            "tags": [],
            "needs_background": "light"
          }
        }
      ]
    }
  ]
}