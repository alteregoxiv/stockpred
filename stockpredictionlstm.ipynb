{
  "nbformat": 4,
  "nbformat_minor": 0,
  "metadata": {
    "colab": {
      "name": "stockpredictionlstm.ipynb",
      "provenance": [],
      "collapsed_sections": [],
      "authorship_tag": "ABX9TyMSWXGfVJP1PW+PWfO+8Ad6",
      "include_colab_link": true
    },
    "kernelspec": {
      "name": "python3",
      "display_name": "Python 3"
    },
    "language_info": {
      "name": "python"
    }
  },
  "cells": [
    {
      "cell_type": "markdown",
      "metadata": {
        "id": "view-in-github",
        "colab_type": "text"
      },
      "source": [
        "<a href=\"https://colab.research.google.com/github/alteregoxiv/stockpred/blob/main/stockpredictionlstm.ipynb\" target=\"_parent\"><img src=\"https://colab.research.google.com/assets/colab-badge.svg\" alt=\"Open In Colab\"/></a>"
      ]
    },
    {
      "cell_type": "markdown",
      "metadata": {
        "id": "Lgd1YiGWppPz"
      },
      "source": [
        "# **STOCK PREDICTION USING LSTM(KERAS)**\n"
      ]
    },
    {
      "cell_type": "markdown",
      "metadata": {
        "id": "ev5-W2HvWUpB"
      },
      "source": [
        "# **Importing necessary Libraries**"
      ]
    },
    {
      "cell_type": "code",
      "metadata": {
        "id": "sT7zcAoIcksy"
      },
      "source": [
        "import numpy as np\n",
        "import matplotlib.pyplot as plt\n",
        "import pandas as pd"
      ],
      "execution_count": 1,
      "outputs": []
    },
    {
      "cell_type": "markdown",
      "metadata": {
        "id": "rnVYQZhNWcKe"
      },
      "source": [
        "# **Training Data Set**"
      ]
    },
    {
      "cell_type": "code",
      "metadata": {
        "colab": {
          "base_uri": "https://localhost:8080/",
          "height": 206
        },
        "id": "zxg_MYh3SOAk",
        "outputId": "85a327b9-cdb2-4f5c-f128-14c666609b77"
      },
      "source": [
        "traindata = pd.read_csv(\"./AMZNtrain.csv\")\n",
        "traindata.head()"
      ],
      "execution_count": 2,
      "outputs": [
        {
          "output_type": "execute_result",
          "data": {
            "text/html": [
              "<div>\n",
              "<style scoped>\n",
              "    .dataframe tbody tr th:only-of-type {\n",
              "        vertical-align: middle;\n",
              "    }\n",
              "\n",
              "    .dataframe tbody tr th {\n",
              "        vertical-align: top;\n",
              "    }\n",
              "\n",
              "    .dataframe thead th {\n",
              "        text-align: right;\n",
              "    }\n",
              "</style>\n",
              "<table border=\"1\" class=\"dataframe\">\n",
              "  <thead>\n",
              "    <tr style=\"text-align: right;\">\n",
              "      <th></th>\n",
              "      <th>Date</th>\n",
              "      <th>Open</th>\n",
              "      <th>High</th>\n",
              "      <th>Low</th>\n",
              "      <th>Close</th>\n",
              "      <th>Adj Close</th>\n",
              "      <th>Volume</th>\n",
              "    </tr>\n",
              "  </thead>\n",
              "  <tbody>\n",
              "    <tr>\n",
              "      <th>0</th>\n",
              "      <td>2014-01-02</td>\n",
              "      <td>398.799988</td>\n",
              "      <td>399.359985</td>\n",
              "      <td>394.019989</td>\n",
              "      <td>397.970001</td>\n",
              "      <td>397.970001</td>\n",
              "      <td>2137800</td>\n",
              "    </tr>\n",
              "    <tr>\n",
              "      <th>1</th>\n",
              "      <td>2014-01-03</td>\n",
              "      <td>398.290009</td>\n",
              "      <td>402.709991</td>\n",
              "      <td>396.220001</td>\n",
              "      <td>396.440002</td>\n",
              "      <td>396.440002</td>\n",
              "      <td>2210200</td>\n",
              "    </tr>\n",
              "    <tr>\n",
              "      <th>2</th>\n",
              "      <td>2014-01-06</td>\n",
              "      <td>395.850006</td>\n",
              "      <td>397.000000</td>\n",
              "      <td>388.420013</td>\n",
              "      <td>393.630005</td>\n",
              "      <td>393.630005</td>\n",
              "      <td>3170600</td>\n",
              "    </tr>\n",
              "    <tr>\n",
              "      <th>3</th>\n",
              "      <td>2014-01-07</td>\n",
              "      <td>395.040009</td>\n",
              "      <td>398.470001</td>\n",
              "      <td>394.290009</td>\n",
              "      <td>398.029999</td>\n",
              "      <td>398.029999</td>\n",
              "      <td>1916000</td>\n",
              "    </tr>\n",
              "    <tr>\n",
              "      <th>4</th>\n",
              "      <td>2014-01-08</td>\n",
              "      <td>398.470001</td>\n",
              "      <td>403.000000</td>\n",
              "      <td>396.040009</td>\n",
              "      <td>401.920013</td>\n",
              "      <td>401.920013</td>\n",
              "      <td>2316500</td>\n",
              "    </tr>\n",
              "  </tbody>\n",
              "</table>\n",
              "</div>"
            ],
            "text/plain": [
              "         Date        Open        High  ...       Close   Adj Close   Volume\n",
              "0  2014-01-02  398.799988  399.359985  ...  397.970001  397.970001  2137800\n",
              "1  2014-01-03  398.290009  402.709991  ...  396.440002  396.440002  2210200\n",
              "2  2014-01-06  395.850006  397.000000  ...  393.630005  393.630005  3170600\n",
              "3  2014-01-07  395.040009  398.470001  ...  398.029999  398.029999  1916000\n",
              "4  2014-01-08  398.470001  403.000000  ...  401.920013  401.920013  2316500\n",
              "\n",
              "[5 rows x 7 columns]"
            ]
          },
          "metadata": {
            "tags": []
          },
          "execution_count": 2
        }
      ]
    },
    {
      "cell_type": "markdown",
      "metadata": {
        "id": "QPEpZlynWnQW"
      },
      "source": [
        "# **Testing Data Set**"
      ]
    },
    {
      "cell_type": "code",
      "metadata": {
        "colab": {
          "base_uri": "https://localhost:8080/",
          "height": 206
        },
        "id": "JVYD_bNkSg5d",
        "outputId": "efc03089-0778-4463-a9d1-61d8c16e1a0e"
      },
      "source": [
        "testdata = pd.read_csv(\"./AMZNtest.csv\")\n",
        "testdata.head()"
      ],
      "execution_count": 3,
      "outputs": [
        {
          "output_type": "execute_result",
          "data": {
            "text/html": [
              "<div>\n",
              "<style scoped>\n",
              "    .dataframe tbody tr th:only-of-type {\n",
              "        vertical-align: middle;\n",
              "    }\n",
              "\n",
              "    .dataframe tbody tr th {\n",
              "        vertical-align: top;\n",
              "    }\n",
              "\n",
              "    .dataframe thead th {\n",
              "        text-align: right;\n",
              "    }\n",
              "</style>\n",
              "<table border=\"1\" class=\"dataframe\">\n",
              "  <thead>\n",
              "    <tr style=\"text-align: right;\">\n",
              "      <th></th>\n",
              "      <th>Date</th>\n",
              "      <th>Open</th>\n",
              "      <th>High</th>\n",
              "      <th>Low</th>\n",
              "      <th>Close</th>\n",
              "      <th>Adj Close</th>\n",
              "      <th>Volume</th>\n",
              "    </tr>\n",
              "  </thead>\n",
              "  <tbody>\n",
              "    <tr>\n",
              "      <th>0</th>\n",
              "      <td>2019-01-02</td>\n",
              "      <td>1465.199951</td>\n",
              "      <td>1553.359985</td>\n",
              "      <td>1460.930054</td>\n",
              "      <td>1539.130005</td>\n",
              "      <td>1539.130005</td>\n",
              "      <td>7983100</td>\n",
              "    </tr>\n",
              "    <tr>\n",
              "      <th>1</th>\n",
              "      <td>2019-01-03</td>\n",
              "      <td>1520.010010</td>\n",
              "      <td>1538.000000</td>\n",
              "      <td>1497.109985</td>\n",
              "      <td>1500.280029</td>\n",
              "      <td>1500.280029</td>\n",
              "      <td>6975600</td>\n",
              "    </tr>\n",
              "    <tr>\n",
              "      <th>2</th>\n",
              "      <td>2019-01-04</td>\n",
              "      <td>1530.000000</td>\n",
              "      <td>1594.000000</td>\n",
              "      <td>1518.310059</td>\n",
              "      <td>1575.390015</td>\n",
              "      <td>1575.390015</td>\n",
              "      <td>9182600</td>\n",
              "    </tr>\n",
              "    <tr>\n",
              "      <th>3</th>\n",
              "      <td>2019-01-07</td>\n",
              "      <td>1602.310059</td>\n",
              "      <td>1634.560059</td>\n",
              "      <td>1589.189941</td>\n",
              "      <td>1629.510010</td>\n",
              "      <td>1629.510010</td>\n",
              "      <td>7993200</td>\n",
              "    </tr>\n",
              "    <tr>\n",
              "      <th>4</th>\n",
              "      <td>2019-01-08</td>\n",
              "      <td>1664.689941</td>\n",
              "      <td>1676.609985</td>\n",
              "      <td>1616.609985</td>\n",
              "      <td>1656.579956</td>\n",
              "      <td>1656.579956</td>\n",
              "      <td>8881400</td>\n",
              "    </tr>\n",
              "  </tbody>\n",
              "</table>\n",
              "</div>"
            ],
            "text/plain": [
              "         Date         Open         High  ...        Close    Adj Close   Volume\n",
              "0  2019-01-02  1465.199951  1553.359985  ...  1539.130005  1539.130005  7983100\n",
              "1  2019-01-03  1520.010010  1538.000000  ...  1500.280029  1500.280029  6975600\n",
              "2  2019-01-04  1530.000000  1594.000000  ...  1575.390015  1575.390015  9182600\n",
              "3  2019-01-07  1602.310059  1634.560059  ...  1629.510010  1629.510010  7993200\n",
              "4  2019-01-08  1664.689941  1676.609985  ...  1656.579956  1656.579956  8881400\n",
              "\n",
              "[5 rows x 7 columns]"
            ]
          },
          "metadata": {
            "tags": []
          },
          "execution_count": 3
        }
      ]
    },
    {
      "cell_type": "markdown",
      "metadata": {
        "id": "URHQm4XdWrNU"
      },
      "source": [
        "# **Shapes of both data sets(Train , Test)**"
      ]
    },
    {
      "cell_type": "code",
      "metadata": {
        "colab": {
          "base_uri": "https://localhost:8080/"
        },
        "id": "wF6nBNrZU7Ux",
        "outputId": "4b420f9d-98d9-493f-aff0-4f5ccd9d5999"
      },
      "source": [
        "traindata.shape , testdata.shape"
      ],
      "execution_count": 4,
      "outputs": [
        {
          "output_type": "execute_result",
          "data": {
            "text/plain": [
              "((1258, 7), (21, 7))"
            ]
          },
          "metadata": {
            "tags": []
          },
          "execution_count": 4
        }
      ]
    },
    {
      "cell_type": "markdown",
      "metadata": {
        "id": "5YZOISlTXUqo"
      },
      "source": [
        "# **Concatenating Datasers and Sorting**"
      ]
    },
    {
      "cell_type": "code",
      "metadata": {
        "id": "vMCJ0YqEVVlF",
        "colab": {
          "base_uri": "https://localhost:8080/"
        },
        "outputId": "b2d3c68f-d240-42f8-f232-5aeaec883c02"
      },
      "source": [
        "data = pd.concat([traindata , testdata] , axis=0 , ignore_index=True)\n",
        "data.head"
      ],
      "execution_count": 5,
      "outputs": [
        {
          "output_type": "execute_result",
          "data": {
            "text/plain": [
              "<bound method NDFrame.head of             Date         Open         High  ...        Close    Adj Close    Volume\n",
              "0     2014-01-02   398.799988   399.359985  ...   397.970001   397.970001   2137800\n",
              "1     2014-01-03   398.290009   402.709991  ...   396.440002   396.440002   2210200\n",
              "2     2014-01-06   395.850006   397.000000  ...   393.630005   393.630005   3170600\n",
              "3     2014-01-07   395.040009   398.470001  ...   398.029999   398.029999   1916000\n",
              "4     2014-01-08   398.470001   403.000000  ...   401.920013   401.920013   2316500\n",
              "...          ...          ...          ...  ...          ...          ...       ...\n",
              "1274  2019-01-25  1670.500000  1683.479980  ...  1670.569946  1670.569946   4945900\n",
              "1275  2019-01-28  1643.589966  1645.000000  ...  1637.890015  1637.890015   4837700\n",
              "1276  2019-01-29  1631.270020  1632.380005  ...  1593.880005  1593.880005   4632800\n",
              "1277  2019-01-30  1623.000000  1676.949951  ...  1670.430054  1670.430054   5783800\n",
              "1278  2019-01-31  1692.849976  1736.410034  ...  1718.729980  1718.729980  10910300\n",
              "\n",
              "[1279 rows x 7 columns]>"
            ]
          },
          "metadata": {
            "tags": []
          },
          "execution_count": 5
        }
      ]
    },
    {
      "cell_type": "code",
      "metadata": {
        "colab": {
          "base_uri": "https://localhost:8080/",
          "height": 293
        },
        "id": "SEFBWlNzXazd",
        "outputId": "e1851123-ecbf-44e9-8f86-f34b41337c17"
      },
      "source": [
        "for i in range(len(data)):\n",
        "  date = data[\"Date\"][i]\n",
        "  d = date.split(\"-\")\n",
        "  s = str(d[0]) + str(d[1]) + str(d[2])\n",
        "  data[\"Date\"][i] = s\n",
        "data.head()"
      ],
      "execution_count": 6,
      "outputs": [
        {
          "output_type": "stream",
          "text": [
            "/usr/local/lib/python3.7/dist-packages/ipykernel_launcher.py:5: SettingWithCopyWarning: \n",
            "A value is trying to be set on a copy of a slice from a DataFrame\n",
            "\n",
            "See the caveats in the documentation: https://pandas.pydata.org/pandas-docs/stable/user_guide/indexing.html#returning-a-view-versus-a-copy\n",
            "  \"\"\"\n"
          ],
          "name": "stderr"
        },
        {
          "output_type": "execute_result",
          "data": {
            "text/html": [
              "<div>\n",
              "<style scoped>\n",
              "    .dataframe tbody tr th:only-of-type {\n",
              "        vertical-align: middle;\n",
              "    }\n",
              "\n",
              "    .dataframe tbody tr th {\n",
              "        vertical-align: top;\n",
              "    }\n",
              "\n",
              "    .dataframe thead th {\n",
              "        text-align: right;\n",
              "    }\n",
              "</style>\n",
              "<table border=\"1\" class=\"dataframe\">\n",
              "  <thead>\n",
              "    <tr style=\"text-align: right;\">\n",
              "      <th></th>\n",
              "      <th>Date</th>\n",
              "      <th>Open</th>\n",
              "      <th>High</th>\n",
              "      <th>Low</th>\n",
              "      <th>Close</th>\n",
              "      <th>Adj Close</th>\n",
              "      <th>Volume</th>\n",
              "    </tr>\n",
              "  </thead>\n",
              "  <tbody>\n",
              "    <tr>\n",
              "      <th>0</th>\n",
              "      <td>20140102</td>\n",
              "      <td>398.799988</td>\n",
              "      <td>399.359985</td>\n",
              "      <td>394.019989</td>\n",
              "      <td>397.970001</td>\n",
              "      <td>397.970001</td>\n",
              "      <td>2137800</td>\n",
              "    </tr>\n",
              "    <tr>\n",
              "      <th>1</th>\n",
              "      <td>20140103</td>\n",
              "      <td>398.290009</td>\n",
              "      <td>402.709991</td>\n",
              "      <td>396.220001</td>\n",
              "      <td>396.440002</td>\n",
              "      <td>396.440002</td>\n",
              "      <td>2210200</td>\n",
              "    </tr>\n",
              "    <tr>\n",
              "      <th>2</th>\n",
              "      <td>20140106</td>\n",
              "      <td>395.850006</td>\n",
              "      <td>397.000000</td>\n",
              "      <td>388.420013</td>\n",
              "      <td>393.630005</td>\n",
              "      <td>393.630005</td>\n",
              "      <td>3170600</td>\n",
              "    </tr>\n",
              "    <tr>\n",
              "      <th>3</th>\n",
              "      <td>20140107</td>\n",
              "      <td>395.040009</td>\n",
              "      <td>398.470001</td>\n",
              "      <td>394.290009</td>\n",
              "      <td>398.029999</td>\n",
              "      <td>398.029999</td>\n",
              "      <td>1916000</td>\n",
              "    </tr>\n",
              "    <tr>\n",
              "      <th>4</th>\n",
              "      <td>20140108</td>\n",
              "      <td>398.470001</td>\n",
              "      <td>403.000000</td>\n",
              "      <td>396.040009</td>\n",
              "      <td>401.920013</td>\n",
              "      <td>401.920013</td>\n",
              "      <td>2316500</td>\n",
              "    </tr>\n",
              "  </tbody>\n",
              "</table>\n",
              "</div>"
            ],
            "text/plain": [
              "       Date        Open        High  ...       Close   Adj Close   Volume\n",
              "0  20140102  398.799988  399.359985  ...  397.970001  397.970001  2137800\n",
              "1  20140103  398.290009  402.709991  ...  396.440002  396.440002  2210200\n",
              "2  20140106  395.850006  397.000000  ...  393.630005  393.630005  3170600\n",
              "3  20140107  395.040009  398.470001  ...  398.029999  398.029999  1916000\n",
              "4  20140108  398.470001  403.000000  ...  401.920013  401.920013  2316500\n",
              "\n",
              "[5 rows x 7 columns]"
            ]
          },
          "metadata": {
            "tags": []
          },
          "execution_count": 6
        }
      ]
    },
    {
      "cell_type": "code",
      "metadata": {
        "colab": {
          "base_uri": "https://localhost:8080/"
        },
        "id": "vl95h11OhUXG",
        "outputId": "0666c83f-b050-45f6-a791-5d2a7ef78933"
      },
      "source": [
        "data = data.sort_index(ascending=True , axis=0)\n",
        "data.head"
      ],
      "execution_count": 7,
      "outputs": [
        {
          "output_type": "execute_result",
          "data": {
            "text/plain": [
              "<bound method NDFrame.head of           Date         Open         High  ...        Close    Adj Close    Volume\n",
              "0     20140102   398.799988   399.359985  ...   397.970001   397.970001   2137800\n",
              "1     20140103   398.290009   402.709991  ...   396.440002   396.440002   2210200\n",
              "2     20140106   395.850006   397.000000  ...   393.630005   393.630005   3170600\n",
              "3     20140107   395.040009   398.470001  ...   398.029999   398.029999   1916000\n",
              "4     20140108   398.470001   403.000000  ...   401.920013   401.920013   2316500\n",
              "...        ...          ...          ...  ...          ...          ...       ...\n",
              "1274  20190125  1670.500000  1683.479980  ...  1670.569946  1670.569946   4945900\n",
              "1275  20190128  1643.589966  1645.000000  ...  1637.890015  1637.890015   4837700\n",
              "1276  20190129  1631.270020  1632.380005  ...  1593.880005  1593.880005   4632800\n",
              "1277  20190130  1623.000000  1676.949951  ...  1670.430054  1670.430054   5783800\n",
              "1278  20190131  1692.849976  1736.410034  ...  1718.729980  1718.729980  10910300\n",
              "\n",
              "[1279 rows x 7 columns]>"
            ]
          },
          "metadata": {
            "tags": []
          },
          "execution_count": 7
        }
      ]
    },
    {
      "cell_type": "markdown",
      "metadata": {
        "id": "cmL2H46GhxzR"
      },
      "source": [
        ""
      ]
    },
    {
      "cell_type": "markdown",
      "metadata": {
        "id": "WFvm1e-Vnsvt"
      },
      "source": [
        "# **Saving the DataFrame**"
      ]
    },
    {
      "cell_type": "code",
      "metadata": {
        "id": "oBruMR6WhxB7"
      },
      "source": [
        "data.to_csv(r'./AMZNTotalData.csv' , index=False)"
      ],
      "execution_count": 8,
      "outputs": []
    },
    {
      "cell_type": "code",
      "metadata": {
        "colab": {
          "base_uri": "https://localhost:8080/"
        },
        "id": "wvQ5cI7ykyvr",
        "outputId": "16b3841e-f885-4c64-dd76-aec8d54c15f6"
      },
      "source": [
        "newdata = pd.read_csv(\"./AMZNTotalData.csv\")\n",
        "newdata.head"
      ],
      "execution_count": 9,
      "outputs": [
        {
          "output_type": "execute_result",
          "data": {
            "text/plain": [
              "<bound method NDFrame.head of           Date         Open         High  ...        Close    Adj Close    Volume\n",
              "0     20140102   398.799988   399.359985  ...   397.970001   397.970001   2137800\n",
              "1     20140103   398.290009   402.709991  ...   396.440002   396.440002   2210200\n",
              "2     20140106   395.850006   397.000000  ...   393.630005   393.630005   3170600\n",
              "3     20140107   395.040009   398.470001  ...   398.029999   398.029999   1916000\n",
              "4     20140108   398.470001   403.000000  ...   401.920013   401.920013   2316500\n",
              "...        ...          ...          ...  ...          ...          ...       ...\n",
              "1274  20190125  1670.500000  1683.479980  ...  1670.569946  1670.569946   4945900\n",
              "1275  20190128  1643.589966  1645.000000  ...  1637.890015  1637.890015   4837700\n",
              "1276  20190129  1631.270020  1632.380005  ...  1593.880005  1593.880005   4632800\n",
              "1277  20190130  1623.000000  1676.949951  ...  1670.430054  1670.430054   5783800\n",
              "1278  20190131  1692.849976  1736.410034  ...  1718.729980  1718.729980  10910300\n",
              "\n",
              "[1279 rows x 7 columns]>"
            ]
          },
          "metadata": {
            "tags": []
          },
          "execution_count": 9
        }
      ]
    },
    {
      "cell_type": "markdown",
      "metadata": {
        "id": "37LGB3wEp93X"
      },
      "source": [
        "# **Test Train Split from the concatenated Data Set**"
      ]
    },
    {
      "cell_type": "code",
      "metadata": {
        "colab": {
          "base_uri": "https://localhost:8080/"
        },
        "id": "VZnXpPuIonv9",
        "outputId": "ba80a2b6-3cc3-451b-95e5-fd6d24be38e3"
      },
      "source": [
        "limit = np.random.rand((len(newdata)))<0.7\n",
        "train = newdata[limit]\n",
        "test = newdata[~limit]\n",
        "train.shape , test.shape"
      ],
      "execution_count": 10,
      "outputs": [
        {
          "output_type": "execute_result",
          "data": {
            "text/plain": [
              "((877, 7), (402, 7))"
            ]
          },
          "metadata": {
            "tags": []
          },
          "execution_count": 10
        }
      ]
    },
    {
      "cell_type": "code",
      "metadata": {
        "colab": {
          "base_uri": "https://localhost:8080/"
        },
        "id": "AXTXV-D4qQot",
        "outputId": "4c1e086e-9fe9-4c0e-ff28-7849819418ca"
      },
      "source": [
        "newtrain = train[['Adj Close']]\n",
        "newtest = test[['Adj Close']]\n",
        "\n",
        "newtrain.shape , newtest.shape"
      ],
      "execution_count": 11,
      "outputs": [
        {
          "output_type": "execute_result",
          "data": {
            "text/plain": [
              "((877, 1), (402, 1))"
            ]
          },
          "metadata": {
            "tags": []
          },
          "execution_count": 11
        }
      ]
    },
    {
      "cell_type": "markdown",
      "metadata": {
        "id": "OD7YgMi7yU3g"
      },
      "source": [
        "# **Scaling the Data**"
      ]
    },
    {
      "cell_type": "code",
      "metadata": {
        "id": "C5e02dL5-PoF"
      },
      "source": [
        "from sklearn.preprocessing import MinMaxScaler\n",
        "sc = MinMaxScaler(feature_range = (0, 1))\n",
        "\n",
        "newtrain = sc.fit_transform(newtrain)\n",
        "newtest = sc.fit_transform(newtest)\n",
        "\n",
        "newtrain = np.reshape(newtrain , (-1 , 1))\n",
        "newtest = np.reshape(newtest , (-1 , 1))"
      ],
      "execution_count": 62,
      "outputs": []
    },
    {
      "cell_type": "markdown",
      "metadata": {
        "id": "N84K9DW2yepY"
      },
      "source": [
        "# **Preparing the Final data using timestep for LSTM**"
      ]
    },
    {
      "cell_type": "code",
      "metadata": {
        "id": "dAixTgSxeNNF"
      },
      "source": [
        "def final_data(data , timestep):\n",
        "  xdata , ydata = [] , []\n",
        "  l = len(data)\n",
        "  for i in range(l-timestep):\n",
        "    a = data[i : i+timestep , 0]\n",
        "    xdata.append(a)\n",
        "    ydata.append(data[i+timestep , 0])\n",
        "  return np.array(xdata) , np.array(ydata)\n",
        "\n",
        "\n",
        "\n",
        "timestep = 60\n",
        "xtrain  , ytrain = final_data(newtrain , timestep)\n",
        "xtest , ytest = final_data(newtest , timestep)"
      ],
      "execution_count": 13,
      "outputs": []
    },
    {
      "cell_type": "code",
      "metadata": {
        "id": "JA1JwMQYh5GZ"
      },
      "source": [
        "xtrain = xtrain.reshape(xtrain.shape[0] , xtrain.shape[1] , 1)\n",
        "xtest = xtest.reshape(xtest.shape[0] , xtest.shape[1] , 1)\n",
        "#xtrain.shape\n",
        "# print(xtrain)"
      ],
      "execution_count": 45,
      "outputs": []
    },
    {
      "cell_type": "markdown",
      "metadata": {
        "id": "3G-BglZkzh6V"
      },
      "source": [
        "# **Preparing Model**"
      ]
    },
    {
      "cell_type": "code",
      "metadata": {
        "id": "PC_0T-jFjw6E"
      },
      "source": [
        "from tensorflow.keras.models import Sequential\n",
        "from tensorflow.keras.layers import Dense , LSTM"
      ],
      "execution_count": 15,
      "outputs": []
    },
    {
      "cell_type": "code",
      "metadata": {
        "id": "Ra1u6nyUkkVV"
      },
      "source": [
        "model = Sequential()\n",
        "model.add(LSTM(50 , return_sequences=True , input_shape=(60 , 1)))\n",
        "model.add(LSTM(50 , return_sequences=True))\n",
        "model.add(LSTM(50))\n",
        "model.add(Dense(1))\n",
        "model.compile(loss='mean_squared_error' , optimizer='adam')"
      ],
      "execution_count": 16,
      "outputs": []
    },
    {
      "cell_type": "code",
      "metadata": {
        "colab": {
          "base_uri": "https://localhost:8080/"
        },
        "id": "SWzEihXDnLmu",
        "outputId": "c6905489-9235-4f44-d568-755180db6fc6"
      },
      "source": [
        "model.summary()"
      ],
      "execution_count": 17,
      "outputs": [
        {
          "output_type": "stream",
          "text": [
            "Model: \"sequential\"\n",
            "_________________________________________________________________\n",
            "Layer (type)                 Output Shape              Param #   \n",
            "=================================================================\n",
            "lstm (LSTM)                  (None, 60, 50)            10400     \n",
            "_________________________________________________________________\n",
            "lstm_1 (LSTM)                (None, 60, 50)            20200     \n",
            "_________________________________________________________________\n",
            "lstm_2 (LSTM)                (None, 50)                20200     \n",
            "_________________________________________________________________\n",
            "dense (Dense)                (None, 1)                 51        \n",
            "=================================================================\n",
            "Total params: 50,851\n",
            "Trainable params: 50,851\n",
            "Non-trainable params: 0\n",
            "_________________________________________________________________\n"
          ],
          "name": "stdout"
        }
      ]
    },
    {
      "cell_type": "markdown",
      "metadata": {
        "id": "5GUCkn8pzmYy"
      },
      "source": [
        "# **Fitting**"
      ]
    },
    {
      "cell_type": "code",
      "metadata": {
        "colab": {
          "base_uri": "https://localhost:8080/"
        },
        "id": "IESruTGgnRog",
        "outputId": "36af8824-6ba1-4d56-a7be-a12f8ad6b73d"
      },
      "source": [
        "model.fit(xtrain , ytrain , validation_data=(xtest , ytest) , epochs=300 , batch_size=64 , verbose=1)"
      ],
      "execution_count": 18,
      "outputs": [
        {
          "output_type": "stream",
          "text": [
            "Epoch 1/300\n",
            "13/13 [==============================] - 7s 193ms/step - loss: 0.0550 - val_loss: 0.0156\n",
            "Epoch 2/300\n",
            "13/13 [==============================] - 1s 113ms/step - loss: 0.0081 - val_loss: 0.0027\n",
            "Epoch 3/300\n",
            "13/13 [==============================] - 1s 114ms/step - loss: 0.0020 - val_loss: 0.0030\n",
            "Epoch 4/300\n",
            "13/13 [==============================] - 1s 112ms/step - loss: 0.0017 - val_loss: 0.0025\n",
            "Epoch 5/300\n",
            "13/13 [==============================] - 1s 109ms/step - loss: 0.0014 - val_loss: 0.0025\n",
            "Epoch 6/300\n",
            "13/13 [==============================] - 1s 109ms/step - loss: 0.0013 - val_loss: 0.0027\n",
            "Epoch 7/300\n",
            "13/13 [==============================] - 1s 112ms/step - loss: 0.0012 - val_loss: 0.0027\n",
            "Epoch 8/300\n",
            "13/13 [==============================] - 1s 110ms/step - loss: 0.0012 - val_loss: 0.0028\n",
            "Epoch 9/300\n",
            "13/13 [==============================] - 1s 107ms/step - loss: 0.0012 - val_loss: 0.0028\n",
            "Epoch 10/300\n",
            "13/13 [==============================] - 1s 105ms/step - loss: 0.0012 - val_loss: 0.0024\n",
            "Epoch 11/300\n",
            "13/13 [==============================] - 1s 104ms/step - loss: 0.0012 - val_loss: 0.0025\n",
            "Epoch 12/300\n",
            "13/13 [==============================] - 1s 108ms/step - loss: 0.0011 - val_loss: 0.0028\n",
            "Epoch 13/300\n",
            "13/13 [==============================] - 1s 110ms/step - loss: 0.0012 - val_loss: 0.0027\n",
            "Epoch 14/300\n",
            "13/13 [==============================] - 1s 107ms/step - loss: 0.0011 - val_loss: 0.0024\n",
            "Epoch 15/300\n",
            "13/13 [==============================] - 1s 109ms/step - loss: 0.0011 - val_loss: 0.0026\n",
            "Epoch 16/300\n",
            "13/13 [==============================] - 1s 111ms/step - loss: 0.0012 - val_loss: 0.0023\n",
            "Epoch 17/300\n",
            "13/13 [==============================] - 1s 108ms/step - loss: 0.0013 - val_loss: 0.0022\n",
            "Epoch 18/300\n",
            "13/13 [==============================] - 1s 110ms/step - loss: 0.0010 - val_loss: 0.0022\n",
            "Epoch 19/300\n",
            "13/13 [==============================] - 1s 112ms/step - loss: 0.0010 - val_loss: 0.0026\n",
            "Epoch 20/300\n",
            "13/13 [==============================] - 1s 110ms/step - loss: 0.0010 - val_loss: 0.0022\n",
            "Epoch 21/300\n",
            "13/13 [==============================] - 1s 107ms/step - loss: 9.6921e-04 - val_loss: 0.0021\n",
            "Epoch 22/300\n",
            "13/13 [==============================] - 1s 109ms/step - loss: 9.6621e-04 - val_loss: 0.0026\n",
            "Epoch 23/300\n",
            "13/13 [==============================] - 1s 108ms/step - loss: 0.0010 - val_loss: 0.0020\n",
            "Epoch 24/300\n",
            "13/13 [==============================] - 1s 114ms/step - loss: 0.0010 - val_loss: 0.0023\n",
            "Epoch 25/300\n",
            "13/13 [==============================] - 1s 110ms/step - loss: 9.2210e-04 - val_loss: 0.0019\n",
            "Epoch 26/300\n",
            "13/13 [==============================] - 1s 109ms/step - loss: 9.4066e-04 - val_loss: 0.0022\n",
            "Epoch 27/300\n",
            "13/13 [==============================] - 1s 105ms/step - loss: 9.5474e-04 - val_loss: 0.0018\n",
            "Epoch 28/300\n",
            "13/13 [==============================] - 1s 106ms/step - loss: 8.9599e-04 - val_loss: 0.0018\n",
            "Epoch 29/300\n",
            "13/13 [==============================] - 1s 111ms/step - loss: 8.9453e-04 - val_loss: 0.0018\n",
            "Epoch 30/300\n",
            "13/13 [==============================] - 1s 113ms/step - loss: 9.8221e-04 - val_loss: 0.0021\n",
            "Epoch 31/300\n",
            "13/13 [==============================] - 1s 113ms/step - loss: 9.7644e-04 - val_loss: 0.0020\n",
            "Epoch 32/300\n",
            "13/13 [==============================] - 1s 106ms/step - loss: 9.5136e-04 - val_loss: 0.0023\n",
            "Epoch 33/300\n",
            "13/13 [==============================] - 1s 108ms/step - loss: 9.3548e-04 - val_loss: 0.0019\n",
            "Epoch 34/300\n",
            "13/13 [==============================] - 1s 108ms/step - loss: 8.4453e-04 - val_loss: 0.0020\n",
            "Epoch 35/300\n",
            "13/13 [==============================] - 1s 109ms/step - loss: 8.2856e-04 - val_loss: 0.0017\n",
            "Epoch 36/300\n",
            "13/13 [==============================] - 1s 106ms/step - loss: 7.8049e-04 - val_loss: 0.0019\n",
            "Epoch 37/300\n",
            "13/13 [==============================] - 1s 104ms/step - loss: 8.0643e-04 - val_loss: 0.0017\n",
            "Epoch 38/300\n",
            "13/13 [==============================] - 1s 104ms/step - loss: 8.6437e-04 - val_loss: 0.0018\n",
            "Epoch 39/300\n",
            "13/13 [==============================] - 1s 106ms/step - loss: 7.4674e-04 - val_loss: 0.0016\n",
            "Epoch 40/300\n",
            "13/13 [==============================] - 1s 103ms/step - loss: 7.5522e-04 - val_loss: 0.0016\n",
            "Epoch 41/300\n",
            "13/13 [==============================] - 1s 106ms/step - loss: 7.4537e-04 - val_loss: 0.0016\n",
            "Epoch 42/300\n",
            "13/13 [==============================] - 1s 109ms/step - loss: 8.1230e-04 - val_loss: 0.0016\n",
            "Epoch 43/300\n",
            "13/13 [==============================] - 1s 112ms/step - loss: 8.0837e-04 - val_loss: 0.0020\n",
            "Epoch 44/300\n",
            "13/13 [==============================] - 1s 108ms/step - loss: 7.6148e-04 - val_loss: 0.0016\n",
            "Epoch 45/300\n",
            "13/13 [==============================] - 1s 104ms/step - loss: 7.2960e-04 - val_loss: 0.0015\n",
            "Epoch 46/300\n",
            "13/13 [==============================] - 1s 108ms/step - loss: 9.4015e-04 - val_loss: 0.0015\n",
            "Epoch 47/300\n",
            "13/13 [==============================] - 1s 106ms/step - loss: 0.0011 - val_loss: 0.0022\n",
            "Epoch 48/300\n",
            "13/13 [==============================] - 1s 111ms/step - loss: 9.2057e-04 - val_loss: 0.0015\n",
            "Epoch 49/300\n",
            "13/13 [==============================] - 1s 107ms/step - loss: 7.5941e-04 - val_loss: 0.0014\n",
            "Epoch 50/300\n",
            "13/13 [==============================] - 1s 106ms/step - loss: 8.2434e-04 - val_loss: 0.0019\n",
            "Epoch 51/300\n",
            "13/13 [==============================] - 1s 103ms/step - loss: 9.2216e-04 - val_loss: 0.0014\n",
            "Epoch 52/300\n",
            "13/13 [==============================] - 1s 105ms/step - loss: 7.4075e-04 - val_loss: 0.0016\n",
            "Epoch 53/300\n",
            "13/13 [==============================] - 1s 103ms/step - loss: 7.5869e-04 - val_loss: 0.0015\n",
            "Epoch 54/300\n",
            "13/13 [==============================] - 1s 103ms/step - loss: 7.6315e-04 - val_loss: 0.0018\n",
            "Epoch 55/300\n",
            "13/13 [==============================] - 1s 105ms/step - loss: 8.3249e-04 - val_loss: 0.0015\n",
            "Epoch 56/300\n",
            "13/13 [==============================] - 1s 110ms/step - loss: 7.4676e-04 - val_loss: 0.0014\n",
            "Epoch 57/300\n",
            "13/13 [==============================] - 1s 114ms/step - loss: 7.2567e-04 - val_loss: 0.0015\n",
            "Epoch 58/300\n",
            "13/13 [==============================] - 1s 113ms/step - loss: 7.6802e-04 - val_loss: 0.0016\n",
            "Epoch 59/300\n",
            "13/13 [==============================] - 1s 109ms/step - loss: 8.0144e-04 - val_loss: 0.0015\n",
            "Epoch 60/300\n",
            "13/13 [==============================] - 1s 104ms/step - loss: 7.7346e-04 - val_loss: 0.0013\n",
            "Epoch 61/300\n",
            "13/13 [==============================] - 1s 107ms/step - loss: 8.0469e-04 - val_loss: 0.0013\n",
            "Epoch 62/300\n",
            "13/13 [==============================] - 1s 108ms/step - loss: 6.6773e-04 - val_loss: 0.0013\n",
            "Epoch 63/300\n",
            "13/13 [==============================] - 1s 107ms/step - loss: 6.4808e-04 - val_loss: 0.0013\n",
            "Epoch 64/300\n",
            "13/13 [==============================] - 1s 111ms/step - loss: 6.4285e-04 - val_loss: 0.0014\n",
            "Epoch 65/300\n",
            "13/13 [==============================] - 1s 109ms/step - loss: 7.3974e-04 - val_loss: 0.0013\n",
            "Epoch 66/300\n",
            "13/13 [==============================] - 1s 110ms/step - loss: 8.4351e-04 - val_loss: 0.0014\n",
            "Epoch 67/300\n",
            "13/13 [==============================] - 1s 115ms/step - loss: 7.3059e-04 - val_loss: 0.0012\n",
            "Epoch 68/300\n",
            "13/13 [==============================] - 1s 109ms/step - loss: 6.9194e-04 - val_loss: 0.0014\n",
            "Epoch 69/300\n",
            "13/13 [==============================] - 1s 106ms/step - loss: 6.3079e-04 - val_loss: 0.0013\n",
            "Epoch 70/300\n",
            "13/13 [==============================] - 1s 108ms/step - loss: 6.0509e-04 - val_loss: 0.0012\n",
            "Epoch 71/300\n",
            "13/13 [==============================] - 1s 112ms/step - loss: 6.4858e-04 - val_loss: 0.0012\n",
            "Epoch 72/300\n",
            "13/13 [==============================] - 1s 110ms/step - loss: 6.8845e-04 - val_loss: 0.0016\n",
            "Epoch 73/300\n",
            "13/13 [==============================] - 1s 110ms/step - loss: 7.5539e-04 - val_loss: 0.0013\n",
            "Epoch 74/300\n",
            "13/13 [==============================] - 1s 110ms/step - loss: 6.9184e-04 - val_loss: 0.0018\n",
            "Epoch 75/300\n",
            "13/13 [==============================] - 1s 112ms/step - loss: 7.6778e-04 - val_loss: 0.0011\n",
            "Epoch 76/300\n",
            "13/13 [==============================] - 1s 113ms/step - loss: 6.1486e-04 - val_loss: 0.0015\n",
            "Epoch 77/300\n",
            "13/13 [==============================] - 1s 114ms/step - loss: 6.6669e-04 - val_loss: 0.0013\n",
            "Epoch 78/300\n",
            "13/13 [==============================] - 1s 114ms/step - loss: 7.0229e-04 - val_loss: 0.0011\n",
            "Epoch 79/300\n",
            "13/13 [==============================] - 1s 111ms/step - loss: 5.7347e-04 - val_loss: 0.0011\n",
            "Epoch 80/300\n",
            "13/13 [==============================] - 1s 106ms/step - loss: 5.7256e-04 - val_loss: 0.0012\n",
            "Epoch 81/300\n",
            "13/13 [==============================] - 1s 104ms/step - loss: 5.7546e-04 - val_loss: 0.0011\n",
            "Epoch 82/300\n",
            "13/13 [==============================] - 1s 107ms/step - loss: 5.5003e-04 - val_loss: 0.0011\n",
            "Epoch 83/300\n",
            "13/13 [==============================] - 1s 111ms/step - loss: 5.6947e-04 - val_loss: 0.0011\n",
            "Epoch 84/300\n",
            "13/13 [==============================] - 1s 112ms/step - loss: 5.5643e-04 - val_loss: 0.0010\n",
            "Epoch 85/300\n",
            "13/13 [==============================] - 1s 113ms/step - loss: 5.4527e-04 - val_loss: 0.0010\n",
            "Epoch 86/300\n",
            "13/13 [==============================] - 1s 113ms/step - loss: 5.6401e-04 - val_loss: 0.0011\n",
            "Epoch 87/300\n",
            "13/13 [==============================] - 1s 114ms/step - loss: 7.0801e-04 - val_loss: 0.0011\n",
            "Epoch 88/300\n",
            "13/13 [==============================] - 1s 112ms/step - loss: 6.1235e-04 - val_loss: 0.0010\n",
            "Epoch 89/300\n",
            "13/13 [==============================] - 1s 115ms/step - loss: 6.1139e-04 - val_loss: 0.0010\n",
            "Epoch 90/300\n",
            "13/13 [==============================] - 1s 115ms/step - loss: 6.0678e-04 - val_loss: 0.0010\n",
            "Epoch 91/300\n",
            "13/13 [==============================] - 1s 116ms/step - loss: 5.1458e-04 - val_loss: 0.0011\n",
            "Epoch 92/300\n",
            "13/13 [==============================] - 1s 113ms/step - loss: 6.3283e-04 - val_loss: 0.0012\n",
            "Epoch 93/300\n",
            "13/13 [==============================] - 1s 115ms/step - loss: 5.7307e-04 - val_loss: 0.0010\n",
            "Epoch 94/300\n",
            "13/13 [==============================] - 1s 117ms/step - loss: 5.4351e-04 - val_loss: 0.0012\n",
            "Epoch 95/300\n",
            "13/13 [==============================] - 1s 113ms/step - loss: 5.6290e-04 - val_loss: 9.5523e-04\n",
            "Epoch 96/300\n",
            "13/13 [==============================] - 1s 111ms/step - loss: 5.1289e-04 - val_loss: 0.0012\n",
            "Epoch 97/300\n",
            "13/13 [==============================] - 1s 111ms/step - loss: 4.9386e-04 - val_loss: 9.1613e-04\n",
            "Epoch 98/300\n",
            "13/13 [==============================] - 1s 109ms/step - loss: 4.7090e-04 - val_loss: 8.9254e-04\n",
            "Epoch 99/300\n",
            "13/13 [==============================] - 1s 113ms/step - loss: 5.0355e-04 - val_loss: 0.0011\n",
            "Epoch 100/300\n",
            "13/13 [==============================] - 1s 114ms/step - loss: 4.8096e-04 - val_loss: 8.6968e-04\n",
            "Epoch 101/300\n",
            "13/13 [==============================] - 1s 112ms/step - loss: 4.6379e-04 - val_loss: 9.6665e-04\n",
            "Epoch 102/300\n",
            "13/13 [==============================] - 1s 112ms/step - loss: 4.7520e-04 - val_loss: 8.7850e-04\n",
            "Epoch 103/300\n",
            "13/13 [==============================] - 1s 110ms/step - loss: 4.3925e-04 - val_loss: 9.0066e-04\n",
            "Epoch 104/300\n",
            "13/13 [==============================] - 1s 114ms/step - loss: 4.2349e-04 - val_loss: 9.5680e-04\n",
            "Epoch 105/300\n",
            "13/13 [==============================] - 1s 115ms/step - loss: 4.1824e-04 - val_loss: 8.3036e-04\n",
            "Epoch 106/300\n",
            "13/13 [==============================] - 1s 113ms/step - loss: 4.0262e-04 - val_loss: 0.0010\n",
            "Epoch 107/300\n",
            "13/13 [==============================] - 1s 114ms/step - loss: 5.2845e-04 - val_loss: 8.0467e-04\n",
            "Epoch 108/300\n",
            "13/13 [==============================] - 1s 116ms/step - loss: 4.0612e-04 - val_loss: 8.9193e-04\n",
            "Epoch 109/300\n",
            "13/13 [==============================] - 1s 114ms/step - loss: 4.1703e-04 - val_loss: 9.1317e-04\n",
            "Epoch 110/300\n",
            "13/13 [==============================] - 1s 113ms/step - loss: 3.7176e-04 - val_loss: 8.3969e-04\n",
            "Epoch 111/300\n",
            "13/13 [==============================] - 2s 119ms/step - loss: 3.8017e-04 - val_loss: 0.0010\n",
            "Epoch 112/300\n",
            "13/13 [==============================] - 2s 117ms/step - loss: 4.0852e-04 - val_loss: 8.5620e-04\n",
            "Epoch 113/300\n",
            "13/13 [==============================] - 1s 115ms/step - loss: 4.6021e-04 - val_loss: 8.7341e-04\n",
            "Epoch 114/300\n",
            "13/13 [==============================] - 1s 112ms/step - loss: 4.1492e-04 - val_loss: 9.9219e-04\n",
            "Epoch 115/300\n",
            "13/13 [==============================] - 1s 110ms/step - loss: 4.0364e-04 - val_loss: 8.0343e-04\n",
            "Epoch 116/300\n",
            "13/13 [==============================] - 1s 111ms/step - loss: 3.4986e-04 - val_loss: 8.6315e-04\n",
            "Epoch 117/300\n",
            "13/13 [==============================] - 2s 118ms/step - loss: 4.0947e-04 - val_loss: 8.2232e-04\n",
            "Epoch 118/300\n",
            "13/13 [==============================] - 1s 113ms/step - loss: 3.8041e-04 - val_loss: 7.8667e-04\n",
            "Epoch 119/300\n",
            "13/13 [==============================] - 1s 115ms/step - loss: 3.4827e-04 - val_loss: 9.3337e-04\n",
            "Epoch 120/300\n",
            "13/13 [==============================] - 1s 107ms/step - loss: 4.5664e-04 - val_loss: 8.8036e-04\n",
            "Epoch 121/300\n",
            "13/13 [==============================] - 1s 105ms/step - loss: 3.3423e-04 - val_loss: 7.4930e-04\n",
            "Epoch 122/300\n",
            "13/13 [==============================] - 1s 107ms/step - loss: 3.1778e-04 - val_loss: 0.0011\n",
            "Epoch 123/300\n",
            "13/13 [==============================] - 1s 107ms/step - loss: 3.9773e-04 - val_loss: 9.2355e-04\n",
            "Epoch 124/300\n",
            "13/13 [==============================] - 1s 107ms/step - loss: 3.7056e-04 - val_loss: 7.8273e-04\n",
            "Epoch 125/300\n",
            "13/13 [==============================] - 1s 107ms/step - loss: 3.8575e-04 - val_loss: 9.2682e-04\n",
            "Epoch 126/300\n",
            "13/13 [==============================] - 1s 106ms/step - loss: 4.1799e-04 - val_loss: 7.1122e-04\n",
            "Epoch 127/300\n",
            "13/13 [==============================] - 1s 107ms/step - loss: 3.5451e-04 - val_loss: 7.0525e-04\n",
            "Epoch 128/300\n",
            "13/13 [==============================] - 1s 108ms/step - loss: 3.1445e-04 - val_loss: 7.2411e-04\n",
            "Epoch 129/300\n",
            "13/13 [==============================] - 1s 113ms/step - loss: 3.1336e-04 - val_loss: 7.5277e-04\n",
            "Epoch 130/300\n",
            "13/13 [==============================] - 1s 111ms/step - loss: 3.0051e-04 - val_loss: 7.4177e-04\n",
            "Epoch 131/300\n",
            "13/13 [==============================] - 1s 111ms/step - loss: 3.3173e-04 - val_loss: 7.4725e-04\n",
            "Epoch 132/300\n",
            "13/13 [==============================] - 1s 107ms/step - loss: 3.6059e-04 - val_loss: 8.5352e-04\n",
            "Epoch 133/300\n",
            "13/13 [==============================] - 1s 107ms/step - loss: 3.7390e-04 - val_loss: 8.6711e-04\n",
            "Epoch 134/300\n",
            "13/13 [==============================] - 1s 115ms/step - loss: 3.6139e-04 - val_loss: 7.7501e-04\n",
            "Epoch 135/300\n",
            "13/13 [==============================] - 2s 117ms/step - loss: 2.9166e-04 - val_loss: 7.2212e-04\n",
            "Epoch 136/300\n",
            "13/13 [==============================] - 1s 112ms/step - loss: 3.0656e-04 - val_loss: 7.1849e-04\n",
            "Epoch 137/300\n",
            "13/13 [==============================] - 1s 111ms/step - loss: 2.7116e-04 - val_loss: 6.8109e-04\n",
            "Epoch 138/300\n",
            "13/13 [==============================] - 1s 111ms/step - loss: 2.7341e-04 - val_loss: 6.8152e-04\n",
            "Epoch 139/300\n",
            "13/13 [==============================] - 1s 111ms/step - loss: 2.8589e-04 - val_loss: 6.6118e-04\n",
            "Epoch 140/300\n",
            "13/13 [==============================] - 1s 107ms/step - loss: 2.8997e-04 - val_loss: 6.4778e-04\n",
            "Epoch 141/300\n",
            "13/13 [==============================] - 1s 110ms/step - loss: 2.7673e-04 - val_loss: 7.3454e-04\n",
            "Epoch 142/300\n",
            "13/13 [==============================] - 1s 107ms/step - loss: 2.8887e-04 - val_loss: 6.6229e-04\n",
            "Epoch 143/300\n",
            "13/13 [==============================] - 1s 113ms/step - loss: 2.9841e-04 - val_loss: 6.9400e-04\n",
            "Epoch 144/300\n",
            "13/13 [==============================] - 1s 115ms/step - loss: 2.8893e-04 - val_loss: 6.4980e-04\n",
            "Epoch 145/300\n",
            "13/13 [==============================] - 1s 112ms/step - loss: 2.6917e-04 - val_loss: 7.0562e-04\n",
            "Epoch 146/300\n",
            "13/13 [==============================] - 1s 113ms/step - loss: 2.8029e-04 - val_loss: 7.4415e-04\n",
            "Epoch 147/300\n",
            "13/13 [==============================] - 1s 114ms/step - loss: 2.6880e-04 - val_loss: 6.5301e-04\n",
            "Epoch 148/300\n",
            "13/13 [==============================] - 1s 116ms/step - loss: 2.8747e-04 - val_loss: 6.9761e-04\n",
            "Epoch 149/300\n",
            "13/13 [==============================] - 1s 112ms/step - loss: 2.9435e-04 - val_loss: 7.1668e-04\n",
            "Epoch 150/300\n",
            "13/13 [==============================] - 1s 112ms/step - loss: 3.0213e-04 - val_loss: 9.4497e-04\n",
            "Epoch 151/300\n",
            "13/13 [==============================] - 1s 110ms/step - loss: 3.4563e-04 - val_loss: 7.0528e-04\n",
            "Epoch 152/300\n",
            "13/13 [==============================] - 1s 114ms/step - loss: 2.6746e-04 - val_loss: 6.4663e-04\n",
            "Epoch 153/300\n",
            "13/13 [==============================] - 1s 114ms/step - loss: 2.7391e-04 - val_loss: 6.7578e-04\n",
            "Epoch 154/300\n",
            "13/13 [==============================] - 1s 115ms/step - loss: 2.8347e-04 - val_loss: 6.1989e-04\n",
            "Epoch 155/300\n",
            "13/13 [==============================] - 1s 114ms/step - loss: 2.5408e-04 - val_loss: 6.2167e-04\n",
            "Epoch 156/300\n",
            "13/13 [==============================] - 1s 114ms/step - loss: 2.5412e-04 - val_loss: 6.1692e-04\n",
            "Epoch 157/300\n",
            "13/13 [==============================] - 1s 110ms/step - loss: 2.5015e-04 - val_loss: 6.2575e-04\n",
            "Epoch 158/300\n",
            "13/13 [==============================] - 1s 110ms/step - loss: 2.6136e-04 - val_loss: 6.3578e-04\n",
            "Epoch 159/300\n",
            "13/13 [==============================] - 1s 115ms/step - loss: 2.4423e-04 - val_loss: 6.0257e-04\n",
            "Epoch 160/300\n",
            "13/13 [==============================] - 1s 116ms/step - loss: 2.5407e-04 - val_loss: 5.9504e-04\n",
            "Epoch 161/300\n",
            "13/13 [==============================] - 1s 113ms/step - loss: 2.9204e-04 - val_loss: 6.3530e-04\n",
            "Epoch 162/300\n",
            "13/13 [==============================] - 1s 116ms/step - loss: 2.6287e-04 - val_loss: 6.4244e-04\n",
            "Epoch 163/300\n",
            "13/13 [==============================] - 1s 112ms/step - loss: 3.5406e-04 - val_loss: 6.1924e-04\n",
            "Epoch 164/300\n",
            "13/13 [==============================] - 1s 110ms/step - loss: 2.5554e-04 - val_loss: 6.2050e-04\n",
            "Epoch 165/300\n",
            "13/13 [==============================] - 1s 112ms/step - loss: 2.4891e-04 - val_loss: 6.4220e-04\n",
            "Epoch 166/300\n",
            "13/13 [==============================] - 1s 112ms/step - loss: 2.5080e-04 - val_loss: 6.1100e-04\n",
            "Epoch 167/300\n",
            "13/13 [==============================] - 1s 112ms/step - loss: 2.3891e-04 - val_loss: 5.9210e-04\n",
            "Epoch 168/300\n",
            "13/13 [==============================] - 1s 115ms/step - loss: 2.4458e-04 - val_loss: 5.9473e-04\n",
            "Epoch 169/300\n",
            "13/13 [==============================] - 1s 114ms/step - loss: 2.4897e-04 - val_loss: 5.7729e-04\n",
            "Epoch 170/300\n",
            "13/13 [==============================] - 1s 114ms/step - loss: 2.9127e-04 - val_loss: 5.8463e-04\n",
            "Epoch 171/300\n",
            "13/13 [==============================] - 1s 110ms/step - loss: 2.7513e-04 - val_loss: 5.8924e-04\n",
            "Epoch 172/300\n",
            "13/13 [==============================] - 1s 109ms/step - loss: 2.4252e-04 - val_loss: 5.6504e-04\n",
            "Epoch 173/300\n",
            "13/13 [==============================] - 1s 112ms/step - loss: 2.2914e-04 - val_loss: 6.3350e-04\n",
            "Epoch 174/300\n",
            "13/13 [==============================] - 1s 110ms/step - loss: 2.8988e-04 - val_loss: 7.5824e-04\n",
            "Epoch 175/300\n",
            "13/13 [==============================] - 1s 111ms/step - loss: 3.8096e-04 - val_loss: 7.9759e-04\n",
            "Epoch 176/300\n",
            "13/13 [==============================] - 1s 110ms/step - loss: 3.9871e-04 - val_loss: 8.2907e-04\n",
            "Epoch 177/300\n",
            "13/13 [==============================] - 1s 110ms/step - loss: 2.8992e-04 - val_loss: 5.8696e-04\n",
            "Epoch 178/300\n",
            "13/13 [==============================] - 1s 116ms/step - loss: 2.2988e-04 - val_loss: 5.4854e-04\n",
            "Epoch 179/300\n",
            "13/13 [==============================] - 1s 114ms/step - loss: 2.4084e-04 - val_loss: 5.4335e-04\n",
            "Epoch 180/300\n",
            "13/13 [==============================] - 1s 115ms/step - loss: 2.3258e-04 - val_loss: 6.6426e-04\n",
            "Epoch 181/300\n",
            "13/13 [==============================] - 1s 116ms/step - loss: 2.3974e-04 - val_loss: 6.9403e-04\n",
            "Epoch 182/300\n",
            "13/13 [==============================] - 1s 114ms/step - loss: 2.7501e-04 - val_loss: 7.0570e-04\n",
            "Epoch 183/300\n",
            "13/13 [==============================] - 1s 112ms/step - loss: 2.6330e-04 - val_loss: 5.6581e-04\n",
            "Epoch 184/300\n",
            "13/13 [==============================] - 1s 111ms/step - loss: 2.2202e-04 - val_loss: 5.5453e-04\n",
            "Epoch 185/300\n",
            "13/13 [==============================] - 1s 110ms/step - loss: 2.2126e-04 - val_loss: 5.4789e-04\n",
            "Epoch 186/300\n",
            "13/13 [==============================] - 1s 107ms/step - loss: 2.2855e-04 - val_loss: 5.3869e-04\n",
            "Epoch 187/300\n",
            "13/13 [==============================] - 1s 107ms/step - loss: 2.5167e-04 - val_loss: 5.5946e-04\n",
            "Epoch 188/300\n",
            "13/13 [==============================] - 1s 109ms/step - loss: 2.2708e-04 - val_loss: 5.5253e-04\n",
            "Epoch 189/300\n",
            "13/13 [==============================] - 1s 108ms/step - loss: 2.4516e-04 - val_loss: 5.3511e-04\n",
            "Epoch 190/300\n",
            "13/13 [==============================] - 1s 111ms/step - loss: 2.3414e-04 - val_loss: 5.7491e-04\n",
            "Epoch 191/300\n",
            "13/13 [==============================] - 1s 110ms/step - loss: 2.2301e-04 - val_loss: 5.5570e-04\n",
            "Epoch 192/300\n",
            "13/13 [==============================] - 1s 111ms/step - loss: 2.1991e-04 - val_loss: 5.4123e-04\n",
            "Epoch 193/300\n",
            "13/13 [==============================] - 1s 110ms/step - loss: 2.4745e-04 - val_loss: 5.3064e-04\n",
            "Epoch 194/300\n",
            "13/13 [==============================] - 1s 112ms/step - loss: 2.3591e-04 - val_loss: 5.1464e-04\n",
            "Epoch 195/300\n",
            "13/13 [==============================] - 1s 112ms/step - loss: 2.1709e-04 - val_loss: 5.3704e-04\n",
            "Epoch 196/300\n",
            "13/13 [==============================] - 1s 109ms/step - loss: 2.1880e-04 - val_loss: 5.1394e-04\n",
            "Epoch 197/300\n",
            "13/13 [==============================] - 1s 112ms/step - loss: 2.3277e-04 - val_loss: 5.0885e-04\n",
            "Epoch 198/300\n",
            "13/13 [==============================] - 1s 113ms/step - loss: 2.2101e-04 - val_loss: 5.3096e-04\n",
            "Epoch 199/300\n",
            "13/13 [==============================] - 1s 112ms/step - loss: 2.1765e-04 - val_loss: 5.1493e-04\n",
            "Epoch 200/300\n",
            "13/13 [==============================] - 1s 109ms/step - loss: 2.2102e-04 - val_loss: 5.4397e-04\n",
            "Epoch 201/300\n",
            "13/13 [==============================] - 1s 110ms/step - loss: 2.9118e-04 - val_loss: 5.5425e-04\n",
            "Epoch 202/300\n",
            "13/13 [==============================] - 1s 114ms/step - loss: 2.7474e-04 - val_loss: 5.0619e-04\n",
            "Epoch 203/300\n",
            "13/13 [==============================] - 1s 113ms/step - loss: 2.3944e-04 - val_loss: 5.1566e-04\n",
            "Epoch 204/300\n",
            "13/13 [==============================] - 2s 116ms/step - loss: 2.1983e-04 - val_loss: 5.0655e-04\n",
            "Epoch 205/300\n",
            "13/13 [==============================] - 1s 116ms/step - loss: 3.0381e-04 - val_loss: 6.6375e-04\n",
            "Epoch 206/300\n",
            "13/13 [==============================] - 1s 112ms/step - loss: 4.0150e-04 - val_loss: 8.4485e-04\n",
            "Epoch 207/300\n",
            "13/13 [==============================] - 1s 108ms/step - loss: 3.3649e-04 - val_loss: 4.9967e-04\n",
            "Epoch 208/300\n",
            "13/13 [==============================] - 1s 108ms/step - loss: 2.2266e-04 - val_loss: 5.1247e-04\n",
            "Epoch 209/300\n",
            "13/13 [==============================] - 1s 110ms/step - loss: 2.2790e-04 - val_loss: 5.2483e-04\n",
            "Epoch 210/300\n",
            "13/13 [==============================] - 1s 109ms/step - loss: 2.2189e-04 - val_loss: 5.1670e-04\n",
            "Epoch 211/300\n",
            "13/13 [==============================] - 1s 111ms/step - loss: 2.3525e-04 - val_loss: 5.1852e-04\n",
            "Epoch 212/300\n",
            "13/13 [==============================] - 1s 110ms/step - loss: 2.1664e-04 - val_loss: 4.9759e-04\n",
            "Epoch 213/300\n",
            "13/13 [==============================] - 1s 110ms/step - loss: 2.4911e-04 - val_loss: 5.9238e-04\n",
            "Epoch 214/300\n",
            "13/13 [==============================] - 1s 110ms/step - loss: 2.6697e-04 - val_loss: 6.0977e-04\n",
            "Epoch 215/300\n",
            "13/13 [==============================] - 1s 110ms/step - loss: 2.2073e-04 - val_loss: 5.1419e-04\n",
            "Epoch 216/300\n",
            "13/13 [==============================] - 1s 111ms/step - loss: 2.2645e-04 - val_loss: 4.9064e-04\n",
            "Epoch 217/300\n",
            "13/13 [==============================] - 1s 112ms/step - loss: 2.4545e-04 - val_loss: 5.2423e-04\n",
            "Epoch 218/300\n",
            "13/13 [==============================] - 1s 110ms/step - loss: 2.7479e-04 - val_loss: 5.0622e-04\n",
            "Epoch 219/300\n",
            "13/13 [==============================] - 1s 110ms/step - loss: 2.2414e-04 - val_loss: 4.9293e-04\n",
            "Epoch 220/300\n",
            "13/13 [==============================] - 1s 112ms/step - loss: 2.0956e-04 - val_loss: 5.1630e-04\n",
            "Epoch 221/300\n",
            "13/13 [==============================] - 1s 116ms/step - loss: 2.1753e-04 - val_loss: 5.9369e-04\n",
            "Epoch 222/300\n",
            "13/13 [==============================] - 1s 114ms/step - loss: 2.9024e-04 - val_loss: 5.9635e-04\n",
            "Epoch 223/300\n",
            "13/13 [==============================] - 1s 113ms/step - loss: 2.1873e-04 - val_loss: 5.1247e-04\n",
            "Epoch 224/300\n",
            "13/13 [==============================] - 1s 113ms/step - loss: 2.1341e-04 - val_loss: 4.8988e-04\n",
            "Epoch 225/300\n",
            "13/13 [==============================] - 1s 116ms/step - loss: 2.1135e-04 - val_loss: 5.0237e-04\n",
            "Epoch 226/300\n",
            "13/13 [==============================] - 2s 117ms/step - loss: 2.1748e-04 - val_loss: 5.1067e-04\n",
            "Epoch 227/300\n",
            "13/13 [==============================] - 2s 116ms/step - loss: 2.4091e-04 - val_loss: 4.8273e-04\n",
            "Epoch 228/300\n",
            "13/13 [==============================] - 1s 116ms/step - loss: 2.1460e-04 - val_loss: 5.0636e-04\n",
            "Epoch 229/300\n",
            "13/13 [==============================] - 1s 115ms/step - loss: 2.5021e-04 - val_loss: 5.7037e-04\n",
            "Epoch 230/300\n",
            "13/13 [==============================] - 1s 111ms/step - loss: 2.3546e-04 - val_loss: 5.7659e-04\n",
            "Epoch 231/300\n",
            "13/13 [==============================] - 1s 112ms/step - loss: 2.4532e-04 - val_loss: 5.1824e-04\n",
            "Epoch 232/300\n",
            "13/13 [==============================] - 1s 112ms/step - loss: 2.5516e-04 - val_loss: 5.2420e-04\n",
            "Epoch 233/300\n",
            "13/13 [==============================] - 1s 113ms/step - loss: 2.2691e-04 - val_loss: 6.5380e-04\n",
            "Epoch 234/300\n",
            "13/13 [==============================] - 1s 114ms/step - loss: 2.3978e-04 - val_loss: 6.1403e-04\n",
            "Epoch 235/300\n",
            "13/13 [==============================] - 1s 114ms/step - loss: 2.3769e-04 - val_loss: 5.8137e-04\n",
            "Epoch 236/300\n",
            "13/13 [==============================] - 1s 116ms/step - loss: 2.5387e-04 - val_loss: 4.8960e-04\n",
            "Epoch 237/300\n",
            "13/13 [==============================] - 1s 112ms/step - loss: 2.1381e-04 - val_loss: 6.7338e-04\n",
            "Epoch 238/300\n",
            "13/13 [==============================] - 1s 113ms/step - loss: 2.6153e-04 - val_loss: 6.0627e-04\n",
            "Epoch 239/300\n",
            "13/13 [==============================] - 1s 113ms/step - loss: 2.2243e-04 - val_loss: 4.9693e-04\n",
            "Epoch 240/300\n",
            "13/13 [==============================] - 1s 115ms/step - loss: 2.0532e-04 - val_loss: 4.9819e-04\n",
            "Epoch 241/300\n",
            "13/13 [==============================] - 1s 112ms/step - loss: 2.2474e-04 - val_loss: 4.9297e-04\n",
            "Epoch 242/300\n",
            "13/13 [==============================] - 1s 111ms/step - loss: 2.2279e-04 - val_loss: 5.1629e-04\n",
            "Epoch 243/300\n",
            "13/13 [==============================] - 1s 110ms/step - loss: 2.1536e-04 - val_loss: 4.9773e-04\n",
            "Epoch 244/300\n",
            "13/13 [==============================] - 1s 111ms/step - loss: 2.1921e-04 - val_loss: 4.9634e-04\n",
            "Epoch 245/300\n",
            "13/13 [==============================] - 1s 109ms/step - loss: 2.0071e-04 - val_loss: 4.8068e-04\n",
            "Epoch 246/300\n",
            "13/13 [==============================] - 1s 111ms/step - loss: 2.0902e-04 - val_loss: 5.9659e-04\n",
            "Epoch 247/300\n",
            "13/13 [==============================] - 1s 112ms/step - loss: 2.4184e-04 - val_loss: 4.8503e-04\n",
            "Epoch 248/300\n",
            "13/13 [==============================] - 1s 115ms/step - loss: 2.5414e-04 - val_loss: 5.6307e-04\n",
            "Epoch 249/300\n",
            "13/13 [==============================] - 2s 117ms/step - loss: 2.2922e-04 - val_loss: 6.2144e-04\n",
            "Epoch 250/300\n",
            "13/13 [==============================] - 2s 117ms/step - loss: 2.3939e-04 - val_loss: 5.1487e-04\n",
            "Epoch 251/300\n",
            "13/13 [==============================] - 1s 116ms/step - loss: 2.9277e-04 - val_loss: 5.7667e-04\n",
            "Epoch 252/300\n",
            "13/13 [==============================] - 1s 113ms/step - loss: 2.2918e-04 - val_loss: 5.3273e-04\n",
            "Epoch 253/300\n",
            "13/13 [==============================] - 1s 112ms/step - loss: 2.5221e-04 - val_loss: 5.0587e-04\n",
            "Epoch 254/300\n",
            "13/13 [==============================] - 1s 114ms/step - loss: 2.4385e-04 - val_loss: 4.9973e-04\n",
            "Epoch 255/300\n",
            "13/13 [==============================] - 1s 112ms/step - loss: 2.3808e-04 - val_loss: 4.8840e-04\n",
            "Epoch 256/300\n",
            "13/13 [==============================] - 1s 112ms/step - loss: 2.1955e-04 - val_loss: 4.7424e-04\n",
            "Epoch 257/300\n",
            "13/13 [==============================] - 1s 113ms/step - loss: 2.0185e-04 - val_loss: 5.2609e-04\n",
            "Epoch 258/300\n",
            "13/13 [==============================] - 1s 111ms/step - loss: 2.1195e-04 - val_loss: 5.1030e-04\n",
            "Epoch 259/300\n",
            "13/13 [==============================] - 1s 114ms/step - loss: 2.1166e-04 - val_loss: 5.8927e-04\n",
            "Epoch 260/300\n",
            "13/13 [==============================] - 1s 111ms/step - loss: 2.4890e-04 - val_loss: 4.9618e-04\n",
            "Epoch 261/300\n",
            "13/13 [==============================] - 1s 113ms/step - loss: 2.3740e-04 - val_loss: 4.9900e-04\n",
            "Epoch 262/300\n",
            "13/13 [==============================] - 1s 113ms/step - loss: 2.0719e-04 - val_loss: 5.1176e-04\n",
            "Epoch 263/300\n",
            "13/13 [==============================] - 1s 110ms/step - loss: 2.2541e-04 - val_loss: 5.3755e-04\n",
            "Epoch 264/300\n",
            "13/13 [==============================] - 1s 111ms/step - loss: 2.6381e-04 - val_loss: 4.7962e-04\n",
            "Epoch 265/300\n",
            "13/13 [==============================] - 1s 108ms/step - loss: 2.2991e-04 - val_loss: 4.8268e-04\n",
            "Epoch 266/300\n",
            "13/13 [==============================] - 1s 111ms/step - loss: 2.4748e-04 - val_loss: 4.9211e-04\n",
            "Epoch 267/300\n",
            "13/13 [==============================] - 1s 108ms/step - loss: 2.1252e-04 - val_loss: 4.8690e-04\n",
            "Epoch 268/300\n",
            "13/13 [==============================] - 1s 111ms/step - loss: 2.1455e-04 - val_loss: 5.0442e-04\n",
            "Epoch 269/300\n",
            "13/13 [==============================] - 1s 109ms/step - loss: 2.1766e-04 - val_loss: 4.7307e-04\n",
            "Epoch 270/300\n",
            "13/13 [==============================] - 1s 113ms/step - loss: 2.4090e-04 - val_loss: 5.7912e-04\n",
            "Epoch 271/300\n",
            "13/13 [==============================] - 2s 118ms/step - loss: 2.8563e-04 - val_loss: 4.7461e-04\n",
            "Epoch 272/300\n",
            "13/13 [==============================] - 1s 114ms/step - loss: 2.6560e-04 - val_loss: 5.0865e-04\n",
            "Epoch 273/300\n",
            "13/13 [==============================] - 1s 116ms/step - loss: 2.3533e-04 - val_loss: 4.8042e-04\n",
            "Epoch 274/300\n",
            "13/13 [==============================] - 1s 112ms/step - loss: 1.9810e-04 - val_loss: 5.5681e-04\n",
            "Epoch 275/300\n",
            "13/13 [==============================] - 1s 112ms/step - loss: 2.2788e-04 - val_loss: 4.9356e-04\n",
            "Epoch 276/300\n",
            "13/13 [==============================] - 1s 110ms/step - loss: 2.2813e-04 - val_loss: 6.4967e-04\n",
            "Epoch 277/300\n",
            "13/13 [==============================] - 1s 108ms/step - loss: 2.0741e-04 - val_loss: 4.9195e-04\n",
            "Epoch 278/300\n",
            "13/13 [==============================] - 1s 110ms/step - loss: 2.1222e-04 - val_loss: 5.1521e-04\n",
            "Epoch 279/300\n",
            "13/13 [==============================] - 1s 109ms/step - loss: 2.5034e-04 - val_loss: 5.3728e-04\n",
            "Epoch 280/300\n",
            "13/13 [==============================] - 1s 112ms/step - loss: 2.2439e-04 - val_loss: 5.1205e-04\n",
            "Epoch 281/300\n",
            "13/13 [==============================] - 1s 110ms/step - loss: 2.1003e-04 - val_loss: 4.8602e-04\n",
            "Epoch 282/300\n",
            "13/13 [==============================] - 1s 109ms/step - loss: 1.9086e-04 - val_loss: 4.9057e-04\n",
            "Epoch 283/300\n",
            "13/13 [==============================] - 1s 110ms/step - loss: 2.1928e-04 - val_loss: 6.4277e-04\n",
            "Epoch 284/300\n",
            "13/13 [==============================] - 1s 114ms/step - loss: 2.3301e-04 - val_loss: 5.8554e-04\n",
            "Epoch 285/300\n",
            "13/13 [==============================] - 1s 110ms/step - loss: 2.4105e-04 - val_loss: 8.1002e-04\n",
            "Epoch 286/300\n",
            "13/13 [==============================] - 1s 112ms/step - loss: 3.7059e-04 - val_loss: 7.2898e-04\n",
            "Epoch 287/300\n",
            "13/13 [==============================] - 1s 108ms/step - loss: 3.8814e-04 - val_loss: 7.6579e-04\n",
            "Epoch 288/300\n",
            "13/13 [==============================] - 1s 112ms/step - loss: 3.1203e-04 - val_loss: 4.7593e-04\n",
            "Epoch 289/300\n",
            "13/13 [==============================] - 1s 113ms/step - loss: 2.4220e-04 - val_loss: 5.1314e-04\n",
            "Epoch 290/300\n",
            "13/13 [==============================] - 1s 115ms/step - loss: 2.0267e-04 - val_loss: 4.8618e-04\n",
            "Epoch 291/300\n",
            "13/13 [==============================] - 1s 111ms/step - loss: 1.9665e-04 - val_loss: 5.8851e-04\n",
            "Epoch 292/300\n",
            "13/13 [==============================] - 1s 117ms/step - loss: 2.1813e-04 - val_loss: 5.5710e-04\n",
            "Epoch 293/300\n",
            "13/13 [==============================] - 2s 117ms/step - loss: 2.3011e-04 - val_loss: 5.3757e-04\n",
            "Epoch 294/300\n",
            "13/13 [==============================] - 2s 117ms/step - loss: 2.6388e-04 - val_loss: 4.8655e-04\n",
            "Epoch 295/300\n",
            "13/13 [==============================] - 1s 114ms/step - loss: 2.2983e-04 - val_loss: 6.1212e-04\n",
            "Epoch 296/300\n",
            "13/13 [==============================] - 1s 113ms/step - loss: 2.7415e-04 - val_loss: 5.0895e-04\n",
            "Epoch 297/300\n",
            "13/13 [==============================] - 1s 113ms/step - loss: 2.3961e-04 - val_loss: 4.9524e-04\n",
            "Epoch 298/300\n",
            "13/13 [==============================] - 1s 111ms/step - loss: 1.9336e-04 - val_loss: 5.2976e-04\n",
            "Epoch 299/300\n",
            "13/13 [==============================] - 1s 112ms/step - loss: 2.0855e-04 - val_loss: 4.9642e-04\n",
            "Epoch 300/300\n",
            "13/13 [==============================] - 1s 112ms/step - loss: 2.0730e-04 - val_loss: 5.5393e-04\n"
          ],
          "name": "stdout"
        },
        {
          "output_type": "execute_result",
          "data": {
            "text/plain": [
              "<tensorflow.python.keras.callbacks.History at 0x7fa95ea9aed0>"
            ]
          },
          "metadata": {
            "tags": []
          },
          "execution_count": 18
        }
      ]
    },
    {
      "cell_type": "code",
      "metadata": {
        "id": "IVcg6YfW3_t3"
      },
      "source": [
        "trainpredict = model.predict(xtrain)\n",
        "testpredict = model.predict(xtest)"
      ],
      "execution_count": 19,
      "outputs": []
    },
    {
      "cell_type": "code",
      "metadata": {
        "id": "SuhglG6rQcfG"
      },
      "source": [
        "from math import sqrt\n",
        "from sklearn.metrics import mean_squared_error"
      ],
      "execution_count": 20,
      "outputs": []
    },
    {
      "cell_type": "code",
      "metadata": {
        "colab": {
          "base_uri": "https://localhost:8080/"
        },
        "id": "S09rQErKQo3K",
        "outputId": "033f655f-a7b0-451b-976d-3d3598835096"
      },
      "source": [
        "sqrt(mean_squared_error(ytrain , trainpredict))"
      ],
      "execution_count": 21,
      "outputs": [
        {
          "output_type": "execute_result",
          "data": {
            "text/plain": [
              "0.015482743346840135"
            ]
          },
          "metadata": {
            "tags": []
          },
          "execution_count": 21
        }
      ]
    },
    {
      "cell_type": "code",
      "metadata": {
        "colab": {
          "base_uri": "https://localhost:8080/"
        },
        "id": "xFfygICMQpa-",
        "outputId": "6135a990-6942-44fd-d96c-c63c83bfb488"
      },
      "source": [
        "sqrt(mean_squared_error(ytest , testpredict))"
      ],
      "execution_count": 22,
      "outputs": [
        {
          "output_type": "execute_result",
          "data": {
            "text/plain": [
              "0.02353572477117537"
            ]
          },
          "metadata": {
            "tags": []
          },
          "execution_count": 22
        }
      ]
    },
    {
      "cell_type": "code",
      "metadata": {
        "id": "vL3NUeh_SDRF"
      },
      "source": [
        "# x_train = sc.inverse_transform(xtrain)\n",
        "y_train = sc.inverse_transform(np.reshape(ytrain , (-1 , 1)))"
      ],
      "execution_count": 43,
      "outputs": []
    },
    {
      "cell_type": "code",
      "metadata": {
        "id": "9CQXY0HmqB_J"
      },
      "source": [
        "# x_test = sc.inverse_transform(xtest)\n",
        "y_test = sc.inverse_transform(np.reshape(ytest , (-1 , 1)))"
      ],
      "execution_count": 24,
      "outputs": []
    },
    {
      "cell_type": "code",
      "metadata": {
        "id": "0HAL22HJptoB"
      },
      "source": [
        "train_predict = sc.inverse_transform(trainpredict)\n",
        "test_predict = sc.inverse_transform(testpredict)"
      ],
      "execution_count": 25,
      "outputs": []
    },
    {
      "cell_type": "code",
      "metadata": {
        "colab": {
          "base_uri": "https://localhost:8080/"
        },
        "id": "YH30qIrLqIX3",
        "outputId": "f7370045-5a0f-47a4-ffac-2aaf29f978ac"
      },
      "source": [
        "sqrt(mean_squared_error(y_train , train_predict))"
      ],
      "execution_count": 26,
      "outputs": [
        {
          "output_type": "execute_result",
          "data": {
            "text/plain": [
              "26.45474100100528"
            ]
          },
          "metadata": {
            "tags": []
          },
          "execution_count": 26
        }
      ]
    },
    {
      "cell_type": "code",
      "metadata": {
        "colab": {
          "base_uri": "https://localhost:8080/"
        },
        "id": "8AWCVzKtqI8-",
        "outputId": "5480f9d5-db1c-4570-a8d5-b8ad1bf58791"
      },
      "source": [
        "sqrt(mean_squared_error(y_test , test_predict))"
      ],
      "execution_count": 27,
      "outputs": [
        {
          "output_type": "execute_result",
          "data": {
            "text/plain": [
              "40.214546351998365"
            ]
          },
          "metadata": {
            "tags": []
          },
          "execution_count": 27
        }
      ]
    },
    {
      "cell_type": "markdown",
      "metadata": {
        "id": "EKHBpoAXh9gn"
      },
      "source": [
        "# **Plotting**"
      ]
    },
    {
      "cell_type": "code",
      "metadata": {
        "colab": {
          "base_uri": "https://localhost:8080/",
          "height": 374
        },
        "id": "Tjiz5GK9yZWq",
        "outputId": "cab5819e-0acc-44b8-9fda-9f077c9e5dab"
      },
      "source": [
        "from google.colab import files\n",
        "\n",
        "plt.figure(figsize=(12 , 6))\n",
        "\n",
        "plt.plot(y_train , label='y_train')\n",
        "plt.plot(train_predict , c='red' , label='train_predict')\n",
        "plt.legend()\n",
        "plt.savefig(\"trainprediction.png\")\n",
        "\n",
        "files.download(\"trainprediction.png\")"
      ],
      "execution_count": 34,
      "outputs": [
        {
          "output_type": "display_data",
          "data": {
            "application/javascript": [
              "\n",
              "    async function download(id, filename, size) {\n",
              "      if (!google.colab.kernel.accessAllowed) {\n",
              "        return;\n",
              "      }\n",
              "      const div = document.createElement('div');\n",
              "      const label = document.createElement('label');\n",
              "      label.textContent = `Downloading \"${filename}\": `;\n",
              "      div.appendChild(label);\n",
              "      const progress = document.createElement('progress');\n",
              "      progress.max = size;\n",
              "      div.appendChild(progress);\n",
              "      document.body.appendChild(div);\n",
              "\n",
              "      const buffers = [];\n",
              "      let downloaded = 0;\n",
              "\n",
              "      const channel = await google.colab.kernel.comms.open(id);\n",
              "      // Send a message to notify the kernel that we're ready.\n",
              "      channel.send({})\n",
              "\n",
              "      for await (const message of channel.messages) {\n",
              "        // Send a message to notify the kernel that we're ready.\n",
              "        channel.send({})\n",
              "        if (message.buffers) {\n",
              "          for (const buffer of message.buffers) {\n",
              "            buffers.push(buffer);\n",
              "            downloaded += buffer.byteLength;\n",
              "            progress.value = downloaded;\n",
              "          }\n",
              "        }\n",
              "      }\n",
              "      const blob = new Blob(buffers, {type: 'application/binary'});\n",
              "      const a = document.createElement('a');\n",
              "      a.href = window.URL.createObjectURL(blob);\n",
              "      a.download = filename;\n",
              "      div.appendChild(a);\n",
              "      a.click();\n",
              "      div.remove();\n",
              "    }\n",
              "  "
            ],
            "text/plain": [
              "<IPython.core.display.Javascript object>"
            ]
          },
          "metadata": {
            "tags": []
          }
        },
        {
          "output_type": "display_data",
          "data": {
            "application/javascript": [
              "download(\"download_7013892e-dc10-47f3-bd0b-5e3cfba69f4d\", \"trainprediction.png\", 32716)"
            ],
            "text/plain": [
              "<IPython.core.display.Javascript object>"
            ]
          },
          "metadata": {
            "tags": []
          }
        },
        {
          "output_type": "display_data",
          "data": {
            "image/png": "[encoded data removed]",
            "text/plain": [
              "<Figure size 864x432 with 1 Axes>"
            ]
          },
          "metadata": {
            "tags": [],
            "needs_background": "light"
          }
        }
      ]
    },
    {
      "cell_type": "code",
      "metadata": {
        "colab": {
          "base_uri": "https://localhost:8080/",
          "height": 374
        },
        "id": "9DtAxrtBcofY",
        "outputId": "7ff218a6-59e2-4de8-a141-f6137606fa79"
      },
      "source": [
        "plt.figure(figsize=(12 , 6))\n",
        "\n",
        "plt.plot(y_test , label='y_test')\n",
        "plt.plot(test_predict , c='red' , label='test_predict')\n",
        "plt.legend()\n",
        "plt.savefig(\"testprediction.png\")\n",
        "\n",
        "files.download(\"testprediction.png\")"
      ],
      "execution_count": 36,
      "outputs": [
        {
          "output_type": "display_data",
          "data": {
            "application/javascript": [
              "\n",
              "    async function download(id, filename, size) {\n",
              "      if (!google.colab.kernel.accessAllowed) {\n",
              "        return;\n",
              "      }\n",
              "      const div = document.createElement('div');\n",
              "      const label = document.createElement('label');\n",
              "      label.textContent = `Downloading \"${filename}\": `;\n",
              "      div.appendChild(label);\n",
              "      const progress = document.createElement('progress');\n",
              "      progress.max = size;\n",
              "      div.appendChild(progress);\n",
              "      document.body.appendChild(div);\n",
              "\n",
              "      const buffers = [];\n",
              "      let downloaded = 0;\n",
              "\n",
              "      const channel = await google.colab.kernel.comms.open(id);\n",
              "      // Send a message to notify the kernel that we're ready.\n",
              "      channel.send({})\n",
              "\n",
              "      for await (const message of channel.messages) {\n",
              "        // Send a message to notify the kernel that we're ready.\n",
              "        channel.send({})\n",
              "        if (message.buffers) {\n",
              "          for (const buffer of message.buffers) {\n",
              "            buffers.push(buffer);\n",
              "            downloaded += buffer.byteLength;\n",
              "            progress.value = downloaded;\n",
              "          }\n",
              "        }\n",
              "      }\n",
              "      const blob = new Blob(buffers, {type: 'application/binary'});\n",
              "      const a = document.createElement('a');\n",
              "      a.href = window.URL.createObjectURL(blob);\n",
              "      a.download = filename;\n",
              "      div.appendChild(a);\n",
              "      a.click();\n",
              "      div.remove();\n",
              "    }\n",
              "  "
            ],
            "text/plain": [
              "<IPython.core.display.Javascript object>"
            ]
          },
          "metadata": {
            "tags": []
          }
        },
        {
          "output_type": "display_data",
          "data": {
            "application/javascript": [
              "download(\"download_d3cdaab6-27a0-4087-a787-11bccb229012\", \"testprediction.png\", 33357)"
            ],
            "text/plain": [
              "<IPython.core.display.Javascript object>"
            ]
          },
          "metadata": {
            "tags": []
          }
        },
        {
          "output_type": "display_data",
          "data": {
            "image/png": "[encoded data removed]",
            "text/plain": [
              "<Figure size 864x432 with 1 Axes>"
            ]
          },
          "metadata": {
            "tags": [],
            "needs_background": "light"
          }
        }
      ]
    },
    {
      "cell_type": "code",
      "metadata": {
        "colab": {
          "base_uri": "https://localhost:8080/",
          "height": 374
        },
        "id": "jEN1WMPAclxy",
        "outputId": "165f4cfa-087a-45b6-98f7-c542a90ba0a1"
      },
      "source": [
        "plt.figure(figsize=(12 , 6))\n",
        "\n",
        "l = [i for i in range(y_train.shape[0])]\n",
        "plt.scatter(l , y_train , label='y_train')\n",
        "plt.scatter(l , train_predict , label='train_predict' , c='red')\n",
        "plt.legend()\n",
        "plt.plot()\n",
        "\n",
        "plt.savefig(\"scattertrainpredict.png\")\n",
        "files.download(\"scattertrainpredict.png\")"
      ],
      "execution_count": 37,
      "outputs": [
        {
          "output_type": "display_data",
          "data": {
            "application/javascript": [
              "\n",
              "    async function download(id, filename, size) {\n",
              "      if (!google.colab.kernel.accessAllowed) {\n",
              "        return;\n",
              "      }\n",
              "      const div = document.createElement('div');\n",
              "      const label = document.createElement('label');\n",
              "      label.textContent = `Downloading \"${filename}\": `;\n",
              "      div.appendChild(label);\n",
              "      const progress = document.createElement('progress');\n",
              "      progress.max = size;\n",
              "      div.appendChild(progress);\n",
              "      document.body.appendChild(div);\n",
              "\n",
              "      const buffers = [];\n",
              "      let downloaded = 0;\n",
              "\n",
              "      const channel = await google.colab.kernel.comms.open(id);\n",
              "      // Send a message to notify the kernel that we're ready.\n",
              "      channel.send({})\n",
              "\n",
              "      for await (const message of channel.messages) {\n",
              "        // Send a message to notify the kernel that we're ready.\n",
              "        channel.send({})\n",
              "        if (message.buffers) {\n",
              "          for (const buffer of message.buffers) {\n",
              "            buffers.push(buffer);\n",
              "            downloaded += buffer.byteLength;\n",
              "            progress.value = downloaded;\n",
              "          }\n",
              "        }\n",
              "      }\n",
              "      const blob = new Blob(buffers, {type: 'application/binary'});\n",
              "      const a = document.createElement('a');\n",
              "      a.href = window.URL.createObjectURL(blob);\n",
              "      a.download = filename;\n",
              "      div.appendChild(a);\n",
              "      a.click();\n",
              "      div.remove();\n",
              "    }\n",
              "  "
            ],
            "text/plain": [
              "<IPython.core.display.Javascript object>"
            ]
          },
          "metadata": {
            "tags": []
          }
        },
        {
          "output_type": "display_data",
          "data": {
            "application/javascript": [
              "download(\"download_3ddb7491-7880-4644-ac5c-419b1c15dbad\", \"scattertrainpredict.png\", 28790)"
            ],
            "text/plain": [
              "<IPython.core.display.Javascript object>"
            ]
          },
          "metadata": {
            "tags": []
          }
        },
        {
          "output_type": "display_data",
          "data": {
            "image/png": "[encoded data removed]",
            "text/plain": [
              "<Figure size 864x432 with 1 Axes>"
            ]
          },
          "metadata": {
            "tags": [],
            "needs_background": "light"
          }
        }
      ]
    },
    {
      "cell_type": "code",
      "metadata": {
        "colab": {
          "base_uri": "https://localhost:8080/",
          "height": 374
        },
        "id": "xMcfhUUsdYyd",
        "outputId": "521c8174-9033-4a67-97d0-09014c830209"
      },
      "source": [
        "plt.figure(figsize=(12 , 6))\n",
        "\n",
        "li = [i for i in range(y_test.shape[0])]\n",
        "plt.scatter(li , y_test , label='y_test')\n",
        "plt.scatter(li , test_predict , label='test_predict' , c='red')\n",
        "plt.legend()\n",
        "plt.plot()\n",
        "\n",
        "plt.savefig(\"scattertestpredict.png\")\n",
        "files.download(\"scattertestpredict.png\")"
      ],
      "execution_count": 38,
      "outputs": [
        {
          "output_type": "display_data",
          "data": {
            "application/javascript": [
              "\n",
              "    async function download(id, filename, size) {\n",
              "      if (!google.colab.kernel.accessAllowed) {\n",
              "        return;\n",
              "      }\n",
              "      const div = document.createElement('div');\n",
              "      const label = document.createElement('label');\n",
              "      label.textContent = `Downloading \"${filename}\": `;\n",
              "      div.appendChild(label);\n",
              "      const progress = document.createElement('progress');\n",
              "      progress.max = size;\n",
              "      div.appendChild(progress);\n",
              "      document.body.appendChild(div);\n",
              "\n",
              "      const buffers = [];\n",
              "      let downloaded = 0;\n",
              "\n",
              "      const channel = await google.colab.kernel.comms.open(id);\n",
              "      // Send a message to notify the kernel that we're ready.\n",
              "      channel.send({})\n",
              "\n",
              "      for await (const message of channel.messages) {\n",
              "        // Send a message to notify the kernel that we're ready.\n",
              "        channel.send({})\n",
              "        if (message.buffers) {\n",
              "          for (const buffer of message.buffers) {\n",
              "            buffers.push(buffer);\n",
              "            downloaded += buffer.byteLength;\n",
              "            progress.value = downloaded;\n",
              "          }\n",
              "        }\n",
              "      }\n",
              "      const blob = new Blob(buffers, {type: 'application/binary'});\n",
              "      const a = document.createElement('a');\n",
              "      a.href = window.URL.createObjectURL(blob);\n",
              "      a.download = filename;\n",
              "      div.appendChild(a);\n",
              "      a.click();\n",
              "      div.remove();\n",
              "    }\n",
              "  "
            ],
            "text/plain": [
              "<IPython.core.display.Javascript object>"
            ]
          },
          "metadata": {
            "tags": []
          }
        },
        {
          "output_type": "display_data",
          "data": {
            "application/javascript": [
              "download(\"download_a044228b-a133-4794-807b-078970aed3a0\", \"scattertestpredict.png\", 26944)"
            ],
            "text/plain": [
              "<IPython.core.display.Javascript object>"
            ]
          },
          "metadata": {
            "tags": []
          }
        },
        {
          "output_type": "display_data",
          "data": {
            "image/png": "[encoded data removed]",
            "text/plain": [
              "<Figure size 864x432 with 1 Axes>"
            ]
          },
          "metadata": {
            "tags": [],
            "needs_background": "light"
          }
        }
      ]
    },
    {
      "cell_type": "code",
      "metadata": {
        "colab": {
          "base_uri": "https://localhost:8080/"
        },
        "id": "FBAPQ3gVScoE",
        "outputId": "9f2b82a7-6e3a-41cf-a498-d42f2a26ebbf"
      },
      "source": [
        "newpred = test[['Adj Close']]\n",
        "newpred = np.reshape(newpred , (-1 , 1))\n",
        "newpred = sc.fit_transform(newpred)\n",
        "xnpred = []\n",
        "for i in range(len(newpred) - 60 , len(newpred)):\n",
        "  xnpred.append(newpred[i][0])\n",
        "\n",
        "xnpred = np.reshape(xnpred , (1 , len(xnpred) , 1))\n",
        "xnpred.shape\n",
        "tpred = model.predict(xnpred)\n",
        "tpred = sc.inverse_transform(tpred)\n",
        "tpred.reshape(1)\n",
        "print(tpred)"
      ],
      "execution_count": 83,
      "outputs": [
        {
          "output_type": "stream",
          "text": [
            "[[1645.0104]]\n"
          ],
          "name": "stdout"
        }
      ]
    },
    {
      "cell_type": "code",
      "metadata": {
        "colab": {
          "base_uri": "https://localhost:8080/"
        },
        "id": "4k7_2Ustx-tT",
        "outputId": "9f1338a0-2719-48b0-d301-40df8919d374"
      },
      "source": [
        "model.save(\"./\")"
      ],
      "execution_count": 121,
      "outputs": [
        {
          "output_type": "stream",
          "text": [
            "WARNING:absl:Found untraced functions such as lstm_cell_layer_call_and_return_conditional_losses, lstm_cell_layer_call_fn, lstm_cell_1_layer_call_and_return_conditional_losses, lstm_cell_1_layer_call_fn, lstm_cell_2_layer_call_and_return_conditional_losses while saving (showing 5 of 15). These functions will not be directly callable after loading.\n"
          ],
          "name": "stderr"
        },
        {
          "output_type": "stream",
          "text": [
            "INFO:tensorflow:Assets written to: ./assets\n"
          ],
          "name": "stdout"
        },
        {
          "output_type": "stream",
          "text": [
            "INFO:tensorflow:Assets written to: ./assets\n"
          ],
          "name": "stderr"
        }
      ]
    },
    {
      "cell_type": "code",
      "metadata": {
        "colab": {
          "base_uri": "https://localhost:8080/"
        },
        "id": "8XbEAQe8hYr0",
        "outputId": "ab3a7064-e084-47fc-b8d5-4d63bed2fa63"
      },
      "source": [
        "from tensorflow import keras\n",
        "pmodel = keras.models.load_model(\"./\")\n",
        "nxpred = pmodel.predict(xnpred)\n",
        "nxpred = sc.inverse_transform(nxpred)\n",
        "nxpred"
      ],
      "execution_count": 126,
      "outputs": [
        {
          "output_type": "execute_result",
          "data": {
            "text/plain": [
              "array([[1645.0104]], dtype=float32)"
            ]
          },
          "metadata": {
            "tags": []
          },
          "execution_count": 126
        }
      ]
    }
  ]
}