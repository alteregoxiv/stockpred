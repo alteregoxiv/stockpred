{
  "nbformat": 4,
  "nbformat_minor": 0,
  "metadata": {
    "colab": {
      "name": "stockpredictionlstm.ipynb",
      "provenance": [],
      "collapsed_sections": [],
      "authorship_tag": "ABX9TyPyKeK2yHqR2nnSohT+JuH/",
      "include_colab_link": true
    },
    "kernelspec": {
      "name": "python3",
      "display_name": "Python 3"
    },
    "language_info": {
      "name": "python"
    }
  },
  "cells": [
    {
      "cell_type": "markdown",
      "metadata": {
        "id": "view-in-github",
        "colab_type": "text"
      },
      "source": [
        "<a href=\"https://colab.research.google.com/github/alteregoxiv/stockpred/blob/main/stockpredictionlstm.ipynb\" target=\"_parent\"><img src=\"https://colab.research.google.com/assets/colab-badge.svg\" alt=\"Open In Colab\"/></a>"
      ]
    },
    {
      "cell_type": "markdown",
      "metadata": {
        "id": "Lgd1YiGWppPz"
      },
      "source": [
        "# **STOCK PREDICTION USING LSTM(KERAS)**\n"
      ]
    },
    {
      "cell_type": "markdown",
      "metadata": {
        "id": "ev5-W2HvWUpB"
      },
      "source": [
        "# **Importing necessary Libraries**"
      ]
    },
    {
      "cell_type": "code",
      "metadata": {
        "id": "sT7zcAoIcksy"
      },
      "source": [
        "import numpy as np\n",
        "import matplotlib.pyplot as plt\n",
        "import pandas as pd"
      ],
      "execution_count": 301,
      "outputs": []
    },
    {
      "cell_type": "markdown",
      "metadata": {
        "id": "rnVYQZhNWcKe"
      },
      "source": [
        "# **Training Data Set**"
      ]
    },
    {
      "cell_type": "code",
      "metadata": {
        "colab": {
          "base_uri": "https://localhost:8080/",
          "height": 206
        },
        "id": "zxg_MYh3SOAk",
        "outputId": "8fe9e828-cf24-46bf-8b48-8b8be3c00d28"
      },
      "source": [
        "traindata = pd.read_csv(\"./AMZNtrain.csv\")\n",
        "traindata.head()"
      ],
      "execution_count": 302,
      "outputs": [
        {
          "output_type": "execute_result",
          "data": {
            "text/html": [
              "<div>\n",
              "<style scoped>\n",
              "    .dataframe tbody tr th:only-of-type {\n",
              "        vertical-align: middle;\n",
              "    }\n",
              "\n",
              "    .dataframe tbody tr th {\n",
              "        vertical-align: top;\n",
              "    }\n",
              "\n",
              "    .dataframe thead th {\n",
              "        text-align: right;\n",
              "    }\n",
              "</style>\n",
              "<table border=\"1\" class=\"dataframe\">\n",
              "  <thead>\n",
              "    <tr style=\"text-align: right;\">\n",
              "      <th></th>\n",
              "      <th>Date</th>\n",
              "      <th>Open</th>\n",
              "      <th>High</th>\n",
              "      <th>Low</th>\n",
              "      <th>Close</th>\n",
              "      <th>Adj Close</th>\n",
              "      <th>Volume</th>\n",
              "    </tr>\n",
              "  </thead>\n",
              "  <tbody>\n",
              "    <tr>\n",
              "      <th>0</th>\n",
              "      <td>2014-01-02</td>\n",
              "      <td>398.799988</td>\n",
              "      <td>399.359985</td>\n",
              "      <td>394.019989</td>\n",
              "      <td>397.970001</td>\n",
              "      <td>397.970001</td>\n",
              "      <td>2137800</td>\n",
              "    </tr>\n",
              "    <tr>\n",
              "      <th>1</th>\n",
              "      <td>2014-01-03</td>\n",
              "      <td>398.290009</td>\n",
              "      <td>402.709991</td>\n",
              "      <td>396.220001</td>\n",
              "      <td>396.440002</td>\n",
              "      <td>396.440002</td>\n",
              "      <td>2210200</td>\n",
              "    </tr>\n",
              "    <tr>\n",
              "      <th>2</th>\n",
              "      <td>2014-01-06</td>\n",
              "      <td>395.850006</td>\n",
              "      <td>397.000000</td>\n",
              "      <td>388.420013</td>\n",
              "      <td>393.630005</td>\n",
              "      <td>393.630005</td>\n",
              "      <td>3170600</td>\n",
              "    </tr>\n",
              "    <tr>\n",
              "      <th>3</th>\n",
              "      <td>2014-01-07</td>\n",
              "      <td>395.040009</td>\n",
              "      <td>398.470001</td>\n",
              "      <td>394.290009</td>\n",
              "      <td>398.029999</td>\n",
              "      <td>398.029999</td>\n",
              "      <td>1916000</td>\n",
              "    </tr>\n",
              "    <tr>\n",
              "      <th>4</th>\n",
              "      <td>2014-01-08</td>\n",
              "      <td>398.470001</td>\n",
              "      <td>403.000000</td>\n",
              "      <td>396.040009</td>\n",
              "      <td>401.920013</td>\n",
              "      <td>401.920013</td>\n",
              "      <td>2316500</td>\n",
              "    </tr>\n",
              "  </tbody>\n",
              "</table>\n",
              "</div>"
            ],
            "text/plain": [
              "         Date        Open        High  ...       Close   Adj Close   Volume\n",
              "0  2014-01-02  398.799988  399.359985  ...  397.970001  397.970001  2137800\n",
              "1  2014-01-03  398.290009  402.709991  ...  396.440002  396.440002  2210200\n",
              "2  2014-01-06  395.850006  397.000000  ...  393.630005  393.630005  3170600\n",
              "3  2014-01-07  395.040009  398.470001  ...  398.029999  398.029999  1916000\n",
              "4  2014-01-08  398.470001  403.000000  ...  401.920013  401.920013  2316500\n",
              "\n",
              "[5 rows x 7 columns]"
            ]
          },
          "metadata": {
            "tags": []
          },
          "execution_count": 302
        }
      ]
    },
    {
      "cell_type": "markdown",
      "metadata": {
        "id": "QPEpZlynWnQW"
      },
      "source": [
        "# **Testing Data Set**"
      ]
    },
    {
      "cell_type": "code",
      "metadata": {
        "colab": {
          "base_uri": "https://localhost:8080/",
          "height": 206
        },
        "id": "JVYD_bNkSg5d",
        "outputId": "151a1c10-2b5b-4865-c49b-01559394cd06"
      },
      "source": [
        "testdata = pd.read_csv(\"./AMZNtest.csv\")\n",
        "testdata.head()"
      ],
      "execution_count": 303,
      "outputs": [
        {
          "output_type": "execute_result",
          "data": {
            "text/html": [
              "<div>\n",
              "<style scoped>\n",
              "    .dataframe tbody tr th:only-of-type {\n",
              "        vertical-align: middle;\n",
              "    }\n",
              "\n",
              "    .dataframe tbody tr th {\n",
              "        vertical-align: top;\n",
              "    }\n",
              "\n",
              "    .dataframe thead th {\n",
              "        text-align: right;\n",
              "    }\n",
              "</style>\n",
              "<table border=\"1\" class=\"dataframe\">\n",
              "  <thead>\n",
              "    <tr style=\"text-align: right;\">\n",
              "      <th></th>\n",
              "      <th>Date</th>\n",
              "      <th>Open</th>\n",
              "      <th>High</th>\n",
              "      <th>Low</th>\n",
              "      <th>Close</th>\n",
              "      <th>Adj Close</th>\n",
              "      <th>Volume</th>\n",
              "    </tr>\n",
              "  </thead>\n",
              "  <tbody>\n",
              "    <tr>\n",
              "      <th>0</th>\n",
              "      <td>2019-01-02</td>\n",
              "      <td>1465.199951</td>\n",
              "      <td>1553.359985</td>\n",
              "      <td>1460.930054</td>\n",
              "      <td>1539.130005</td>\n",
              "      <td>1539.130005</td>\n",
              "      <td>7983100</td>\n",
              "    </tr>\n",
              "    <tr>\n",
              "      <th>1</th>\n",
              "      <td>2019-01-03</td>\n",
              "      <td>1520.010010</td>\n",
              "      <td>1538.000000</td>\n",
              "      <td>1497.109985</td>\n",
              "      <td>1500.280029</td>\n",
              "      <td>1500.280029</td>\n",
              "      <td>6975600</td>\n",
              "    </tr>\n",
              "    <tr>\n",
              "      <th>2</th>\n",
              "      <td>2019-01-04</td>\n",
              "      <td>1530.000000</td>\n",
              "      <td>1594.000000</td>\n",
              "      <td>1518.310059</td>\n",
              "      <td>1575.390015</td>\n",
              "      <td>1575.390015</td>\n",
              "      <td>9182600</td>\n",
              "    </tr>\n",
              "    <tr>\n",
              "      <th>3</th>\n",
              "      <td>2019-01-07</td>\n",
              "      <td>1602.310059</td>\n",
              "      <td>1634.560059</td>\n",
              "      <td>1589.189941</td>\n",
              "      <td>1629.510010</td>\n",
              "      <td>1629.510010</td>\n",
              "      <td>7993200</td>\n",
              "    </tr>\n",
              "    <tr>\n",
              "      <th>4</th>\n",
              "      <td>2019-01-08</td>\n",
              "      <td>1664.689941</td>\n",
              "      <td>1676.609985</td>\n",
              "      <td>1616.609985</td>\n",
              "      <td>1656.579956</td>\n",
              "      <td>1656.579956</td>\n",
              "      <td>8881400</td>\n",
              "    </tr>\n",
              "  </tbody>\n",
              "</table>\n",
              "</div>"
            ],
            "text/plain": [
              "         Date         Open         High  ...        Close    Adj Close   Volume\n",
              "0  2019-01-02  1465.199951  1553.359985  ...  1539.130005  1539.130005  7983100\n",
              "1  2019-01-03  1520.010010  1538.000000  ...  1500.280029  1500.280029  6975600\n",
              "2  2019-01-04  1530.000000  1594.000000  ...  1575.390015  1575.390015  9182600\n",
              "3  2019-01-07  1602.310059  1634.560059  ...  1629.510010  1629.510010  7993200\n",
              "4  2019-01-08  1664.689941  1676.609985  ...  1656.579956  1656.579956  8881400\n",
              "\n",
              "[5 rows x 7 columns]"
            ]
          },
          "metadata": {
            "tags": []
          },
          "execution_count": 303
        }
      ]
    },
    {
      "cell_type": "markdown",
      "metadata": {
        "id": "URHQm4XdWrNU"
      },
      "source": [
        "# **Shapes of both data sets(Train , Test)**"
      ]
    },
    {
      "cell_type": "code",
      "metadata": {
        "colab": {
          "base_uri": "https://localhost:8080/"
        },
        "id": "wF6nBNrZU7Ux",
        "outputId": "58e0c8a2-cb06-4534-9daa-a411eee9ae6f"
      },
      "source": [
        "traindata.shape , testdata.shape"
      ],
      "execution_count": 304,
      "outputs": [
        {
          "output_type": "execute_result",
          "data": {
            "text/plain": [
              "((1258, 7), (21, 7))"
            ]
          },
          "metadata": {
            "tags": []
          },
          "execution_count": 304
        }
      ]
    },
    {
      "cell_type": "markdown",
      "metadata": {
        "id": "5YZOISlTXUqo"
      },
      "source": [
        "# **Concatenating Datasers and Sorting**"
      ]
    },
    {
      "cell_type": "code",
      "metadata": {
        "id": "vMCJ0YqEVVlF",
        "colab": {
          "base_uri": "https://localhost:8080/"
        },
        "outputId": "74d6ec3c-f281-4a9b-ef72-d90642766909"
      },
      "source": [
        "data = pd.concat([traindata , testdata] , axis=0 , ignore_index=True)\n",
        "data.head"
      ],
      "execution_count": 305,
      "outputs": [
        {
          "output_type": "execute_result",
          "data": {
            "text/plain": [
              "<bound method NDFrame.head of             Date         Open         High  ...        Close    Adj Close    Volume\n",
              "0     2014-01-02   398.799988   399.359985  ...   397.970001   397.970001   2137800\n",
              "1     2014-01-03   398.290009   402.709991  ...   396.440002   396.440002   2210200\n",
              "2     2014-01-06   395.850006   397.000000  ...   393.630005   393.630005   3170600\n",
              "3     2014-01-07   395.040009   398.470001  ...   398.029999   398.029999   1916000\n",
              "4     2014-01-08   398.470001   403.000000  ...   401.920013   401.920013   2316500\n",
              "...          ...          ...          ...  ...          ...          ...       ...\n",
              "1274  2019-01-25  1670.500000  1683.479980  ...  1670.569946  1670.569946   4945900\n",
              "1275  2019-01-28  1643.589966  1645.000000  ...  1637.890015  1637.890015   4837700\n",
              "1276  2019-01-29  1631.270020  1632.380005  ...  1593.880005  1593.880005   4632800\n",
              "1277  2019-01-30  1623.000000  1676.949951  ...  1670.430054  1670.430054   5783800\n",
              "1278  2019-01-31  1692.849976  1736.410034  ...  1718.729980  1718.729980  10910300\n",
              "\n",
              "[1279 rows x 7 columns]>"
            ]
          },
          "metadata": {
            "tags": []
          },
          "execution_count": 305
        }
      ]
    },
    {
      "cell_type": "code",
      "metadata": {
        "id": "SEFBWlNzXazd"
      },
      "source": [
        "# for i in range(len(data)):\n",
        "#   date = data[\"Date\"][i]\n",
        "#   d = date.split(\"-\")\n",
        "#   s = str(d[0]) + str(d[1]) + str(d[2])\n",
        "#   data[\"Date\"][i] = s\n",
        "# data.head()"
      ],
      "execution_count": 306,
      "outputs": []
    },
    {
      "cell_type": "code",
      "metadata": {
        "colab": {
          "base_uri": "https://localhost:8080/"
        },
        "id": "vl95h11OhUXG",
        "outputId": "6df73655-47fe-42ae-b79b-f4516126b298"
      },
      "source": [
        "data = data.sort_index(ascending=True , axis=0)\n",
        "data.head"
      ],
      "execution_count": 307,
      "outputs": [
        {
          "output_type": "execute_result",
          "data": {
            "text/plain": [
              "<bound method NDFrame.head of             Date         Open         High  ...        Close    Adj Close    Volume\n",
              "0     2014-01-02   398.799988   399.359985  ...   397.970001   397.970001   2137800\n",
              "1     2014-01-03   398.290009   402.709991  ...   396.440002   396.440002   2210200\n",
              "2     2014-01-06   395.850006   397.000000  ...   393.630005   393.630005   3170600\n",
              "3     2014-01-07   395.040009   398.470001  ...   398.029999   398.029999   1916000\n",
              "4     2014-01-08   398.470001   403.000000  ...   401.920013   401.920013   2316500\n",
              "...          ...          ...          ...  ...          ...          ...       ...\n",
              "1274  2019-01-25  1670.500000  1683.479980  ...  1670.569946  1670.569946   4945900\n",
              "1275  2019-01-28  1643.589966  1645.000000  ...  1637.890015  1637.890015   4837700\n",
              "1276  2019-01-29  1631.270020  1632.380005  ...  1593.880005  1593.880005   4632800\n",
              "1277  2019-01-30  1623.000000  1676.949951  ...  1670.430054  1670.430054   5783800\n",
              "1278  2019-01-31  1692.849976  1736.410034  ...  1718.729980  1718.729980  10910300\n",
              "\n",
              "[1279 rows x 7 columns]>"
            ]
          },
          "metadata": {
            "tags": []
          },
          "execution_count": 307
        }
      ]
    },
    {
      "cell_type": "markdown",
      "metadata": {
        "id": "cmL2H46GhxzR"
      },
      "source": [
        ""
      ]
    },
    {
      "cell_type": "markdown",
      "metadata": {
        "id": "WFvm1e-Vnsvt"
      },
      "source": [
        "# **Saving the DataFrame**"
      ]
    },
    {
      "cell_type": "code",
      "metadata": {
        "id": "oBruMR6WhxB7"
      },
      "source": [
        "data.to_csv(r'./AMZNTotalData.csv' , index=False)"
      ],
      "execution_count": 308,
      "outputs": []
    },
    {
      "cell_type": "code",
      "metadata": {
        "colab": {
          "base_uri": "https://localhost:8080/"
        },
        "id": "wvQ5cI7ykyvr",
        "outputId": "489c4ae1-f011-45f2-e58d-6a69edac79af"
      },
      "source": [
        "newdata = pd.read_csv(\"./AMZNTotalData.csv\")\n",
        "newdata.head"
      ],
      "execution_count": 309,
      "outputs": [
        {
          "output_type": "execute_result",
          "data": {
            "text/plain": [
              "<bound method NDFrame.head of             Date         Open         High  ...        Close    Adj Close    Volume\n",
              "0     2014-01-02   398.799988   399.359985  ...   397.970001   397.970001   2137800\n",
              "1     2014-01-03   398.290009   402.709991  ...   396.440002   396.440002   2210200\n",
              "2     2014-01-06   395.850006   397.000000  ...   393.630005   393.630005   3170600\n",
              "3     2014-01-07   395.040009   398.470001  ...   398.029999   398.029999   1916000\n",
              "4     2014-01-08   398.470001   403.000000  ...   401.920013   401.920013   2316500\n",
              "...          ...          ...          ...  ...          ...          ...       ...\n",
              "1274  2019-01-25  1670.500000  1683.479980  ...  1670.569946  1670.569946   4945900\n",
              "1275  2019-01-28  1643.589966  1645.000000  ...  1637.890015  1637.890015   4837700\n",
              "1276  2019-01-29  1631.270020  1632.380005  ...  1593.880005  1593.880005   4632800\n",
              "1277  2019-01-30  1623.000000  1676.949951  ...  1670.430054  1670.430054   5783800\n",
              "1278  2019-01-31  1692.849976  1736.410034  ...  1718.729980  1718.729980  10910300\n",
              "\n",
              "[1279 rows x 7 columns]>"
            ]
          },
          "metadata": {
            "tags": []
          },
          "execution_count": 309
        }
      ]
    },
    {
      "cell_type": "markdown",
      "metadata": {
        "id": "37LGB3wEp93X"
      },
      "source": [
        "# **Test Train Split from the concatenated Data Set**"
      ]
    },
    {
      "cell_type": "code",
      "metadata": {
        "colab": {
          "base_uri": "https://localhost:8080/"
        },
        "id": "VZnXpPuIonv9",
        "outputId": "210cbb97-6038-4c15-d008-a97e4a9710c7"
      },
      "source": [
        "limit = np.random.rand((len(newdata)))<0.7\n",
        "train = newdata[limit]\n",
        "test = newdata[~limit]\n",
        "train.shape , test.shape"
      ],
      "execution_count": 310,
      "outputs": [
        {
          "output_type": "execute_result",
          "data": {
            "text/plain": [
              "((902, 7), (377, 7))"
            ]
          },
          "metadata": {
            "tags": []
          },
          "execution_count": 310
        }
      ]
    },
    {
      "cell_type": "code",
      "metadata": {
        "colab": {
          "base_uri": "https://localhost:8080/"
        },
        "id": "AXTXV-D4qQot",
        "outputId": "42e97b55-ff47-4358-fcc7-137a662ae976"
      },
      "source": [
        "newtrain = train[['Adj Close']]\n",
        "newtest = test[['Adj Close']]\n",
        "\n",
        "newtrain.shape , newtest.shape"
      ],
      "execution_count": 311,
      "outputs": [
        {
          "output_type": "execute_result",
          "data": {
            "text/plain": [
              "((902, 1), (377, 1))"
            ]
          },
          "metadata": {
            "tags": []
          },
          "execution_count": 311
        }
      ]
    },
    {
      "cell_type": "markdown",
      "metadata": {
        "id": "OD7YgMi7yU3g"
      },
      "source": [
        "# **Scaling the Data**"
      ]
    },
    {
      "cell_type": "code",
      "metadata": {
        "id": "C5e02dL5-PoF"
      },
      "source": [
        "from sklearn.preprocessing import MinMaxScaler\n",
        "sc = MinMaxScaler(feature_range = (0, 1))\n",
        "\n",
        "newtrain = sc.fit_transform(newtrain)\n",
        "newtest = sc.fit_transform(newtest)\n",
        "\n",
        "newtrain = np.reshape(newtrain , (-1 , 1))\n",
        "newtest = np.reshape(newtest , (-1 , 1))"
      ],
      "execution_count": 312,
      "outputs": []
    },
    {
      "cell_type": "markdown",
      "metadata": {
        "id": "N84K9DW2yepY"
      },
      "source": [
        "# **Preparing the Final data using timestep for LSTM**"
      ]
    },
    {
      "cell_type": "code",
      "metadata": {
        "id": "dAixTgSxeNNF"
      },
      "source": [
        "def final_data(data , timestep):\n",
        "  xdata , ydata = [] , []\n",
        "  l = len(data)\n",
        "  for i in range(l-timestep):\n",
        "    a = data[i : i+timestep , 0]\n",
        "    xdata.append(a)\n",
        "    ydata.append(data[i+timestep , 0])\n",
        "  return np.array(xdata) , np.array(ydata)\n",
        "\n",
        "\n",
        "\n",
        "timestep = 60\n",
        "xtrain  , ytrain = final_data(newtrain , timestep)\n",
        "xtest , ytest = final_data(newtest , timestep)"
      ],
      "execution_count": 313,
      "outputs": []
    },
    {
      "cell_type": "code",
      "metadata": {
        "id": "JA1JwMQYh5GZ"
      },
      "source": [
        "xtrain = xtrain.reshape(xtrain.shape[0] , xtrain.shape[1] , 1)\n",
        "xtest = xtest.reshape(xtest.shape[0] , xtest.shape[1] , 1)\n",
        "#xtrain.shape\n",
        "# print(xtrain)"
      ],
      "execution_count": 314,
      "outputs": []
    },
    {
      "cell_type": "markdown",
      "metadata": {
        "id": "3G-BglZkzh6V"
      },
      "source": [
        "# **Preparing Model**"
      ]
    },
    {
      "cell_type": "code",
      "metadata": {
        "id": "PC_0T-jFjw6E"
      },
      "source": [
        "from tensorflow.keras.models import Sequential\n",
        "from tensorflow.keras.layers import Dense , LSTM"
      ],
      "execution_count": 315,
      "outputs": []
    },
    {
      "cell_type": "code",
      "metadata": {
        "id": "Ra1u6nyUkkVV"
      },
      "source": [
        "model = Sequential()\n",
        "model.add(LSTM(50 , return_sequences=True , input_shape=(60 , 1)))\n",
        "model.add(LSTM(50 , return_sequences=True))\n",
        "model.add(LSTM(50))\n",
        "model.add(Dense(1))\n",
        "model.compile(loss='mean_squared_error' , optimizer='adam')"
      ],
      "execution_count": 316,
      "outputs": []
    },
    {
      "cell_type": "code",
      "metadata": {
        "colab": {
          "base_uri": "https://localhost:8080/"
        },
        "id": "SWzEihXDnLmu",
        "outputId": "42483627-86d2-4d90-f355-906b5799753b"
      },
      "source": [
        "model.summary()"
      ],
      "execution_count": 317,
      "outputs": [
        {
          "output_type": "stream",
          "text": [
            "Model: \"sequential_7\"\n",
            "_________________________________________________________________\n",
            "Layer (type)                 Output Shape              Param #   \n",
            "=================================================================\n",
            "lstm_21 (LSTM)               (None, 60, 50)            10400     \n",
            "_________________________________________________________________\n",
            "lstm_22 (LSTM)               (None, 60, 50)            20200     \n",
            "_________________________________________________________________\n",
            "lstm_23 (LSTM)               (None, 50)                20200     \n",
            "_________________________________________________________________\n",
            "dense_7 (Dense)              (None, 1)                 51        \n",
            "=================================================================\n",
            "Total params: 50,851\n",
            "Trainable params: 50,851\n",
            "Non-trainable params: 0\n",
            "_________________________________________________________________\n"
          ],
          "name": "stdout"
        }
      ]
    },
    {
      "cell_type": "markdown",
      "metadata": {
        "id": "5GUCkn8pzmYy"
      },
      "source": [
        "# **Fitting**"
      ]
    },
    {
      "cell_type": "code",
      "metadata": {
        "colab": {
          "base_uri": "https://localhost:8080/"
        },
        "id": "IESruTGgnRog",
        "outputId": "32025ffb-4ae4-47fd-b0ab-1363195186ee"
      },
      "source": [
        "model.fit(xtrain , ytrain , validation_data=(xtest , ytest) , epochs=150 , batch_size=64 , verbose=1)"
      ],
      "execution_count": 318,
      "outputs": [
        {
          "output_type": "stream",
          "text": [
            "Epoch 1/150\n",
            "14/14 [==============================] - 8s 223ms/step - loss: 0.0366 - val_loss: 0.0163\n",
            "Epoch 2/150\n",
            "14/14 [==============================] - 2s 140ms/step - loss: 0.0053 - val_loss: 0.0049\n",
            "Epoch 3/150\n",
            "14/14 [==============================] - 2s 129ms/step - loss: 0.0021 - val_loss: 0.0032\n",
            "Epoch 4/150\n",
            "14/14 [==============================] - 2s 129ms/step - loss: 0.0014 - val_loss: 0.0025\n",
            "Epoch 5/150\n",
            "14/14 [==============================] - 2s 129ms/step - loss: 0.0012 - val_loss: 0.0026\n",
            "Epoch 6/150\n",
            "14/14 [==============================] - 2s 128ms/step - loss: 0.0012 - val_loss: 0.0025\n",
            "Epoch 7/150\n",
            "14/14 [==============================] - 2s 128ms/step - loss: 0.0012 - val_loss: 0.0024\n",
            "Epoch 8/150\n",
            "14/14 [==============================] - 2s 131ms/step - loss: 0.0012 - val_loss: 0.0024\n",
            "Epoch 9/150\n",
            "14/14 [==============================] - 2s 129ms/step - loss: 0.0011 - val_loss: 0.0027\n",
            "Epoch 10/150\n",
            "14/14 [==============================] - 2s 128ms/step - loss: 0.0011 - val_loss: 0.0023\n",
            "Epoch 11/150\n",
            "14/14 [==============================] - 2s 130ms/step - loss: 0.0011 - val_loss: 0.0023\n",
            "Epoch 12/150\n",
            "14/14 [==============================] - 2s 130ms/step - loss: 0.0011 - val_loss: 0.0026\n",
            "Epoch 13/150\n",
            "14/14 [==============================] - 2s 130ms/step - loss: 0.0012 - val_loss: 0.0033\n",
            "Epoch 14/150\n",
            "14/14 [==============================] - 2s 132ms/step - loss: 0.0014 - val_loss: 0.0022\n",
            "Epoch 15/150\n",
            "14/14 [==============================] - 2s 133ms/step - loss: 0.0011 - val_loss: 0.0021\n",
            "Epoch 16/150\n",
            "14/14 [==============================] - 2s 129ms/step - loss: 0.0010 - val_loss: 0.0021\n",
            "Epoch 17/150\n",
            "14/14 [==============================] - 2s 129ms/step - loss: 9.3679e-04 - val_loss: 0.0022\n",
            "Epoch 18/150\n",
            "14/14 [==============================] - 2s 130ms/step - loss: 9.3338e-04 - val_loss: 0.0022\n",
            "Epoch 19/150\n",
            "14/14 [==============================] - 2s 135ms/step - loss: 9.4832e-04 - val_loss: 0.0020\n",
            "Epoch 20/150\n",
            "14/14 [==============================] - 2s 131ms/step - loss: 0.0010 - val_loss: 0.0019\n",
            "Epoch 21/150\n",
            "14/14 [==============================] - 2s 129ms/step - loss: 8.6213e-04 - val_loss: 0.0020\n",
            "Epoch 22/150\n",
            "14/14 [==============================] - 2s 131ms/step - loss: 8.9218e-04 - val_loss: 0.0020\n",
            "Epoch 23/150\n",
            "14/14 [==============================] - 2s 129ms/step - loss: 8.8115e-04 - val_loss: 0.0019\n",
            "Epoch 24/150\n",
            "14/14 [==============================] - 2s 129ms/step - loss: 8.1889e-04 - val_loss: 0.0018\n",
            "Epoch 25/150\n",
            "14/14 [==============================] - 2s 130ms/step - loss: 8.1279e-04 - val_loss: 0.0018\n",
            "Epoch 26/150\n",
            "14/14 [==============================] - 2s 133ms/step - loss: 8.4478e-04 - val_loss: 0.0018\n",
            "Epoch 27/150\n",
            "14/14 [==============================] - 2s 132ms/step - loss: 7.9631e-04 - val_loss: 0.0018\n",
            "Epoch 28/150\n",
            "14/14 [==============================] - 2s 133ms/step - loss: 9.1020e-04 - val_loss: 0.0021\n",
            "Epoch 29/150\n",
            "14/14 [==============================] - 2s 131ms/step - loss: 8.7221e-04 - val_loss: 0.0017\n",
            "Epoch 30/150\n",
            "14/14 [==============================] - 2s 129ms/step - loss: 8.6276e-04 - val_loss: 0.0017\n",
            "Epoch 31/150\n",
            "14/14 [==============================] - 2s 131ms/step - loss: 7.9704e-04 - val_loss: 0.0018\n",
            "Epoch 32/150\n",
            "14/14 [==============================] - 2s 130ms/step - loss: 8.0000e-04 - val_loss: 0.0016\n",
            "Epoch 33/150\n",
            "14/14 [==============================] - 2s 130ms/step - loss: 7.7881e-04 - val_loss: 0.0017\n",
            "Epoch 34/150\n",
            "14/14 [==============================] - 2s 129ms/step - loss: 0.0010 - val_loss: 0.0017\n",
            "Epoch 35/150\n",
            "14/14 [==============================] - 2s 133ms/step - loss: 8.0016e-04 - val_loss: 0.0016\n",
            "Epoch 36/150\n",
            "14/14 [==============================] - 2s 129ms/step - loss: 9.0895e-04 - val_loss: 0.0016\n",
            "Epoch 37/150\n",
            "14/14 [==============================] - 2s 132ms/step - loss: 9.1345e-04 - val_loss: 0.0016\n",
            "Epoch 38/150\n",
            "14/14 [==============================] - 2s 128ms/step - loss: 0.0010 - val_loss: 0.0016\n",
            "Epoch 39/150\n",
            "14/14 [==============================] - 2s 130ms/step - loss: 7.3926e-04 - val_loss: 0.0015\n",
            "Epoch 40/150\n",
            "14/14 [==============================] - 2s 130ms/step - loss: 7.2885e-04 - val_loss: 0.0016\n",
            "Epoch 41/150\n",
            "14/14 [==============================] - 2s 128ms/step - loss: 7.2035e-04 - val_loss: 0.0015\n",
            "Epoch 42/150\n",
            "14/14 [==============================] - 2s 137ms/step - loss: 7.5985e-04 - val_loss: 0.0015\n",
            "Epoch 43/150\n",
            "14/14 [==============================] - 2s 131ms/step - loss: 7.8623e-04 - val_loss: 0.0015\n",
            "Epoch 44/150\n",
            "14/14 [==============================] - 2s 132ms/step - loss: 7.7112e-04 - val_loss: 0.0017\n",
            "Epoch 45/150\n",
            "14/14 [==============================] - 2s 129ms/step - loss: 8.0905e-04 - val_loss: 0.0015\n",
            "Epoch 46/150\n",
            "14/14 [==============================] - 2s 129ms/step - loss: 8.2027e-04 - val_loss: 0.0017\n",
            "Epoch 47/150\n",
            "14/14 [==============================] - 2s 130ms/step - loss: 8.0945e-04 - val_loss: 0.0015\n",
            "Epoch 48/150\n",
            "14/14 [==============================] - 2s 133ms/step - loss: 7.1235e-04 - val_loss: 0.0014\n",
            "Epoch 49/150\n",
            "14/14 [==============================] - 2s 131ms/step - loss: 7.1748e-04 - val_loss: 0.0016\n",
            "Epoch 50/150\n",
            "14/14 [==============================] - 2s 130ms/step - loss: 8.4966e-04 - val_loss: 0.0018\n",
            "Epoch 51/150\n",
            "14/14 [==============================] - 2s 132ms/step - loss: 7.7916e-04 - val_loss: 0.0016\n",
            "Epoch 52/150\n",
            "14/14 [==============================] - 2s 129ms/step - loss: 7.6010e-04 - val_loss: 0.0014\n",
            "Epoch 53/150\n",
            "14/14 [==============================] - 2s 131ms/step - loss: 6.9400e-04 - val_loss: 0.0013\n",
            "Epoch 54/150\n",
            "14/14 [==============================] - 2s 133ms/step - loss: 7.1009e-04 - val_loss: 0.0015\n",
            "Epoch 55/150\n",
            "14/14 [==============================] - 2s 130ms/step - loss: 7.7952e-04 - val_loss: 0.0015\n",
            "Epoch 56/150\n",
            "14/14 [==============================] - 2s 133ms/step - loss: 6.8985e-04 - val_loss: 0.0014\n",
            "Epoch 57/150\n",
            "14/14 [==============================] - 2s 127ms/step - loss: 6.7749e-04 - val_loss: 0.0014\n",
            "Epoch 58/150\n",
            "14/14 [==============================] - 2s 129ms/step - loss: 7.4928e-04 - val_loss: 0.0015\n",
            "Epoch 59/150\n",
            "14/14 [==============================] - 2s 132ms/step - loss: 7.7719e-04 - val_loss: 0.0014\n",
            "Epoch 60/150\n",
            "14/14 [==============================] - 2s 136ms/step - loss: 6.9671e-04 - val_loss: 0.0014\n",
            "Epoch 61/150\n",
            "14/14 [==============================] - 2s 130ms/step - loss: 7.4625e-04 - val_loss: 0.0015\n",
            "Epoch 62/150\n",
            "14/14 [==============================] - 2s 127ms/step - loss: 6.2346e-04 - val_loss: 0.0014\n",
            "Epoch 63/150\n",
            "14/14 [==============================] - 2s 128ms/step - loss: 7.5169e-04 - val_loss: 0.0014\n",
            "Epoch 64/150\n",
            "14/14 [==============================] - 2s 131ms/step - loss: 6.0584e-04 - val_loss: 0.0013\n",
            "Epoch 65/150\n",
            "14/14 [==============================] - 2s 132ms/step - loss: 6.1203e-04 - val_loss: 0.0015\n",
            "Epoch 66/150\n",
            "14/14 [==============================] - 2s 131ms/step - loss: 7.2176e-04 - val_loss: 0.0013\n",
            "Epoch 67/150\n",
            "14/14 [==============================] - 2s 133ms/step - loss: 5.8986e-04 - val_loss: 0.0012\n",
            "Epoch 68/150\n",
            "14/14 [==============================] - 2s 129ms/step - loss: 5.6311e-04 - val_loss: 0.0012\n",
            "Epoch 69/150\n",
            "14/14 [==============================] - 2s 131ms/step - loss: 5.4543e-04 - val_loss: 0.0013\n",
            "Epoch 70/150\n",
            "14/14 [==============================] - 2s 134ms/step - loss: 7.5944e-04 - val_loss: 0.0015\n",
            "Epoch 71/150\n",
            "14/14 [==============================] - 2s 132ms/step - loss: 6.5628e-04 - val_loss: 0.0012\n",
            "Epoch 72/150\n",
            "14/14 [==============================] - 2s 129ms/step - loss: 6.1109e-04 - val_loss: 0.0013\n",
            "Epoch 73/150\n",
            "14/14 [==============================] - 2s 131ms/step - loss: 5.2172e-04 - val_loss: 0.0013\n",
            "Epoch 74/150\n",
            "14/14 [==============================] - 2s 133ms/step - loss: 5.1536e-04 - val_loss: 0.0013\n",
            "Epoch 75/150\n",
            "14/14 [==============================] - 2s 132ms/step - loss: 6.2359e-04 - val_loss: 0.0011\n",
            "Epoch 76/150\n",
            "14/14 [==============================] - 2s 133ms/step - loss: 4.9577e-04 - val_loss: 0.0012\n",
            "Epoch 77/150\n",
            "14/14 [==============================] - 2s 133ms/step - loss: 4.9202e-04 - val_loss: 0.0011\n",
            "Epoch 78/150\n",
            "14/14 [==============================] - 2s 131ms/step - loss: 5.9355e-04 - val_loss: 0.0011\n",
            "Epoch 79/150\n",
            "14/14 [==============================] - 2s 131ms/step - loss: 5.8937e-04 - val_loss: 0.0011\n",
            "Epoch 80/150\n",
            "14/14 [==============================] - 2s 134ms/step - loss: 5.8037e-04 - val_loss: 0.0013\n",
            "Epoch 81/150\n",
            "14/14 [==============================] - 2s 134ms/step - loss: 5.7982e-04 - val_loss: 0.0012\n",
            "Epoch 82/150\n",
            "14/14 [==============================] - 2s 131ms/step - loss: 4.9948e-04 - val_loss: 0.0010\n",
            "Epoch 83/150\n",
            "14/14 [==============================] - 2s 133ms/step - loss: 4.2376e-04 - val_loss: 0.0010\n",
            "Epoch 84/150\n",
            "14/14 [==============================] - 2s 129ms/step - loss: 4.5069e-04 - val_loss: 0.0014\n",
            "Epoch 85/150\n",
            "14/14 [==============================] - 2s 131ms/step - loss: 6.4937e-04 - val_loss: 0.0011\n",
            "Epoch 86/150\n",
            "14/14 [==============================] - 2s 133ms/step - loss: 5.0779e-04 - val_loss: 0.0010\n",
            "Epoch 87/150\n",
            "14/14 [==============================] - 2s 134ms/step - loss: 4.3309e-04 - val_loss: 9.6222e-04\n",
            "Epoch 88/150\n",
            "14/14 [==============================] - 2s 135ms/step - loss: 3.7946e-04 - val_loss: 9.9214e-04\n",
            "Epoch 89/150\n",
            "14/14 [==============================] - 2s 130ms/step - loss: 3.6496e-04 - val_loss: 0.0012\n",
            "Epoch 90/150\n",
            "14/14 [==============================] - 2s 131ms/step - loss: 4.8837e-04 - val_loss: 0.0015\n",
            "Epoch 91/150\n",
            "14/14 [==============================] - 2s 133ms/step - loss: 4.5303e-04 - val_loss: 9.6397e-04\n",
            "Epoch 92/150\n",
            "14/14 [==============================] - 2s 131ms/step - loss: 4.1119e-04 - val_loss: 0.0010\n",
            "Epoch 93/150\n",
            "14/14 [==============================] - 2s 134ms/step - loss: 4.4596e-04 - val_loss: 9.6320e-04\n",
            "Epoch 94/150\n",
            "14/14 [==============================] - 2s 133ms/step - loss: 3.6582e-04 - val_loss: 9.5964e-04\n",
            "Epoch 95/150\n",
            "14/14 [==============================] - 2s 133ms/step - loss: 3.5025e-04 - val_loss: 9.6781e-04\n",
            "Epoch 96/150\n",
            "14/14 [==============================] - 2s 130ms/step - loss: 3.4974e-04 - val_loss: 9.3542e-04\n",
            "Epoch 97/150\n",
            "14/14 [==============================] - 2s 131ms/step - loss: 3.5847e-04 - val_loss: 0.0011\n",
            "Epoch 98/150\n",
            "14/14 [==============================] - 2s 131ms/step - loss: 3.8351e-04 - val_loss: 0.0011\n",
            "Epoch 99/150\n",
            "14/14 [==============================] - 2s 130ms/step - loss: 4.2516e-04 - val_loss: 9.6131e-04\n",
            "Epoch 100/150\n",
            "14/14 [==============================] - 2s 134ms/step - loss: 3.5779e-04 - val_loss: 0.0010\n",
            "Epoch 101/150\n",
            "14/14 [==============================] - 2s 130ms/step - loss: 3.5097e-04 - val_loss: 9.5638e-04\n",
            "Epoch 102/150\n",
            "14/14 [==============================] - 2s 134ms/step - loss: 3.4938e-04 - val_loss: 8.7435e-04\n",
            "Epoch 103/150\n",
            "14/14 [==============================] - 2s 134ms/step - loss: 3.5196e-04 - val_loss: 9.9140e-04\n",
            "Epoch 104/150\n",
            "14/14 [==============================] - 2s 131ms/step - loss: 4.3904e-04 - val_loss: 9.6043e-04\n",
            "Epoch 105/150\n",
            "14/14 [==============================] - 2s 132ms/step - loss: 4.3101e-04 - val_loss: 0.0015\n",
            "Epoch 106/150\n",
            "14/14 [==============================] - 2s 136ms/step - loss: 5.9817e-04 - val_loss: 0.0012\n",
            "Epoch 107/150\n",
            "14/14 [==============================] - 2s 133ms/step - loss: 3.6382e-04 - val_loss: 9.4318e-04\n",
            "Epoch 108/150\n",
            "14/14 [==============================] - 2s 133ms/step - loss: 3.4086e-04 - val_loss: 9.7684e-04\n",
            "Epoch 109/150\n",
            "14/14 [==============================] - 2s 133ms/step - loss: 3.3971e-04 - val_loss: 9.9445e-04\n",
            "Epoch 110/150\n",
            "14/14 [==============================] - 2s 132ms/step - loss: 3.3421e-04 - val_loss: 9.6391e-04\n",
            "Epoch 111/150\n",
            "14/14 [==============================] - 2s 134ms/step - loss: 3.4357e-04 - val_loss: 9.6595e-04\n",
            "Epoch 112/150\n",
            "14/14 [==============================] - 2s 133ms/step - loss: 3.6963e-04 - val_loss: 0.0010\n",
            "Epoch 113/150\n",
            "14/14 [==============================] - 2s 135ms/step - loss: 3.8121e-04 - val_loss: 0.0012\n",
            "Epoch 114/150\n",
            "14/14 [==============================] - 2s 134ms/step - loss: 3.9661e-04 - val_loss: 0.0012\n",
            "Epoch 115/150\n",
            "14/14 [==============================] - 2s 133ms/step - loss: 4.5287e-04 - val_loss: 9.6773e-04\n",
            "Epoch 116/150\n",
            "14/14 [==============================] - 2s 132ms/step - loss: 3.9658e-04 - val_loss: 0.0010\n",
            "Epoch 117/150\n",
            "14/14 [==============================] - 2s 135ms/step - loss: 4.1483e-04 - val_loss: 9.2208e-04\n",
            "Epoch 118/150\n",
            "14/14 [==============================] - 2s 135ms/step - loss: 3.4380e-04 - val_loss: 9.5468e-04\n",
            "Epoch 119/150\n",
            "14/14 [==============================] - 2s 134ms/step - loss: 4.3261e-04 - val_loss: 8.4963e-04\n",
            "Epoch 120/150\n",
            "14/14 [==============================] - 2s 133ms/step - loss: 4.0199e-04 - val_loss: 8.6733e-04\n",
            "Epoch 121/150\n",
            "14/14 [==============================] - 2s 131ms/step - loss: 3.2409e-04 - val_loss: 9.1453e-04\n",
            "Epoch 122/150\n",
            "14/14 [==============================] - 2s 132ms/step - loss: 3.3760e-04 - val_loss: 8.9533e-04\n",
            "Epoch 123/150\n",
            "14/14 [==============================] - 2s 130ms/step - loss: 3.3574e-04 - val_loss: 8.8999e-04\n",
            "Epoch 124/150\n",
            "14/14 [==============================] - 2s 132ms/step - loss: 3.3235e-04 - val_loss: 9.3086e-04\n",
            "Epoch 125/150\n",
            "14/14 [==============================] - 2s 134ms/step - loss: 3.6709e-04 - val_loss: 9.3423e-04\n",
            "Epoch 126/150\n",
            "14/14 [==============================] - 2s 134ms/step - loss: 3.3862e-04 - val_loss: 8.9263e-04\n",
            "Epoch 127/150\n",
            "14/14 [==============================] - 2s 131ms/step - loss: 3.2609e-04 - val_loss: 9.4366e-04\n",
            "Epoch 128/150\n",
            "14/14 [==============================] - 2s 133ms/step - loss: 3.9261e-04 - val_loss: 8.7373e-04\n",
            "Epoch 129/150\n",
            "14/14 [==============================] - 2s 131ms/step - loss: 3.8489e-04 - val_loss: 9.7852e-04\n",
            "Epoch 130/150\n",
            "14/14 [==============================] - 2s 132ms/step - loss: 3.5894e-04 - val_loss: 9.1830e-04\n",
            "Epoch 131/150\n",
            "14/14 [==============================] - 2s 133ms/step - loss: 3.4462e-04 - val_loss: 9.3764e-04\n",
            "Epoch 132/150\n",
            "14/14 [==============================] - 2s 130ms/step - loss: 3.3643e-04 - val_loss: 8.2887e-04\n",
            "Epoch 133/150\n",
            "14/14 [==============================] - 2s 133ms/step - loss: 3.3115e-04 - val_loss: 8.6595e-04\n",
            "Epoch 134/150\n",
            "14/14 [==============================] - 2s 134ms/step - loss: 3.6095e-04 - val_loss: 8.4855e-04\n",
            "Epoch 135/150\n",
            "14/14 [==============================] - 2s 137ms/step - loss: 3.6426e-04 - val_loss: 8.3299e-04\n",
            "Epoch 136/150\n",
            "14/14 [==============================] - 2s 130ms/step - loss: 3.3209e-04 - val_loss: 8.9970e-04\n",
            "Epoch 137/150\n",
            "14/14 [==============================] - 2s 132ms/step - loss: 3.2544e-04 - val_loss: 8.2545e-04\n",
            "Epoch 138/150\n",
            "14/14 [==============================] - 2s 131ms/step - loss: 3.5028e-04 - val_loss: 0.0010\n",
            "Epoch 139/150\n",
            "14/14 [==============================] - 2s 134ms/step - loss: 3.2136e-04 - val_loss: 8.3407e-04\n",
            "Epoch 140/150\n",
            "14/14 [==============================] - 2s 135ms/step - loss: 3.9358e-04 - val_loss: 9.3678e-04\n",
            "Epoch 141/150\n",
            "14/14 [==============================] - 2s 136ms/step - loss: 3.6685e-04 - val_loss: 8.1400e-04\n",
            "Epoch 142/150\n",
            "14/14 [==============================] - 2s 132ms/step - loss: 3.0186e-04 - val_loss: 8.0759e-04\n",
            "Epoch 143/150\n",
            "14/14 [==============================] - 2s 135ms/step - loss: 3.0346e-04 - val_loss: 8.2105e-04\n",
            "Epoch 144/150\n",
            "14/14 [==============================] - 2s 133ms/step - loss: 3.0067e-04 - val_loss: 8.2929e-04\n",
            "Epoch 145/150\n",
            "14/14 [==============================] - 2s 137ms/step - loss: 3.1113e-04 - val_loss: 7.8416e-04\n",
            "Epoch 146/150\n",
            "14/14 [==============================] - 2s 134ms/step - loss: 3.3259e-04 - val_loss: 8.1655e-04\n",
            "Epoch 147/150\n",
            "14/14 [==============================] - 2s 132ms/step - loss: 3.3110e-04 - val_loss: 8.3320e-04\n",
            "Epoch 148/150\n",
            "14/14 [==============================] - 2s 132ms/step - loss: 3.0375e-04 - val_loss: 8.0074e-04\n",
            "Epoch 149/150\n",
            "14/14 [==============================] - 2s 132ms/step - loss: 3.1546e-04 - val_loss: 7.9831e-04\n",
            "Epoch 150/150\n",
            "14/14 [==============================] - 2s 135ms/step - loss: 3.8763e-04 - val_loss: 7.9832e-04\n"
          ],
          "name": "stdout"
        },
        {
          "output_type": "execute_result",
          "data": {
            "text/plain": [
              "<tensorflow.python.keras.callbacks.History at 0x7f4dd6640c10>"
            ]
          },
          "metadata": {
            "tags": []
          },
          "execution_count": 318
        }
      ]
    },
    {
      "cell_type": "code",
      "metadata": {
        "id": "IVcg6YfW3_t3"
      },
      "source": [
        "trainpredict = model.predict(xtrain)\n",
        "testpredict = model.predict(xtest)"
      ],
      "execution_count": 319,
      "outputs": []
    },
    {
      "cell_type": "code",
      "metadata": {
        "id": "SuhglG6rQcfG"
      },
      "source": [
        "from math import sqrt\n",
        "from sklearn.metrics import mean_squared_error"
      ],
      "execution_count": 320,
      "outputs": []
    },
    {
      "cell_type": "code",
      "metadata": {
        "colab": {
          "base_uri": "https://localhost:8080/"
        },
        "id": "S09rQErKQo3K",
        "outputId": "92b2654f-1a6d-45fd-ab78-256a152845db"
      },
      "source": [
        "sqrt(mean_squared_error(ytrain , trainpredict))"
      ],
      "execution_count": 321,
      "outputs": [
        {
          "output_type": "execute_result",
          "data": {
            "text/plain": [
              "0.01731101226756032"
            ]
          },
          "metadata": {
            "tags": []
          },
          "execution_count": 321
        }
      ]
    },
    {
      "cell_type": "code",
      "metadata": {
        "colab": {
          "base_uri": "https://localhost:8080/"
        },
        "id": "xFfygICMQpa-",
        "outputId": "b71a3af8-b9f1-4a66-ed15-b2d2c8118d0d"
      },
      "source": [
        "sqrt(mean_squared_error(ytest , testpredict))"
      ],
      "execution_count": 322,
      "outputs": [
        {
          "output_type": "execute_result",
          "data": {
            "text/plain": [
              "0.028254525171503963"
            ]
          },
          "metadata": {
            "tags": []
          },
          "execution_count": 322
        }
      ]
    },
    {
      "cell_type": "code",
      "metadata": {
        "id": "vL3NUeh_SDRF"
      },
      "source": [
        "# x_train = sc.inverse_transform(xtrain)\n",
        "y_train = sc.inverse_transform(np.reshape(ytrain , (-1 , 1)))"
      ],
      "execution_count": 323,
      "outputs": []
    },
    {
      "cell_type": "code",
      "metadata": {
        "id": "9CQXY0HmqB_J"
      },
      "source": [
        "# x_test = sc.inverse_transform(xtest)\n",
        "y_test = sc.inverse_transform(np.reshape(ytest , (-1 , 1)))"
      ],
      "execution_count": 324,
      "outputs": []
    },
    {
      "cell_type": "code",
      "metadata": {
        "id": "0HAL22HJptoB"
      },
      "source": [
        "train_predict = sc.inverse_transform(trainpredict)\n",
        "test_predict = sc.inverse_transform(testpredict)"
      ],
      "execution_count": 325,
      "outputs": []
    },
    {
      "cell_type": "code",
      "metadata": {
        "colab": {
          "base_uri": "https://localhost:8080/"
        },
        "id": "YH30qIrLqIX3",
        "outputId": "22ad614d-78c3-4dfe-903b-7b431f40b437"
      },
      "source": [
        "sqrt(mean_squared_error(y_train , train_predict))"
      ],
      "execution_count": 326,
      "outputs": [
        {
          "output_type": "execute_result",
          "data": {
            "text/plain": [
              "30.314873566160937"
            ]
          },
          "metadata": {
            "tags": []
          },
          "execution_count": 326
        }
      ]
    },
    {
      "cell_type": "code",
      "metadata": {
        "colab": {
          "base_uri": "https://localhost:8080/"
        },
        "id": "8AWCVzKtqI8-",
        "outputId": "5f3d1b45-56a2-4051-fddf-ab405b40c8e7"
      },
      "source": [
        "sqrt(mean_squared_error(y_test , test_predict))"
      ],
      "execution_count": 327,
      "outputs": [
        {
          "output_type": "execute_result",
          "data": {
            "text/plain": [
              "49.47903946547964"
            ]
          },
          "metadata": {
            "tags": []
          },
          "execution_count": 327
        }
      ]
    },
    {
      "cell_type": "markdown",
      "metadata": {
        "id": "EKHBpoAXh9gn"
      },
      "source": [
        "# **Plotting**"
      ]
    },
    {
      "cell_type": "code",
      "metadata": {
        "colab": {
          "base_uri": "https://localhost:8080/",
          "height": 388
        },
        "id": "Tjiz5GK9yZWq",
        "outputId": "0766c9ad-3756-4966-d6a2-8c52e1a663f8"
      },
      "source": [
        "from google.colab import files\n",
        "\n",
        "plt.figure(figsize=(12 , 6))\n",
        "\n",
        "plt.plot(y_train , label='y_train')\n",
        "plt.plot(train_predict , c='red' , label='train_predict')\n",
        "plt.legend()\n",
        "plt.savefig(\"trainprediction.png\")\n",
        "\n",
        "plt.xlabel(\"Time\")\n",
        "plt.ylabel(\"Closing Value\")\n",
        "\n",
        "files.download(\"trainprediction.png\")"
      ],
      "execution_count": 328,
      "outputs": [
        {
          "output_type": "display_data",
          "data": {
            "application/javascript": [
              "\n",
              "    async function download(id, filename, size) {\n",
              "      if (!google.colab.kernel.accessAllowed) {\n",
              "        return;\n",
              "      }\n",
              "      const div = document.createElement('div');\n",
              "      const label = document.createElement('label');\n",
              "      label.textContent = `Downloading \"${filename}\": `;\n",
              "      div.appendChild(label);\n",
              "      const progress = document.createElement('progress');\n",
              "      progress.max = size;\n",
              "      div.appendChild(progress);\n",
              "      document.body.appendChild(div);\n",
              "\n",
              "      const buffers = [];\n",
              "      let downloaded = 0;\n",
              "\n",
              "      const channel = await google.colab.kernel.comms.open(id);\n",
              "      // Send a message to notify the kernel that we're ready.\n",
              "      channel.send({})\n",
              "\n",
              "      for await (const message of channel.messages) {\n",
              "        // Send a message to notify the kernel that we're ready.\n",
              "        channel.send({})\n",
              "        if (message.buffers) {\n",
              "          for (const buffer of message.buffers) {\n",
              "            buffers.push(buffer);\n",
              "            downloaded += buffer.byteLength;\n",
              "            progress.value = downloaded;\n",
              "          }\n",
              "        }\n",
              "      }\n",
              "      const blob = new Blob(buffers, {type: 'application/binary'});\n",
              "      const a = document.createElement('a');\n",
              "      a.href = window.URL.createObjectURL(blob);\n",
              "      a.download = filename;\n",
              "      div.appendChild(a);\n",
              "      a.click();\n",
              "      div.remove();\n",
              "    }\n",
              "  "
            ],
            "text/plain": [
              "<IPython.core.display.Javascript object>"
            ]
          },
          "metadata": {
            "tags": []
          }
        },
        {
          "output_type": "display_data",
          "data": {
            "application/javascript": [
              "download(\"download_900d36c3-b2c3-47d9-affb-77f6d7dc792a\", \"trainprediction.png\", 33103)"
            ],
            "text/plain": [
              "<IPython.core.display.Javascript object>"
            ]
          },
          "metadata": {
            "tags": []
          }
        },
        {
          "output_type": "display_data",
          "data": {
            "image/png": "[encoded data removed]",
            "text/plain": [
              "<Figure size 864x432 with 1 Axes>"
            ]
          },
          "metadata": {
            "tags": [],
            "needs_background": "light"
          }
        }
      ]
    },
    {
      "cell_type": "code",
      "metadata": {
        "colab": {
          "base_uri": "https://localhost:8080/",
          "height": 388
        },
        "id": "9DtAxrtBcofY",
        "outputId": "8a33ae88-946d-499e-e9b9-5e113fd3d100"
      },
      "source": [
        "plt.figure(figsize=(12 , 6))\n",
        "\n",
        "plt.plot(y_test , label='y_test')\n",
        "plt.plot(test_predict , c='red' , label='test_predict')\n",
        "plt.legend()\n",
        "plt.savefig(\"testprediction.png\")\n",
        "\n",
        "plt.xlabel(\"Time\")\n",
        "plt.ylabel(\"Closing Value\")\n",
        "\n",
        "files.download(\"testprediction.png\")"
      ],
      "execution_count": 329,
      "outputs": [
        {
          "output_type": "display_data",
          "data": {
            "application/javascript": [
              "\n",
              "    async function download(id, filename, size) {\n",
              "      if (!google.colab.kernel.accessAllowed) {\n",
              "        return;\n",
              "      }\n",
              "      const div = document.createElement('div');\n",
              "      const label = document.createElement('label');\n",
              "      label.textContent = `Downloading \"${filename}\": `;\n",
              "      div.appendChild(label);\n",
              "      const progress = document.createElement('progress');\n",
              "      progress.max = size;\n",
              "      div.appendChild(progress);\n",
              "      document.body.appendChild(div);\n",
              "\n",
              "      const buffers = [];\n",
              "      let downloaded = 0;\n",
              "\n",
              "      const channel = await google.colab.kernel.comms.open(id);\n",
              "      // Send a message to notify the kernel that we're ready.\n",
              "      channel.send({})\n",
              "\n",
              "      for await (const message of channel.messages) {\n",
              "        // Send a message to notify the kernel that we're ready.\n",
              "        channel.send({})\n",
              "        if (message.buffers) {\n",
              "          for (const buffer of message.buffers) {\n",
              "            buffers.push(buffer);\n",
              "            downloaded += buffer.byteLength;\n",
              "            progress.value = downloaded;\n",
              "          }\n",
              "        }\n",
              "      }\n",
              "      const blob = new Blob(buffers, {type: 'application/binary'});\n",
              "      const a = document.createElement('a');\n",
              "      a.href = window.URL.createObjectURL(blob);\n",
              "      a.download = filename;\n",
              "      div.appendChild(a);\n",
              "      a.click();\n",
              "      div.remove();\n",
              "    }\n",
              "  "
            ],
            "text/plain": [
              "<IPython.core.display.Javascript object>"
            ]
          },
          "metadata": {
            "tags": []
          }
        },
        {
          "output_type": "display_data",
          "data": {
            "application/javascript": [
              "download(\"download_6ec97392-10a1-4701-b961-a20e8397dc76\", \"testprediction.png\", 32910)"
            ],
            "text/plain": [
              "<IPython.core.display.Javascript object>"
            ]
          },
          "metadata": {
            "tags": []
          }
        },
        {
          "output_type": "display_data",
          "data": {
            "image/png": "[encoded data removed]",
            "text/plain": [
              "<Figure size 864x432 with 1 Axes>"
            ]
          },
          "metadata": {
            "tags": [],
            "needs_background": "light"
          }
        }
      ]
    },
    {
      "cell_type": "code",
      "metadata": {
        "colab": {
          "base_uri": "https://localhost:8080/",
          "height": 388
        },
        "id": "jEN1WMPAclxy",
        "outputId": "a0f9926e-6ba8-4073-f763-57e39f480a98"
      },
      "source": [
        "plt.figure(figsize=(12 , 6))\n",
        "\n",
        "l = [i for i in range(y_train.shape[0])]\n",
        "plt.scatter(l , y_train , label='y_train')\n",
        "plt.scatter(l , train_predict , label='train_predict' , c='red')\n",
        "plt.legend()\n",
        "\n",
        "plt.xlabel(\"Time\")\n",
        "plt.ylabel(\"Closing Value\")\n",
        "\n",
        "plt.plot()\n",
        "\n",
        "plt.savefig(\"scattertrainpredict.png\")\n",
        "files.download(\"scattertrainpredict.png\")"
      ],
      "execution_count": 330,
      "outputs": [
        {
          "output_type": "display_data",
          "data": {
            "application/javascript": [
              "\n",
              "    async function download(id, filename, size) {\n",
              "      if (!google.colab.kernel.accessAllowed) {\n",
              "        return;\n",
              "      }\n",
              "      const div = document.createElement('div');\n",
              "      const label = document.createElement('label');\n",
              "      label.textContent = `Downloading \"${filename}\": `;\n",
              "      div.appendChild(label);\n",
              "      const progress = document.createElement('progress');\n",
              "      progress.max = size;\n",
              "      div.appendChild(progress);\n",
              "      document.body.appendChild(div);\n",
              "\n",
              "      const buffers = [];\n",
              "      let downloaded = 0;\n",
              "\n",
              "      const channel = await google.colab.kernel.comms.open(id);\n",
              "      // Send a message to notify the kernel that we're ready.\n",
              "      channel.send({})\n",
              "\n",
              "      for await (const message of channel.messages) {\n",
              "        // Send a message to notify the kernel that we're ready.\n",
              "        channel.send({})\n",
              "        if (message.buffers) {\n",
              "          for (const buffer of message.buffers) {\n",
              "            buffers.push(buffer);\n",
              "            downloaded += buffer.byteLength;\n",
              "            progress.value = downloaded;\n",
              "          }\n",
              "        }\n",
              "      }\n",
              "      const blob = new Blob(buffers, {type: 'application/binary'});\n",
              "      const a = document.createElement('a');\n",
              "      a.href = window.URL.createObjectURL(blob);\n",
              "      a.download = filename;\n",
              "      div.appendChild(a);\n",
              "      a.click();\n",
              "      div.remove();\n",
              "    }\n",
              "  "
            ],
            "text/plain": [
              "<IPython.core.display.Javascript object>"
            ]
          },
          "metadata": {
            "tags": []
          }
        },
        {
          "output_type": "display_data",
          "data": {
            "application/javascript": [
              "download(\"download_902d4bb7-7c75-4369-86ba-7e0d6d84646a\", \"scattertrainpredict.png\", 29789)"
            ],
            "text/plain": [
              "<IPython.core.display.Javascript object>"
            ]
          },
          "metadata": {
            "tags": []
          }
        },
        {
          "output_type": "display_data",
          "data": {
            "image/png": "[encoded data removed]",
            "text/plain": [
              "<Figure size 864x432 with 1 Axes>"
            ]
          },
          "metadata": {
            "tags": [],
            "needs_background": "light"
          }
        }
      ]
    },
    {
      "cell_type": "code",
      "metadata": {
        "colab": {
          "base_uri": "https://localhost:8080/",
          "height": 388
        },
        "id": "xMcfhUUsdYyd",
        "outputId": "d87eff76-92f4-4c6a-e5b0-6096b338ad11"
      },
      "source": [
        "plt.figure(figsize=(12 , 6))\n",
        "\n",
        "li = [i for i in range(y_test.shape[0])]\n",
        "plt.scatter(li , y_test , label='y_test')\n",
        "plt.scatter(li , test_predict , label='test_predict' , c='red')\n",
        "plt.legend()\n",
        "\n",
        "plt.xlabel(\"Time\")\n",
        "plt.ylabel(\"Closing Value\")\n",
        "\n",
        "plt.plot()\n",
        "\n",
        "plt.savefig(\"scattertestpredict.png\")\n",
        "files.download(\"scattertestpredict.png\")"
      ],
      "execution_count": 331,
      "outputs": [
        {
          "output_type": "display_data",
          "data": {
            "application/javascript": [
              "\n",
              "    async function download(id, filename, size) {\n",
              "      if (!google.colab.kernel.accessAllowed) {\n",
              "        return;\n",
              "      }\n",
              "      const div = document.createElement('div');\n",
              "      const label = document.createElement('label');\n",
              "      label.textContent = `Downloading \"${filename}\": `;\n",
              "      div.appendChild(label);\n",
              "      const progress = document.createElement('progress');\n",
              "      progress.max = size;\n",
              "      div.appendChild(progress);\n",
              "      document.body.appendChild(div);\n",
              "\n",
              "      const buffers = [];\n",
              "      let downloaded = 0;\n",
              "\n",
              "      const channel = await google.colab.kernel.comms.open(id);\n",
              "      // Send a message to notify the kernel that we're ready.\n",
              "      channel.send({})\n",
              "\n",
              "      for await (const message of channel.messages) {\n",
              "        // Send a message to notify the kernel that we're ready.\n",
              "        channel.send({})\n",
              "        if (message.buffers) {\n",
              "          for (const buffer of message.buffers) {\n",
              "            buffers.push(buffer);\n",
              "            downloaded += buffer.byteLength;\n",
              "            progress.value = downloaded;\n",
              "          }\n",
              "        }\n",
              "      }\n",
              "      const blob = new Blob(buffers, {type: 'application/binary'});\n",
              "      const a = document.createElement('a');\n",
              "      a.href = window.URL.createObjectURL(blob);\n",
              "      a.download = filename;\n",
              "      div.appendChild(a);\n",
              "      a.click();\n",
              "      div.remove();\n",
              "    }\n",
              "  "
            ],
            "text/plain": [
              "<IPython.core.display.Javascript object>"
            ]
          },
          "metadata": {
            "tags": []
          }
        },
        {
          "output_type": "display_data",
          "data": {
            "application/javascript": [
              "download(\"download_38386217-1ea3-4b0a-b9e9-0ac5e8f7261f\", \"scattertestpredict.png\", 26724)"
            ],
            "text/plain": [
              "<IPython.core.display.Javascript object>"
            ]
          },
          "metadata": {
            "tags": []
          }
        },
        {
          "output_type": "display_data",
          "data": {
            "image/png": "[encoded data removed]",
            "text/plain": [
              "<Figure size 864x432 with 1 Axes>"
            ]
          },
          "metadata": {
            "tags": [],
            "needs_background": "light"
          }
        }
      ]
    },
    {
      "cell_type": "markdown",
      "metadata": {
        "id": "cjeLz5RR0vJr"
      },
      "source": [
        "# **Predicting**"
      ]
    },
    {
      "cell_type": "code",
      "metadata": {
        "colab": {
          "base_uri": "https://localhost:8080/"
        },
        "id": "FBAPQ3gVScoE",
        "outputId": "f235b4cf-8283-4b74-900d-3792ae4ac428"
      },
      "source": [
        "newpred = test[['Adj Close']]\n",
        "newpred = np.reshape(newpred , (-1 , 1))\n",
        "newpred = sc.fit_transform(newpred)\n",
        "xnpred = []\n",
        "for i in range(len(newpred) - 60 , len(newpred)):\n",
        "  xnpred.append(newpred[i][0])\n",
        "\n",
        "xnpred = np.reshape(xnpred , (1 , len(xnpred) , 1))\n",
        "xnpred.shape\n",
        "tpred = model.predict(xnpred)\n",
        "tpred = sc.inverse_transform(tpred)\n",
        "tpred.reshape(1)\n",
        "print(tpred)"
      ],
      "execution_count": 332,
      "outputs": [
        {
          "output_type": "stream",
          "text": [
            "[[1668.9508]]\n"
          ],
          "name": "stdout"
        }
      ]
    },
    {
      "cell_type": "markdown",
      "metadata": {
        "id": "iRvNDK170z4X"
      },
      "source": [
        "# **Saving & loading the model and predicting with the loaded model**"
      ]
    },
    {
      "cell_type": "code",
      "metadata": {
        "colab": {
          "base_uri": "https://localhost:8080/"
        },
        "id": "4k7_2Ustx-tT",
        "outputId": "f26dc85b-a785-4c93-db2c-04c151b5afa4"
      },
      "source": [
        "model.save(\"./lstmstockpredmodel\")"
      ],
      "execution_count": 333,
      "outputs": [
        {
          "output_type": "stream",
          "text": [
            "WARNING:absl:Found untraced functions such as lstm_cell_42_layer_call_and_return_conditional_losses, lstm_cell_42_layer_call_fn, lstm_cell_43_layer_call_and_return_conditional_losses, lstm_cell_43_layer_call_fn, lstm_cell_44_layer_call_and_return_conditional_losses while saving (showing 5 of 15). These functions will not be directly callable after loading.\n"
          ],
          "name": "stderr"
        },
        {
          "output_type": "stream",
          "text": [
            "INFO:tensorflow:Assets written to: ./lstmstockpredmodel/assets\n"
          ],
          "name": "stdout"
        },
        {
          "output_type": "stream",
          "text": [
            "INFO:tensorflow:Assets written to: ./lstmstockpredmodel/assets\n"
          ],
          "name": "stderr"
        }
      ]
    },
    {
      "cell_type": "code",
      "metadata": {
        "colab": {
          "base_uri": "https://localhost:8080/"
        },
        "id": "8XbEAQe8hYr0",
        "outputId": "5d02807e-0a23-4dab-b715-5bb3ddf03051"
      },
      "source": [
        "from tensorflow import keras\n",
        "pmodel = keras.models.load_model(\"./lstmstockpredmodel\")\n",
        "nxpred = pmodel.predict(xnpred)\n",
        "nxpred = sc.inverse_transform(nxpred)\n",
        "nxpred"
      ],
      "execution_count": 334,
      "outputs": [
        {
          "output_type": "execute_result",
          "data": {
            "text/plain": [
              "array([[1668.9508]], dtype=float32)"
            ]
          },
          "metadata": {
            "tags": []
          },
          "execution_count": 334
        }
      ]
    },
    {
      "cell_type": "code",
      "metadata": {
        "id": "x9Ur0ScbKuKu",
        "colab": {
          "base_uri": "https://localhost:8080/"
        },
        "outputId": "6b229a15-c40c-48f6-edd8-9aeef10dd8e2"
      },
      "source": [
        "newp = newdata[['Adj Close']]\n",
        "newp = sc.fit_transform(newp)\n",
        "newp = newp.flatten()\n",
        "\n",
        "for i in range(100):\n",
        "  xnewp = []\n",
        "  for j in range(len(newp) - 60 , len(newp)):\n",
        "      xnewp.append(newp[j])\n",
        "\n",
        "  xnewp = np.reshape(xnewp , (1 , len(xnewp) , 1))\n",
        "  tnp = pmodel.predict(xnewp)\n",
        "  tnp.reshape(1)\n",
        "  newp = np.append(newp , tnp[0][0])\n",
        "  tnp = sc.inverse_transform(tnp)\n",
        "  # tpred.reshape(1)\n",
        "  print(tnp)\n",
        "# print(newp)  \n",
        "# newp.shape\n",
        "# print(tnp[0][0])"
      ],
      "execution_count": 335,
      "outputs": [
        {
          "output_type": "stream",
          "text": [
            "[[1663.5166]]\n",
            "[[1681.7498]]\n",
            "[[1693.9847]]\n",
            "[[1701.4879]]\n",
            "[[1705.3043]]\n",
            "[[1706.1593]]\n",
            "[[1704.625]]\n",
            "[[1701.2659]]\n",
            "[[1696.6952]]\n",
            "[[1691.5586]]\n",
            "[[1686.4775]]\n",
            "[[1681.979]]\n",
            "[[1678.4417]]\n",
            "[[1676.0657]]\n",
            "[[1674.865]]\n",
            "[[1674.6932]]\n",
            "[[1675.2866]]\n",
            "[[1676.3156]]\n",
            "[[1677.4362]]\n",
            "[[1678.3335]]\n",
            "[[1678.7593]]\n",
            "[[1678.5508]]\n",
            "[[1677.6359]]\n",
            "[[1676.0366]]\n",
            "[[1673.8475]]\n",
            "[[1671.2194]]\n",
            "[[1668.3356]]\n",
            "[[1665.3844]]\n",
            "[[1662.5371]]\n",
            "[[1659.9298]]\n",
            "[[1657.652]]\n",
            "[[1655.7433]]\n",
            "[[1654.1932]]\n",
            "[[1652.9517]]\n",
            "[[1651.9418]]\n",
            "[[1651.0723]]\n",
            "[[1650.2545]]\n",
            "[[1649.4054]]\n",
            "[[1648.465]]\n",
            "[[1647.3967]]\n",
            "[[1646.1888]]\n",
            "[[1644.8525]]\n",
            "[[1643.4191]]\n",
            "[[1641.931]]\n",
            "[[1640.4364]]\n",
            "[[1638.9824]]\n",
            "[[1637.6111]]\n",
            "[[1636.3523]]\n",
            "[[1635.225]]\n",
            "[[1634.2356]]\n",
            "[[1633.3777]]\n",
            "[[1632.6338]]\n",
            "[[1631.983]]\n",
            "[[1631.3994]]\n",
            "[[1630.8596]]\n",
            "[[1630.3423]]\n",
            "[[1629.8309]]\n",
            "[[1629.3153]]\n",
            "[[1628.7913]]\n",
            "[[1628.263]]\n",
            "[[1627.7357]]\n",
            "[[1627.2172]]\n",
            "[[1626.7202]]\n",
            "[[1626.2545]]\n",
            "[[1625.8289]]\n",
            "[[1625.4492]]\n",
            "[[1625.119]]\n",
            "[[1624.8379]]\n",
            "[[1624.603]]\n",
            "[[1624.41]]\n",
            "[[1624.2516]]\n",
            "[[1624.1206]]\n",
            "[[1624.0109]]\n",
            "[[1623.9159]]\n",
            "[[1623.8302]]\n",
            "[[1623.752]]\n",
            "[[1623.678]]\n",
            "[[1623.6089]]\n",
            "[[1623.5454]]\n",
            "[[1623.4885]]\n",
            "[[1623.4415]]\n",
            "[[1623.4052]]\n",
            "[[1623.3821]]\n",
            "[[1623.3724]]\n",
            "[[1623.3768]]\n",
            "[[1623.3954]]\n",
            "[[1623.4263]]\n",
            "[[1623.469]]\n",
            "[[1623.5209]]\n",
            "[[1623.5798]]\n",
            "[[1623.6443]]\n",
            "[[1623.7128]]\n",
            "[[1623.7825]]\n",
            "[[1623.8544]]\n",
            "[[1623.9259]]\n",
            "[[1623.9977]]\n",
            "[[1624.0703]]\n",
            "[[1624.1427]]\n",
            "[[1624.2157]]\n",
            "[[1624.2904]]\n"
          ],
          "name": "stdout"
        }
      ]
    },
    {
      "cell_type": "code",
      "metadata": {
        "id": "RtxjvQH-MRRo"
      },
      "source": [
        ""
      ],
      "execution_count": 335,
      "outputs": []
    }
  ]
}