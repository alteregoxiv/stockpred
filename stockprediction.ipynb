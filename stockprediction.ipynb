{
  "nbformat": 4,
  "nbformat_minor": 0,
  "metadata": {
    "colab": {
      "name": "stockprediction.ipynb",
      "provenance": [],
      "collapsed_sections": [],
      "authorship_tag": "ABX9TyMO9ms3+Qu1WNGXbWyAlQEL",
      "include_colab_link": true
    },
    "kernelspec": {
      "name": "python3",
      "display_name": "Python 3"
    },
    "language_info": {
      "name": "python"
    }
  },
  "cells": [
    {
      "cell_type": "markdown",
      "metadata": {
        "id": "view-in-github",
        "colab_type": "text"
      },
      "source": [
        "<a href=\"https://colab.research.google.com/github/alteregoxiv/stockpred/blob/main/stockprediction.ipynb\" target=\"_parent\"><img src=\"https://colab.research.google.com/assets/colab-badge.svg\" alt=\"Open In Colab\"/></a>"
      ]
    },
    {
      "cell_type": "markdown",
      "metadata": {
        "id": "Lgd1YiGWppPz"
      },
      "source": [
        "# **STOCK PREDICTION USING LSTM(KERAS)**\n"
      ]
    },
    {
      "cell_type": "markdown",
      "metadata": {
        "id": "ev5-W2HvWUpB"
      },
      "source": [
        "# **Importing necessary Libraries**"
      ]
    },
    {
      "cell_type": "code",
      "metadata": {
        "id": "sT7zcAoIcksy"
      },
      "source": [
        "import numpy as np\n",
        "import matplotlib.pyplot as plt\n",
        "import pandas as pd"
      ],
      "execution_count": 606,
      "outputs": []
    },
    {
      "cell_type": "markdown",
      "metadata": {
        "id": "rnVYQZhNWcKe"
      },
      "source": [
        "# **Training Data Set**"
      ]
    },
    {
      "cell_type": "code",
      "metadata": {
        "colab": {
          "base_uri": "https://localhost:8080/",
          "height": 206
        },
        "id": "zxg_MYh3SOAk",
        "outputId": "72990431-731a-4838-aeff-4420e841121b"
      },
      "source": [
        "traindata = pd.read_csv(\"./AMZNtrain.csv\")\n",
        "traindata.head()"
      ],
      "execution_count": 607,
      "outputs": [
        {
          "output_type": "execute_result",
          "data": {
            "text/html": [
              "<div>\n",
              "<style scoped>\n",
              "    .dataframe tbody tr th:only-of-type {\n",
              "        vertical-align: middle;\n",
              "    }\n",
              "\n",
              "    .dataframe tbody tr th {\n",
              "        vertical-align: top;\n",
              "    }\n",
              "\n",
              "    .dataframe thead th {\n",
              "        text-align: right;\n",
              "    }\n",
              "</style>\n",
              "<table border=\"1\" class=\"dataframe\">\n",
              "  <thead>\n",
              "    <tr style=\"text-align: right;\">\n",
              "      <th></th>\n",
              "      <th>Date</th>\n",
              "      <th>Open</th>\n",
              "      <th>High</th>\n",
              "      <th>Low</th>\n",
              "      <th>Close</th>\n",
              "      <th>Adj Close</th>\n",
              "      <th>Volume</th>\n",
              "    </tr>\n",
              "  </thead>\n",
              "  <tbody>\n",
              "    <tr>\n",
              "      <th>0</th>\n",
              "      <td>2014-01-02</td>\n",
              "      <td>398.799988</td>\n",
              "      <td>399.359985</td>\n",
              "      <td>394.019989</td>\n",
              "      <td>397.970001</td>\n",
              "      <td>397.970001</td>\n",
              "      <td>2137800</td>\n",
              "    </tr>\n",
              "    <tr>\n",
              "      <th>1</th>\n",
              "      <td>2014-01-03</td>\n",
              "      <td>398.290009</td>\n",
              "      <td>402.709991</td>\n",
              "      <td>396.220001</td>\n",
              "      <td>396.440002</td>\n",
              "      <td>396.440002</td>\n",
              "      <td>2210200</td>\n",
              "    </tr>\n",
              "    <tr>\n",
              "      <th>2</th>\n",
              "      <td>2014-01-06</td>\n",
              "      <td>395.850006</td>\n",
              "      <td>397.000000</td>\n",
              "      <td>388.420013</td>\n",
              "      <td>393.630005</td>\n",
              "      <td>393.630005</td>\n",
              "      <td>3170600</td>\n",
              "    </tr>\n",
              "    <tr>\n",
              "      <th>3</th>\n",
              "      <td>2014-01-07</td>\n",
              "      <td>395.040009</td>\n",
              "      <td>398.470001</td>\n",
              "      <td>394.290009</td>\n",
              "      <td>398.029999</td>\n",
              "      <td>398.029999</td>\n",
              "      <td>1916000</td>\n",
              "    </tr>\n",
              "    <tr>\n",
              "      <th>4</th>\n",
              "      <td>2014-01-08</td>\n",
              "      <td>398.470001</td>\n",
              "      <td>403.000000</td>\n",
              "      <td>396.040009</td>\n",
              "      <td>401.920013</td>\n",
              "      <td>401.920013</td>\n",
              "      <td>2316500</td>\n",
              "    </tr>\n",
              "  </tbody>\n",
              "</table>\n",
              "</div>"
            ],
            "text/plain": [
              "         Date        Open        High  ...       Close   Adj Close   Volume\n",
              "0  2014-01-02  398.799988  399.359985  ...  397.970001  397.970001  2137800\n",
              "1  2014-01-03  398.290009  402.709991  ...  396.440002  396.440002  2210200\n",
              "2  2014-01-06  395.850006  397.000000  ...  393.630005  393.630005  3170600\n",
              "3  2014-01-07  395.040009  398.470001  ...  398.029999  398.029999  1916000\n",
              "4  2014-01-08  398.470001  403.000000  ...  401.920013  401.920013  2316500\n",
              "\n",
              "[5 rows x 7 columns]"
            ]
          },
          "metadata": {
            "tags": []
          },
          "execution_count": 607
        }
      ]
    },
    {
      "cell_type": "markdown",
      "metadata": {
        "id": "QPEpZlynWnQW"
      },
      "source": [
        "# **Testing Data Set**"
      ]
    },
    {
      "cell_type": "code",
      "metadata": {
        "colab": {
          "base_uri": "https://localhost:8080/",
          "height": 206
        },
        "id": "JVYD_bNkSg5d",
        "outputId": "290f777b-f758-4a1c-b946-a1938cfe7f35"
      },
      "source": [
        "testdata = pd.read_csv(\"./AMZNtest.csv\")\n",
        "testdata.head()"
      ],
      "execution_count": 608,
      "outputs": [
        {
          "output_type": "execute_result",
          "data": {
            "text/html": [
              "<div>\n",
              "<style scoped>\n",
              "    .dataframe tbody tr th:only-of-type {\n",
              "        vertical-align: middle;\n",
              "    }\n",
              "\n",
              "    .dataframe tbody tr th {\n",
              "        vertical-align: top;\n",
              "    }\n",
              "\n",
              "    .dataframe thead th {\n",
              "        text-align: right;\n",
              "    }\n",
              "</style>\n",
              "<table border=\"1\" class=\"dataframe\">\n",
              "  <thead>\n",
              "    <tr style=\"text-align: right;\">\n",
              "      <th></th>\n",
              "      <th>Date</th>\n",
              "      <th>Open</th>\n",
              "      <th>High</th>\n",
              "      <th>Low</th>\n",
              "      <th>Close</th>\n",
              "      <th>Adj Close</th>\n",
              "      <th>Volume</th>\n",
              "    </tr>\n",
              "  </thead>\n",
              "  <tbody>\n",
              "    <tr>\n",
              "      <th>0</th>\n",
              "      <td>2019-01-02</td>\n",
              "      <td>1465.199951</td>\n",
              "      <td>1553.359985</td>\n",
              "      <td>1460.930054</td>\n",
              "      <td>1539.130005</td>\n",
              "      <td>1539.130005</td>\n",
              "      <td>7983100</td>\n",
              "    </tr>\n",
              "    <tr>\n",
              "      <th>1</th>\n",
              "      <td>2019-01-03</td>\n",
              "      <td>1520.010010</td>\n",
              "      <td>1538.000000</td>\n",
              "      <td>1497.109985</td>\n",
              "      <td>1500.280029</td>\n",
              "      <td>1500.280029</td>\n",
              "      <td>6975600</td>\n",
              "    </tr>\n",
              "    <tr>\n",
              "      <th>2</th>\n",
              "      <td>2019-01-04</td>\n",
              "      <td>1530.000000</td>\n",
              "      <td>1594.000000</td>\n",
              "      <td>1518.310059</td>\n",
              "      <td>1575.390015</td>\n",
              "      <td>1575.390015</td>\n",
              "      <td>9182600</td>\n",
              "    </tr>\n",
              "    <tr>\n",
              "      <th>3</th>\n",
              "      <td>2019-01-07</td>\n",
              "      <td>1602.310059</td>\n",
              "      <td>1634.560059</td>\n",
              "      <td>1589.189941</td>\n",
              "      <td>1629.510010</td>\n",
              "      <td>1629.510010</td>\n",
              "      <td>7993200</td>\n",
              "    </tr>\n",
              "    <tr>\n",
              "      <th>4</th>\n",
              "      <td>2019-01-08</td>\n",
              "      <td>1664.689941</td>\n",
              "      <td>1676.609985</td>\n",
              "      <td>1616.609985</td>\n",
              "      <td>1656.579956</td>\n",
              "      <td>1656.579956</td>\n",
              "      <td>8881400</td>\n",
              "    </tr>\n",
              "  </tbody>\n",
              "</table>\n",
              "</div>"
            ],
            "text/plain": [
              "         Date         Open         High  ...        Close    Adj Close   Volume\n",
              "0  2019-01-02  1465.199951  1553.359985  ...  1539.130005  1539.130005  7983100\n",
              "1  2019-01-03  1520.010010  1538.000000  ...  1500.280029  1500.280029  6975600\n",
              "2  2019-01-04  1530.000000  1594.000000  ...  1575.390015  1575.390015  9182600\n",
              "3  2019-01-07  1602.310059  1634.560059  ...  1629.510010  1629.510010  7993200\n",
              "4  2019-01-08  1664.689941  1676.609985  ...  1656.579956  1656.579956  8881400\n",
              "\n",
              "[5 rows x 7 columns]"
            ]
          },
          "metadata": {
            "tags": []
          },
          "execution_count": 608
        }
      ]
    },
    {
      "cell_type": "markdown",
      "metadata": {
        "id": "URHQm4XdWrNU"
      },
      "source": [
        "# **Shapes of both data sets(Train , Test)**"
      ]
    },
    {
      "cell_type": "code",
      "metadata": {
        "colab": {
          "base_uri": "https://localhost:8080/"
        },
        "id": "wF6nBNrZU7Ux",
        "outputId": "72e9926f-8cfe-4036-cd37-c4b558f827c6"
      },
      "source": [
        "traindata.shape , testdata.shape"
      ],
      "execution_count": 609,
      "outputs": [
        {
          "output_type": "execute_result",
          "data": {
            "text/plain": [
              "((1258, 7), (21, 7))"
            ]
          },
          "metadata": {
            "tags": []
          },
          "execution_count": 609
        }
      ]
    },
    {
      "cell_type": "markdown",
      "metadata": {
        "id": "5YZOISlTXUqo"
      },
      "source": [
        "# **Concatenating Datasers and Sorting**"
      ]
    },
    {
      "cell_type": "code",
      "metadata": {
        "id": "vMCJ0YqEVVlF",
        "colab": {
          "base_uri": "https://localhost:8080/"
        },
        "outputId": "9874429f-e75e-40f9-e325-ebb845b90298"
      },
      "source": [
        "data = pd.concat([traindata , testdata] , axis=0 , ignore_index=True)\n",
        "data.head"
      ],
      "execution_count": 610,
      "outputs": [
        {
          "output_type": "execute_result",
          "data": {
            "text/plain": [
              "<bound method NDFrame.head of             Date         Open         High  ...        Close    Adj Close    Volume\n",
              "0     2014-01-02   398.799988   399.359985  ...   397.970001   397.970001   2137800\n",
              "1     2014-01-03   398.290009   402.709991  ...   396.440002   396.440002   2210200\n",
              "2     2014-01-06   395.850006   397.000000  ...   393.630005   393.630005   3170600\n",
              "3     2014-01-07   395.040009   398.470001  ...   398.029999   398.029999   1916000\n",
              "4     2014-01-08   398.470001   403.000000  ...   401.920013   401.920013   2316500\n",
              "...          ...          ...          ...  ...          ...          ...       ...\n",
              "1274  2019-01-25  1670.500000  1683.479980  ...  1670.569946  1670.569946   4945900\n",
              "1275  2019-01-28  1643.589966  1645.000000  ...  1637.890015  1637.890015   4837700\n",
              "1276  2019-01-29  1631.270020  1632.380005  ...  1593.880005  1593.880005   4632800\n",
              "1277  2019-01-30  1623.000000  1676.949951  ...  1670.430054  1670.430054   5783800\n",
              "1278  2019-01-31  1692.849976  1736.410034  ...  1718.729980  1718.729980  10910300\n",
              "\n",
              "[1279 rows x 7 columns]>"
            ]
          },
          "metadata": {
            "tags": []
          },
          "execution_count": 610
        }
      ]
    },
    {
      "cell_type": "code",
      "metadata": {
        "colab": {
          "base_uri": "https://localhost:8080/",
          "height": 293
        },
        "id": "SEFBWlNzXazd",
        "outputId": "7960a9ab-4a66-4ce3-922d-7b12b2b30efa"
      },
      "source": [
        "for i in range(len(data)):\n",
        "  date = data[\"Date\"][i]\n",
        "  d = date.split(\"-\")\n",
        "  s = str(d[0]) + str(d[1]) + str(d[2])\n",
        "  data[\"Date\"][i] = s\n",
        "data.head()"
      ],
      "execution_count": 611,
      "outputs": [
        {
          "output_type": "stream",
          "text": [
            "/usr/local/lib/python3.7/dist-packages/ipykernel_launcher.py:5: SettingWithCopyWarning: \n",
            "A value is trying to be set on a copy of a slice from a DataFrame\n",
            "\n",
            "See the caveats in the documentation: https://pandas.pydata.org/pandas-docs/stable/user_guide/indexing.html#returning-a-view-versus-a-copy\n",
            "  \"\"\"\n"
          ],
          "name": "stderr"
        },
        {
          "output_type": "execute_result",
          "data": {
            "text/html": [
              "<div>\n",
              "<style scoped>\n",
              "    .dataframe tbody tr th:only-of-type {\n",
              "        vertical-align: middle;\n",
              "    }\n",
              "\n",
              "    .dataframe tbody tr th {\n",
              "        vertical-align: top;\n",
              "    }\n",
              "\n",
              "    .dataframe thead th {\n",
              "        text-align: right;\n",
              "    }\n",
              "</style>\n",
              "<table border=\"1\" class=\"dataframe\">\n",
              "  <thead>\n",
              "    <tr style=\"text-align: right;\">\n",
              "      <th></th>\n",
              "      <th>Date</th>\n",
              "      <th>Open</th>\n",
              "      <th>High</th>\n",
              "      <th>Low</th>\n",
              "      <th>Close</th>\n",
              "      <th>Adj Close</th>\n",
              "      <th>Volume</th>\n",
              "    </tr>\n",
              "  </thead>\n",
              "  <tbody>\n",
              "    <tr>\n",
              "      <th>0</th>\n",
              "      <td>20140102</td>\n",
              "      <td>398.799988</td>\n",
              "      <td>399.359985</td>\n",
              "      <td>394.019989</td>\n",
              "      <td>397.970001</td>\n",
              "      <td>397.970001</td>\n",
              "      <td>2137800</td>\n",
              "    </tr>\n",
              "    <tr>\n",
              "      <th>1</th>\n",
              "      <td>20140103</td>\n",
              "      <td>398.290009</td>\n",
              "      <td>402.709991</td>\n",
              "      <td>396.220001</td>\n",
              "      <td>396.440002</td>\n",
              "      <td>396.440002</td>\n",
              "      <td>2210200</td>\n",
              "    </tr>\n",
              "    <tr>\n",
              "      <th>2</th>\n",
              "      <td>20140106</td>\n",
              "      <td>395.850006</td>\n",
              "      <td>397.000000</td>\n",
              "      <td>388.420013</td>\n",
              "      <td>393.630005</td>\n",
              "      <td>393.630005</td>\n",
              "      <td>3170600</td>\n",
              "    </tr>\n",
              "    <tr>\n",
              "      <th>3</th>\n",
              "      <td>20140107</td>\n",
              "      <td>395.040009</td>\n",
              "      <td>398.470001</td>\n",
              "      <td>394.290009</td>\n",
              "      <td>398.029999</td>\n",
              "      <td>398.029999</td>\n",
              "      <td>1916000</td>\n",
              "    </tr>\n",
              "    <tr>\n",
              "      <th>4</th>\n",
              "      <td>20140108</td>\n",
              "      <td>398.470001</td>\n",
              "      <td>403.000000</td>\n",
              "      <td>396.040009</td>\n",
              "      <td>401.920013</td>\n",
              "      <td>401.920013</td>\n",
              "      <td>2316500</td>\n",
              "    </tr>\n",
              "  </tbody>\n",
              "</table>\n",
              "</div>"
            ],
            "text/plain": [
              "       Date        Open        High  ...       Close   Adj Close   Volume\n",
              "0  20140102  398.799988  399.359985  ...  397.970001  397.970001  2137800\n",
              "1  20140103  398.290009  402.709991  ...  396.440002  396.440002  2210200\n",
              "2  20140106  395.850006  397.000000  ...  393.630005  393.630005  3170600\n",
              "3  20140107  395.040009  398.470001  ...  398.029999  398.029999  1916000\n",
              "4  20140108  398.470001  403.000000  ...  401.920013  401.920013  2316500\n",
              "\n",
              "[5 rows x 7 columns]"
            ]
          },
          "metadata": {
            "tags": []
          },
          "execution_count": 611
        }
      ]
    },
    {
      "cell_type": "code",
      "metadata": {
        "colab": {
          "base_uri": "https://localhost:8080/"
        },
        "id": "vl95h11OhUXG",
        "outputId": "d9f33079-49cb-4e86-ba9c-f74eba88df4f"
      },
      "source": [
        "data = data.sort_index(ascending=True , axis=0)\n",
        "data.head"
      ],
      "execution_count": 612,
      "outputs": [
        {
          "output_type": "execute_result",
          "data": {
            "text/plain": [
              "<bound method NDFrame.head of           Date         Open         High  ...        Close    Adj Close    Volume\n",
              "0     20140102   398.799988   399.359985  ...   397.970001   397.970001   2137800\n",
              "1     20140103   398.290009   402.709991  ...   396.440002   396.440002   2210200\n",
              "2     20140106   395.850006   397.000000  ...   393.630005   393.630005   3170600\n",
              "3     20140107   395.040009   398.470001  ...   398.029999   398.029999   1916000\n",
              "4     20140108   398.470001   403.000000  ...   401.920013   401.920013   2316500\n",
              "...        ...          ...          ...  ...          ...          ...       ...\n",
              "1274  20190125  1670.500000  1683.479980  ...  1670.569946  1670.569946   4945900\n",
              "1275  20190128  1643.589966  1645.000000  ...  1637.890015  1637.890015   4837700\n",
              "1276  20190129  1631.270020  1632.380005  ...  1593.880005  1593.880005   4632800\n",
              "1277  20190130  1623.000000  1676.949951  ...  1670.430054  1670.430054   5783800\n",
              "1278  20190131  1692.849976  1736.410034  ...  1718.729980  1718.729980  10910300\n",
              "\n",
              "[1279 rows x 7 columns]>"
            ]
          },
          "metadata": {
            "tags": []
          },
          "execution_count": 612
        }
      ]
    },
    {
      "cell_type": "markdown",
      "metadata": {
        "id": "cmL2H46GhxzR"
      },
      "source": [
        ""
      ]
    },
    {
      "cell_type": "markdown",
      "metadata": {
        "id": "WFvm1e-Vnsvt"
      },
      "source": [
        "# **Saving the DataFrame**"
      ]
    },
    {
      "cell_type": "code",
      "metadata": {
        "id": "oBruMR6WhxB7"
      },
      "source": [
        "data.to_csv(r'./AMZNTotalData.csv' , index=False)"
      ],
      "execution_count": 613,
      "outputs": []
    },
    {
      "cell_type": "code",
      "metadata": {
        "colab": {
          "base_uri": "https://localhost:8080/"
        },
        "id": "wvQ5cI7ykyvr",
        "outputId": "53205782-eed8-4c64-a6f4-6531f8794c5c"
      },
      "source": [
        "newdata = pd.read_csv(\"./AMZNTotalData.csv\")\n",
        "newdata.head"
      ],
      "execution_count": 614,
      "outputs": [
        {
          "output_type": "execute_result",
          "data": {
            "text/plain": [
              "<bound method NDFrame.head of           Date         Open         High  ...        Close    Adj Close    Volume\n",
              "0     20140102   398.799988   399.359985  ...   397.970001   397.970001   2137800\n",
              "1     20140103   398.290009   402.709991  ...   396.440002   396.440002   2210200\n",
              "2     20140106   395.850006   397.000000  ...   393.630005   393.630005   3170600\n",
              "3     20140107   395.040009   398.470001  ...   398.029999   398.029999   1916000\n",
              "4     20140108   398.470001   403.000000  ...   401.920013   401.920013   2316500\n",
              "...        ...          ...          ...  ...          ...          ...       ...\n",
              "1274  20190125  1670.500000  1683.479980  ...  1670.569946  1670.569946   4945900\n",
              "1275  20190128  1643.589966  1645.000000  ...  1637.890015  1637.890015   4837700\n",
              "1276  20190129  1631.270020  1632.380005  ...  1593.880005  1593.880005   4632800\n",
              "1277  20190130  1623.000000  1676.949951  ...  1670.430054  1670.430054   5783800\n",
              "1278  20190131  1692.849976  1736.410034  ...  1718.729980  1718.729980  10910300\n",
              "\n",
              "[1279 rows x 7 columns]>"
            ]
          },
          "metadata": {
            "tags": []
          },
          "execution_count": 614
        }
      ]
    },
    {
      "cell_type": "markdown",
      "metadata": {
        "id": "37LGB3wEp93X"
      },
      "source": [
        "# **Test Train Split from the concatenated Data Set**"
      ]
    },
    {
      "cell_type": "code",
      "metadata": {
        "colab": {
          "base_uri": "https://localhost:8080/"
        },
        "id": "VZnXpPuIonv9",
        "outputId": "8d5fee5c-eff2-40ce-858a-4d5ef7825afa"
      },
      "source": [
        "limit = np.random.rand((len(newdata)))<0.7\n",
        "train = newdata[limit]\n",
        "test = newdata[~limit]\n",
        "train.shape , test.shape"
      ],
      "execution_count": 615,
      "outputs": [
        {
          "output_type": "execute_result",
          "data": {
            "text/plain": [
              "((917, 7), (362, 7))"
            ]
          },
          "metadata": {
            "tags": []
          },
          "execution_count": 615
        }
      ]
    },
    {
      "cell_type": "code",
      "metadata": {
        "colab": {
          "base_uri": "https://localhost:8080/"
        },
        "id": "AXTXV-D4qQot",
        "outputId": "34e6c123-0a5f-4b57-9f6c-79062a7d4317"
      },
      "source": [
        "newtrain = train[['Adj Close']]\n",
        "newtest = test[['Adj Close']]\n",
        "\n",
        "newtrain.shape , newtest.shape"
      ],
      "execution_count": 616,
      "outputs": [
        {
          "output_type": "execute_result",
          "data": {
            "text/plain": [
              "((917, 1), (362, 1))"
            ]
          },
          "metadata": {
            "tags": []
          },
          "execution_count": 616
        }
      ]
    },
    {
      "cell_type": "markdown",
      "metadata": {
        "id": "OD7YgMi7yU3g"
      },
      "source": [
        "# **Scaling the Data**"
      ]
    },
    {
      "cell_type": "code",
      "metadata": {
        "id": "C5e02dL5-PoF"
      },
      "source": [
        "from sklearn.preprocessing import MinMaxScaler\n",
        "sc = MinMaxScaler(feature_range = (0, 1))\n",
        "\n",
        "newtrain = sc.fit_transform(newtrain)\n",
        "newtest = sc.fit_transform(newtest)\n",
        "\n",
        "newtrain = np.reshape(newtrain , (-1 , 1))\n",
        "newtest = np.reshape(newtest , (-1 , 1))"
      ],
      "execution_count": 617,
      "outputs": []
    },
    {
      "cell_type": "markdown",
      "metadata": {
        "id": "N84K9DW2yepY"
      },
      "source": [
        "# **Preparing the Final data using timestep for LSTM**"
      ]
    },
    {
      "cell_type": "code",
      "metadata": {
        "id": "dAixTgSxeNNF"
      },
      "source": [
        "def final_data(data , timestep):\n",
        "  xdata , ydata = [] , []\n",
        "  l = len(data)\n",
        "  for i in range(l-timestep):\n",
        "    a = data[i : i+timestep , 0]\n",
        "    xdata.append(a)\n",
        "    ydata.append(data[i+timestep , 0])\n",
        "  return np.array(xdata) , np.array(ydata)\n",
        "\n",
        "\n",
        "\n",
        "timestep = 60\n",
        "xtrain  , ytrain = final_data(newtrain , timestep)\n",
        "xtest , ytest = final_data(newtest , timestep)"
      ],
      "execution_count": 618,
      "outputs": []
    },
    {
      "cell_type": "code",
      "metadata": {
        "id": "JA1JwMQYh5GZ"
      },
      "source": [
        "xtrain = xtrain.reshape(xtrain.shape[0] , xtrain.shape[1] , 1)\n",
        "xtest = xtest.reshape(xtest.shape[0] , xtest.shape[1] , 1)\n",
        "#xtrain.shape\n",
        "#print(xtrain)"
      ],
      "execution_count": 619,
      "outputs": []
    },
    {
      "cell_type": "markdown",
      "metadata": {
        "id": "3G-BglZkzh6V"
      },
      "source": [
        "# **Preparing Model**"
      ]
    },
    {
      "cell_type": "code",
      "metadata": {
        "id": "PC_0T-jFjw6E"
      },
      "source": [
        "from tensorflow.keras.models import Sequential\n",
        "from tensorflow.keras.layers import Dense , LSTM"
      ],
      "execution_count": 620,
      "outputs": []
    },
    {
      "cell_type": "code",
      "metadata": {
        "id": "Ra1u6nyUkkVV"
      },
      "source": [
        "model = Sequential()\n",
        "model.add(LSTM(50 , return_sequences=True , input_shape=(60 , 1)))\n",
        "model.add(LSTM(50 , return_sequences=True))\n",
        "model.add(LSTM(50))\n",
        "model.add(Dense(1))\n",
        "model.compile(loss='mean_squared_error' , optimizer='adam')"
      ],
      "execution_count": 621,
      "outputs": []
    },
    {
      "cell_type": "code",
      "metadata": {
        "colab": {
          "base_uri": "https://localhost:8080/"
        },
        "id": "SWzEihXDnLmu",
        "outputId": "b2996053-7836-4efb-d34f-e38e383c8cd9"
      },
      "source": [
        "model.summary()"
      ],
      "execution_count": 622,
      "outputs": [
        {
          "output_type": "stream",
          "text": [
            "Model: \"sequential_23\"\n",
            "_________________________________________________________________\n",
            "Layer (type)                 Output Shape              Param #   \n",
            "=================================================================\n",
            "lstm_68 (LSTM)               (None, 60, 50)            10400     \n",
            "_________________________________________________________________\n",
            "lstm_69 (LSTM)               (None, 60, 50)            20200     \n",
            "_________________________________________________________________\n",
            "lstm_70 (LSTM)               (None, 50)                20200     \n",
            "_________________________________________________________________\n",
            "dense_23 (Dense)             (None, 1)                 51        \n",
            "=================================================================\n",
            "Total params: 50,851\n",
            "Trainable params: 50,851\n",
            "Non-trainable params: 0\n",
            "_________________________________________________________________\n"
          ],
          "name": "stdout"
        }
      ]
    },
    {
      "cell_type": "markdown",
      "metadata": {
        "id": "5GUCkn8pzmYy"
      },
      "source": [
        "# **Fitting**"
      ]
    },
    {
      "cell_type": "code",
      "metadata": {
        "colab": {
          "base_uri": "https://localhost:8080/"
        },
        "id": "IESruTGgnRog",
        "outputId": "af98474a-cf88-4c8f-8249-d21b6cabca53"
      },
      "source": [
        "model.fit(xtrain , ytrain , validation_data=(xtest , ytest) , epochs=200 , batch_size=64 , verbose=1)"
      ],
      "execution_count": 623,
      "outputs": [
        {
          "output_type": "stream",
          "text": [
            "Epoch 1/200\n",
            "14/14 [==============================] - 10s 259ms/step - loss: 0.0493 - val_loss: 0.0188\n",
            "Epoch 2/200\n",
            "14/14 [==============================] - 2s 147ms/step - loss: 0.0055 - val_loss: 0.0058\n",
            "Epoch 3/200\n",
            "14/14 [==============================] - 2s 148ms/step - loss: 0.0021 - val_loss: 0.0044\n",
            "Epoch 4/200\n",
            "14/14 [==============================] - 2s 153ms/step - loss: 0.0015 - val_loss: 0.0035\n",
            "Epoch 5/200\n",
            "14/14 [==============================] - 2s 151ms/step - loss: 0.0011 - val_loss: 0.0035\n",
            "Epoch 6/200\n",
            "14/14 [==============================] - 2s 149ms/step - loss: 0.0011 - val_loss: 0.0038\n",
            "Epoch 7/200\n",
            "14/14 [==============================] - 2s 149ms/step - loss: 0.0011 - val_loss: 0.0041\n",
            "Epoch 8/200\n",
            "14/14 [==============================] - 2s 148ms/step - loss: 0.0011 - val_loss: 0.0035\n",
            "Epoch 9/200\n",
            "14/14 [==============================] - 2s 146ms/step - loss: 0.0010 - val_loss: 0.0035\n",
            "Epoch 10/200\n",
            "14/14 [==============================] - 2s 146ms/step - loss: 9.9017e-04 - val_loss: 0.0035\n",
            "Epoch 11/200\n",
            "14/14 [==============================] - 2s 149ms/step - loss: 0.0010 - val_loss: 0.0032\n",
            "Epoch 12/200\n",
            "14/14 [==============================] - 2s 147ms/step - loss: 0.0011 - val_loss: 0.0032\n",
            "Epoch 13/200\n",
            "14/14 [==============================] - 2s 146ms/step - loss: 9.6699e-04 - val_loss: 0.0033\n",
            "Epoch 14/200\n",
            "14/14 [==============================] - 2s 145ms/step - loss: 9.5598e-04 - val_loss: 0.0032\n",
            "Epoch 15/200\n",
            "14/14 [==============================] - 2s 143ms/step - loss: 9.6080e-04 - val_loss: 0.0034\n",
            "Epoch 16/200\n",
            "14/14 [==============================] - 2s 127ms/step - loss: 8.9658e-04 - val_loss: 0.0035\n",
            "Epoch 17/200\n",
            "14/14 [==============================] - 2s 125ms/step - loss: 9.0715e-04 - val_loss: 0.0031\n",
            "Epoch 18/200\n",
            "14/14 [==============================] - 2s 136ms/step - loss: 9.3720e-04 - val_loss: 0.0032\n",
            "Epoch 19/200\n",
            "14/14 [==============================] - 2s 126ms/step - loss: 8.7694e-04 - val_loss: 0.0028\n",
            "Epoch 20/200\n",
            "14/14 [==============================] - 2s 122ms/step - loss: 8.7499e-04 - val_loss: 0.0028\n",
            "Epoch 21/200\n",
            "14/14 [==============================] - 2s 125ms/step - loss: 8.2068e-04 - val_loss: 0.0027\n",
            "Epoch 22/200\n",
            "14/14 [==============================] - 2s 122ms/step - loss: 8.8736e-04 - val_loss: 0.0027\n",
            "Epoch 23/200\n",
            "14/14 [==============================] - 2s 125ms/step - loss: 9.8598e-04 - val_loss: 0.0032\n",
            "Epoch 24/200\n",
            "14/14 [==============================] - 2s 139ms/step - loss: 0.0012 - val_loss: 0.0026\n",
            "Epoch 25/200\n",
            "14/14 [==============================] - 2s 120ms/step - loss: 8.2005e-04 - val_loss: 0.0026\n",
            "Epoch 26/200\n",
            "14/14 [==============================] - 2s 122ms/step - loss: 8.3747e-04 - val_loss: 0.0027\n",
            "Epoch 27/200\n",
            "14/14 [==============================] - 2s 124ms/step - loss: 9.1514e-04 - val_loss: 0.0027\n",
            "Epoch 28/200\n",
            "14/14 [==============================] - 2s 122ms/step - loss: 9.1543e-04 - val_loss: 0.0027\n",
            "Epoch 29/200\n",
            "14/14 [==============================] - 2s 125ms/step - loss: 9.6805e-04 - val_loss: 0.0024\n",
            "Epoch 30/200\n",
            "14/14 [==============================] - 2s 124ms/step - loss: 7.5609e-04 - val_loss: 0.0024\n",
            "Epoch 31/200\n",
            "14/14 [==============================] - 2s 127ms/step - loss: 7.6882e-04 - val_loss: 0.0024\n",
            "Epoch 32/200\n",
            "14/14 [==============================] - 2s 125ms/step - loss: 7.1868e-04 - val_loss: 0.0023\n",
            "Epoch 33/200\n",
            "14/14 [==============================] - 2s 125ms/step - loss: 7.5635e-04 - val_loss: 0.0024\n",
            "Epoch 34/200\n",
            "14/14 [==============================] - 2s 124ms/step - loss: 7.5378e-04 - val_loss: 0.0024\n",
            "Epoch 35/200\n",
            "14/14 [==============================] - 2s 126ms/step - loss: 7.5083e-04 - val_loss: 0.0022\n",
            "Epoch 36/200\n",
            "14/14 [==============================] - 2s 135ms/step - loss: 7.0368e-04 - val_loss: 0.0024\n",
            "Epoch 37/200\n",
            "14/14 [==============================] - 2s 147ms/step - loss: 7.6969e-04 - val_loss: 0.0028\n",
            "Epoch 38/200\n",
            "14/14 [==============================] - 2s 155ms/step - loss: 9.3865e-04 - val_loss: 0.0024\n",
            "Epoch 39/200\n",
            "14/14 [==============================] - 2s 148ms/step - loss: 8.1117e-04 - val_loss: 0.0021\n",
            "Epoch 40/200\n",
            "14/14 [==============================] - 2s 129ms/step - loss: 6.8691e-04 - val_loss: 0.0022\n",
            "Epoch 41/200\n",
            "14/14 [==============================] - 2s 139ms/step - loss: 6.9818e-04 - val_loss: 0.0021\n",
            "Epoch 42/200\n",
            "14/14 [==============================] - 2s 146ms/step - loss: 7.1656e-04 - val_loss: 0.0021\n",
            "Epoch 43/200\n",
            "14/14 [==============================] - 2s 149ms/step - loss: 7.0133e-04 - val_loss: 0.0022\n",
            "Epoch 44/200\n",
            "14/14 [==============================] - 2s 133ms/step - loss: 7.5547e-04 - val_loss: 0.0021\n",
            "Epoch 45/200\n",
            "14/14 [==============================] - 2s 147ms/step - loss: 6.9392e-04 - val_loss: 0.0025\n",
            "Epoch 46/200\n",
            "14/14 [==============================] - 2s 150ms/step - loss: 0.0011 - val_loss: 0.0021\n",
            "Epoch 47/200\n",
            "14/14 [==============================] - 2s 149ms/step - loss: 7.5514e-04 - val_loss: 0.0021\n",
            "Epoch 48/200\n",
            "14/14 [==============================] - 2s 150ms/step - loss: 6.6806e-04 - val_loss: 0.0020\n",
            "Epoch 49/200\n",
            "14/14 [==============================] - 2s 155ms/step - loss: 6.7356e-04 - val_loss: 0.0026\n",
            "Epoch 50/200\n",
            "14/14 [==============================] - 2s 148ms/step - loss: 6.9980e-04 - val_loss: 0.0024\n",
            "Epoch 51/200\n",
            "14/14 [==============================] - 2s 149ms/step - loss: 7.8156e-04 - val_loss: 0.0019\n",
            "Epoch 52/200\n",
            "14/14 [==============================] - 2s 146ms/step - loss: 6.3747e-04 - val_loss: 0.0020\n",
            "Epoch 53/200\n",
            "14/14 [==============================] - 2s 128ms/step - loss: 6.9394e-04 - val_loss: 0.0023\n",
            "Epoch 54/200\n",
            "14/14 [==============================] - 2s 125ms/step - loss: 6.8080e-04 - val_loss: 0.0023\n",
            "Epoch 55/200\n",
            "14/14 [==============================] - 2s 124ms/step - loss: 0.0010 - val_loss: 0.0020\n",
            "Epoch 56/200\n",
            "14/14 [==============================] - 2s 126ms/step - loss: 8.1656e-04 - val_loss: 0.0019\n",
            "Epoch 57/200\n",
            "14/14 [==============================] - 2s 124ms/step - loss: 6.9019e-04 - val_loss: 0.0022\n",
            "Epoch 58/200\n",
            "14/14 [==============================] - 2s 124ms/step - loss: 7.0304e-04 - val_loss: 0.0019\n",
            "Epoch 59/200\n",
            "14/14 [==============================] - 2s 134ms/step - loss: 6.3669e-04 - val_loss: 0.0018\n",
            "Epoch 60/200\n",
            "14/14 [==============================] - 2s 132ms/step - loss: 6.6427e-04 - val_loss: 0.0020\n",
            "Epoch 61/200\n",
            "14/14 [==============================] - 2s 130ms/step - loss: 7.0062e-04 - val_loss: 0.0022\n",
            "Epoch 62/200\n",
            "14/14 [==============================] - 2s 154ms/step - loss: 6.2792e-04 - val_loss: 0.0018\n",
            "Epoch 63/200\n",
            "14/14 [==============================] - 2s 138ms/step - loss: 6.1420e-04 - val_loss: 0.0018\n",
            "Epoch 64/200\n",
            "14/14 [==============================] - 2s 127ms/step - loss: 6.1096e-04 - val_loss: 0.0018\n",
            "Epoch 65/200\n",
            "14/14 [==============================] - 2s 127ms/step - loss: 6.6893e-04 - val_loss: 0.0018\n",
            "Epoch 66/200\n",
            "14/14 [==============================] - 2s 126ms/step - loss: 6.7582e-04 - val_loss: 0.0019\n",
            "Epoch 67/200\n",
            "14/14 [==============================] - 2s 129ms/step - loss: 6.5843e-04 - val_loss: 0.0019\n",
            "Epoch 68/200\n",
            "14/14 [==============================] - 2s 126ms/step - loss: 6.2489e-04 - val_loss: 0.0018\n",
            "Epoch 69/200\n",
            "14/14 [==============================] - 2s 127ms/step - loss: 6.8670e-04 - val_loss: 0.0017\n",
            "Epoch 70/200\n",
            "14/14 [==============================] - 2s 128ms/step - loss: 6.4835e-04 - val_loss: 0.0018\n",
            "Epoch 71/200\n",
            "14/14 [==============================] - 2s 128ms/step - loss: 7.2099e-04 - val_loss: 0.0021\n",
            "Epoch 72/200\n",
            "14/14 [==============================] - 2s 127ms/step - loss: 7.6925e-04 - val_loss: 0.0017\n",
            "Epoch 73/200\n",
            "14/14 [==============================] - 2s 128ms/step - loss: 0.0010 - val_loss: 0.0017\n",
            "Epoch 74/200\n",
            "14/14 [==============================] - 2s 132ms/step - loss: 6.8747e-04 - val_loss: 0.0020\n",
            "Epoch 75/200\n",
            "14/14 [==============================] - 2s 151ms/step - loss: 6.7004e-04 - val_loss: 0.0018\n",
            "Epoch 76/200\n",
            "14/14 [==============================] - 2s 154ms/step - loss: 6.8113e-04 - val_loss: 0.0020\n",
            "Epoch 77/200\n",
            "14/14 [==============================] - 2s 151ms/step - loss: 6.0551e-04 - val_loss: 0.0017\n",
            "Epoch 78/200\n",
            "14/14 [==============================] - 2s 128ms/step - loss: 5.7249e-04 - val_loss: 0.0017\n",
            "Epoch 79/200\n",
            "14/14 [==============================] - 2s 138ms/step - loss: 5.6401e-04 - val_loss: 0.0018\n",
            "Epoch 80/200\n",
            "14/14 [==============================] - 2s 151ms/step - loss: 5.8816e-04 - val_loss: 0.0017\n",
            "Epoch 81/200\n",
            "14/14 [==============================] - 2s 128ms/step - loss: 5.7310e-04 - val_loss: 0.0017\n",
            "Epoch 82/200\n",
            "14/14 [==============================] - 2s 132ms/step - loss: 6.2956e-04 - val_loss: 0.0022\n",
            "Epoch 83/200\n",
            "14/14 [==============================] - 2s 133ms/step - loss: 6.8493e-04 - val_loss: 0.0016\n",
            "Epoch 84/200\n",
            "14/14 [==============================] - 2s 128ms/step - loss: 6.2593e-04 - val_loss: 0.0016\n",
            "Epoch 85/200\n",
            "14/14 [==============================] - 2s 130ms/step - loss: 6.3474e-04 - val_loss: 0.0022\n",
            "Epoch 86/200\n",
            "14/14 [==============================] - 2s 131ms/step - loss: 6.2441e-04 - val_loss: 0.0017\n",
            "Epoch 87/200\n",
            "14/14 [==============================] - 2s 130ms/step - loss: 7.3236e-04 - val_loss: 0.0016\n",
            "Epoch 88/200\n",
            "14/14 [==============================] - 2s 131ms/step - loss: 6.4203e-04 - val_loss: 0.0020\n",
            "Epoch 89/200\n",
            "14/14 [==============================] - 2s 132ms/step - loss: 7.3340e-04 - val_loss: 0.0020\n",
            "Epoch 90/200\n",
            "14/14 [==============================] - 2s 131ms/step - loss: 6.2716e-04 - val_loss: 0.0015\n",
            "Epoch 91/200\n",
            "14/14 [==============================] - 2s 130ms/step - loss: 7.4093e-04 - val_loss: 0.0016\n",
            "Epoch 92/200\n",
            "14/14 [==============================] - 2s 131ms/step - loss: 7.4152e-04 - val_loss: 0.0017\n",
            "Epoch 93/200\n",
            "14/14 [==============================] - 2s 129ms/step - loss: 6.0571e-04 - val_loss: 0.0015\n",
            "Epoch 94/200\n",
            "14/14 [==============================] - 2s 134ms/step - loss: 5.4346e-04 - val_loss: 0.0016\n",
            "Epoch 95/200\n",
            "14/14 [==============================] - 2s 134ms/step - loss: 5.3422e-04 - val_loss: 0.0015\n",
            "Epoch 96/200\n",
            "14/14 [==============================] - 2s 133ms/step - loss: 5.7260e-04 - val_loss: 0.0015\n",
            "Epoch 97/200\n",
            "14/14 [==============================] - 2s 132ms/step - loss: 6.0158e-04 - val_loss: 0.0017\n",
            "Epoch 98/200\n",
            "14/14 [==============================] - 2s 133ms/step - loss: 5.4025e-04 - val_loss: 0.0015\n",
            "Epoch 99/200\n",
            "14/14 [==============================] - 2s 132ms/step - loss: 5.5731e-04 - val_loss: 0.0014\n",
            "Epoch 100/200\n",
            "14/14 [==============================] - 2s 133ms/step - loss: 5.3717e-04 - val_loss: 0.0015\n",
            "Epoch 101/200\n",
            "14/14 [==============================] - 2s 145ms/step - loss: 5.2734e-04 - val_loss: 0.0014\n",
            "Epoch 102/200\n",
            "14/14 [==============================] - 2s 158ms/step - loss: 5.4653e-04 - val_loss: 0.0014\n",
            "Epoch 103/200\n",
            "14/14 [==============================] - 2s 157ms/step - loss: 5.2649e-04 - val_loss: 0.0014\n",
            "Epoch 104/200\n",
            "14/14 [==============================] - 2s 141ms/step - loss: 5.4582e-04 - val_loss: 0.0014\n",
            "Epoch 105/200\n",
            "14/14 [==============================] - 2s 130ms/step - loss: 5.2387e-04 - val_loss: 0.0015\n",
            "Epoch 106/200\n",
            "14/14 [==============================] - 2s 131ms/step - loss: 5.3846e-04 - val_loss: 0.0014\n",
            "Epoch 107/200\n",
            "14/14 [==============================] - 2s 134ms/step - loss: 5.3960e-04 - val_loss: 0.0014\n",
            "Epoch 108/200\n",
            "14/14 [==============================] - 2s 134ms/step - loss: 5.1456e-04 - val_loss: 0.0013\n",
            "Epoch 109/200\n",
            "14/14 [==============================] - 2s 130ms/step - loss: 4.9920e-04 - val_loss: 0.0014\n",
            "Epoch 110/200\n",
            "14/14 [==============================] - 2s 128ms/step - loss: 5.0967e-04 - val_loss: 0.0013\n",
            "Epoch 111/200\n",
            "14/14 [==============================] - 2s 132ms/step - loss: 5.0209e-04 - val_loss: 0.0013\n",
            "Epoch 112/200\n",
            "14/14 [==============================] - 2s 134ms/step - loss: 5.3423e-04 - val_loss: 0.0014\n",
            "Epoch 113/200\n",
            "14/14 [==============================] - 2s 133ms/step - loss: 4.9803e-04 - val_loss: 0.0013\n",
            "Epoch 114/200\n",
            "14/14 [==============================] - 2s 131ms/step - loss: 5.3776e-04 - val_loss: 0.0013\n",
            "Epoch 115/200\n",
            "14/14 [==============================] - 2s 135ms/step - loss: 5.3282e-04 - val_loss: 0.0013\n",
            "Epoch 116/200\n",
            "14/14 [==============================] - 2s 139ms/step - loss: 4.8000e-04 - val_loss: 0.0014\n",
            "Epoch 117/200\n",
            "14/14 [==============================] - 2s 134ms/step - loss: 5.0406e-04 - val_loss: 0.0013\n",
            "Epoch 118/200\n",
            "14/14 [==============================] - 2s 133ms/step - loss: 5.1775e-04 - val_loss: 0.0012\n",
            "Epoch 119/200\n",
            "14/14 [==============================] - 2s 155ms/step - loss: 4.6633e-04 - val_loss: 0.0013\n",
            "Epoch 120/200\n",
            "14/14 [==============================] - 2s 147ms/step - loss: 5.2397e-04 - val_loss: 0.0015\n",
            "Epoch 121/200\n",
            "14/14 [==============================] - 2s 160ms/step - loss: 6.3872e-04 - val_loss: 0.0015\n",
            "Epoch 122/200\n",
            "14/14 [==============================] - 2s 151ms/step - loss: 5.9989e-04 - val_loss: 0.0014\n",
            "Epoch 123/200\n",
            "14/14 [==============================] - 2s 147ms/step - loss: 6.9047e-04 - val_loss: 0.0014\n",
            "Epoch 124/200\n",
            "14/14 [==============================] - 2s 143ms/step - loss: 6.2163e-04 - val_loss: 0.0012\n",
            "Epoch 125/200\n",
            "14/14 [==============================] - 2s 157ms/step - loss: 5.5883e-04 - val_loss: 0.0015\n",
            "Epoch 126/200\n",
            "14/14 [==============================] - 2s 156ms/step - loss: 5.5362e-04 - val_loss: 0.0012\n",
            "Epoch 127/200\n",
            "14/14 [==============================] - 2s 162ms/step - loss: 5.1533e-04 - val_loss: 0.0013\n",
            "Epoch 128/200\n",
            "14/14 [==============================] - 2s 158ms/step - loss: 4.4619e-04 - val_loss: 0.0011\n",
            "Epoch 129/200\n",
            "14/14 [==============================] - 2s 166ms/step - loss: 4.3647e-04 - val_loss: 0.0011\n",
            "Epoch 130/200\n",
            "14/14 [==============================] - 2s 161ms/step - loss: 4.4755e-04 - val_loss: 0.0011\n",
            "Epoch 131/200\n",
            "14/14 [==============================] - 2s 158ms/step - loss: 4.6534e-04 - val_loss: 0.0013\n",
            "Epoch 132/200\n",
            "14/14 [==============================] - 2s 164ms/step - loss: 4.4091e-04 - val_loss: 0.0011\n",
            "Epoch 133/200\n",
            "14/14 [==============================] - 2s 166ms/step - loss: 4.8754e-04 - val_loss: 0.0011\n",
            "Epoch 134/200\n",
            "14/14 [==============================] - 2s 165ms/step - loss: 4.4696e-04 - val_loss: 0.0011\n",
            "Epoch 135/200\n",
            "14/14 [==============================] - 2s 159ms/step - loss: 4.2378e-04 - val_loss: 0.0011\n",
            "Epoch 136/200\n",
            "14/14 [==============================] - 2s 143ms/step - loss: 4.3345e-04 - val_loss: 0.0011\n",
            "Epoch 137/200\n",
            "14/14 [==============================] - 2s 159ms/step - loss: 4.4144e-04 - val_loss: 0.0017\n",
            "Epoch 138/200\n",
            "14/14 [==============================] - 2s 162ms/step - loss: 6.0635e-04 - val_loss: 0.0011\n",
            "Epoch 139/200\n",
            "14/14 [==============================] - 2s 164ms/step - loss: 4.4384e-04 - val_loss: 0.0010\n",
            "Epoch 140/200\n",
            "14/14 [==============================] - 2s 161ms/step - loss: 4.4741e-04 - val_loss: 0.0011\n",
            "Epoch 141/200\n",
            "14/14 [==============================] - 2s 162ms/step - loss: 3.9445e-04 - val_loss: 9.1376e-04\n",
            "Epoch 142/200\n",
            "14/14 [==============================] - 2s 155ms/step - loss: 3.9144e-04 - val_loss: 9.2638e-04\n",
            "Epoch 143/200\n",
            "14/14 [==============================] - 2s 159ms/step - loss: 4.0757e-04 - val_loss: 9.8464e-04\n",
            "Epoch 144/200\n",
            "14/14 [==============================] - 2s 154ms/step - loss: 3.6615e-04 - val_loss: 9.2009e-04\n",
            "Epoch 145/200\n",
            "14/14 [==============================] - 2s 153ms/step - loss: 4.2905e-04 - val_loss: 0.0013\n",
            "Epoch 146/200\n",
            "14/14 [==============================] - 2s 162ms/step - loss: 4.3410e-04 - val_loss: 9.8696e-04\n",
            "Epoch 147/200\n",
            "14/14 [==============================] - 2s 164ms/step - loss: 3.6965e-04 - val_loss: 8.7066e-04\n",
            "Epoch 148/200\n",
            "14/14 [==============================] - 2s 161ms/step - loss: 3.6414e-04 - val_loss: 0.0010\n",
            "Epoch 149/200\n",
            "14/14 [==============================] - 2s 162ms/step - loss: 3.4867e-04 - val_loss: 8.0889e-04\n",
            "Epoch 150/200\n",
            "14/14 [==============================] - 2s 163ms/step - loss: 3.3937e-04 - val_loss: 8.2724e-04\n",
            "Epoch 151/200\n",
            "14/14 [==============================] - 2s 167ms/step - loss: 3.3442e-04 - val_loss: 8.1018e-04\n",
            "Epoch 152/200\n",
            "14/14 [==============================] - 2s 154ms/step - loss: 3.3974e-04 - val_loss: 7.9397e-04\n",
            "Epoch 153/200\n",
            "14/14 [==============================] - 2s 150ms/step - loss: 3.2455e-04 - val_loss: 8.5758e-04\n",
            "Epoch 154/200\n",
            "14/14 [==============================] - 2s 158ms/step - loss: 3.8111e-04 - val_loss: 8.3980e-04\n",
            "Epoch 155/200\n",
            "14/14 [==============================] - 2s 167ms/step - loss: 3.4037e-04 - val_loss: 9.1505e-04\n",
            "Epoch 156/200\n",
            "14/14 [==============================] - 2s 167ms/step - loss: 3.4454e-04 - val_loss: 7.1911e-04\n",
            "Epoch 157/200\n",
            "14/14 [==============================] - 2s 158ms/step - loss: 3.4930e-04 - val_loss: 7.2852e-04\n",
            "Epoch 158/200\n",
            "14/14 [==============================] - 2s 152ms/step - loss: 3.0528e-04 - val_loss: 7.3202e-04\n",
            "Epoch 159/200\n",
            "14/14 [==============================] - 2s 156ms/step - loss: 2.9838e-04 - val_loss: 7.3050e-04\n",
            "Epoch 160/200\n",
            "14/14 [==============================] - 2s 162ms/step - loss: 2.9033e-04 - val_loss: 8.0463e-04\n",
            "Epoch 161/200\n",
            "14/14 [==============================] - 2s 166ms/step - loss: 4.3878e-04 - val_loss: 9.4642e-04\n",
            "Epoch 162/200\n",
            "14/14 [==============================] - 2s 166ms/step - loss: 2.9480e-04 - val_loss: 7.3378e-04\n",
            "Epoch 163/200\n",
            "14/14 [==============================] - 2s 157ms/step - loss: 2.8636e-04 - val_loss: 6.8847e-04\n",
            "Epoch 164/200\n",
            "14/14 [==============================] - 2s 162ms/step - loss: 3.1155e-04 - val_loss: 7.9823e-04\n",
            "Epoch 165/200\n",
            "14/14 [==============================] - 2s 167ms/step - loss: 3.6164e-04 - val_loss: 7.4720e-04\n",
            "Epoch 166/200\n",
            "14/14 [==============================] - 2s 168ms/step - loss: 3.1915e-04 - val_loss: 6.8148e-04\n",
            "Epoch 167/200\n",
            "14/14 [==============================] - 2s 169ms/step - loss: 2.8582e-04 - val_loss: 6.4860e-04\n",
            "Epoch 168/200\n",
            "14/14 [==============================] - 2s 168ms/step - loss: 3.3654e-04 - val_loss: 6.8930e-04\n",
            "Epoch 169/200\n",
            "14/14 [==============================] - 2s 168ms/step - loss: 3.7018e-04 - val_loss: 6.5967e-04\n",
            "Epoch 170/200\n",
            "14/14 [==============================] - 2s 170ms/step - loss: 3.0385e-04 - val_loss: 6.1236e-04\n",
            "Epoch 171/200\n",
            "14/14 [==============================] - 2s 168ms/step - loss: 2.7739e-04 - val_loss: 6.0960e-04\n",
            "Epoch 172/200\n",
            "14/14 [==============================] - 2s 163ms/step - loss: 2.7179e-04 - val_loss: 6.4531e-04\n",
            "Epoch 173/200\n",
            "14/14 [==============================] - 2s 163ms/step - loss: 2.8591e-04 - val_loss: 7.7789e-04\n",
            "Epoch 174/200\n",
            "14/14 [==============================] - 2s 161ms/step - loss: 3.3026e-04 - val_loss: 6.1976e-04\n",
            "Epoch 175/200\n",
            "14/14 [==============================] - 2s 158ms/step - loss: 2.7224e-04 - val_loss: 6.6796e-04\n",
            "Epoch 176/200\n",
            "14/14 [==============================] - 2s 153ms/step - loss: 2.7545e-04 - val_loss: 7.1041e-04\n",
            "Epoch 177/200\n",
            "14/14 [==============================] - 2s 161ms/step - loss: 3.2546e-04 - val_loss: 5.8402e-04\n",
            "Epoch 178/200\n",
            "14/14 [==============================] - 2s 161ms/step - loss: 2.6079e-04 - val_loss: 5.9265e-04\n",
            "Epoch 179/200\n",
            "14/14 [==============================] - 2s 161ms/step - loss: 2.4907e-04 - val_loss: 6.4598e-04\n",
            "Epoch 180/200\n",
            "14/14 [==============================] - 2s 153ms/step - loss: 2.6686e-04 - val_loss: 6.7315e-04\n",
            "Epoch 181/200\n",
            "14/14 [==============================] - 2s 153ms/step - loss: 2.6204e-04 - val_loss: 5.8142e-04\n",
            "Epoch 182/200\n",
            "14/14 [==============================] - 2s 152ms/step - loss: 2.5538e-04 - val_loss: 6.1859e-04\n",
            "Epoch 183/200\n",
            "14/14 [==============================] - 2s 140ms/step - loss: 2.5109e-04 - val_loss: 8.4273e-04\n",
            "Epoch 184/200\n",
            "14/14 [==============================] - 2s 137ms/step - loss: 2.8862e-04 - val_loss: 6.8602e-04\n",
            "Epoch 185/200\n",
            "14/14 [==============================] - 2s 157ms/step - loss: 2.6462e-04 - val_loss: 6.9032e-04\n",
            "Epoch 186/200\n",
            "14/14 [==============================] - 2s 157ms/step - loss: 2.6187e-04 - val_loss: 5.2786e-04\n",
            "Epoch 187/200\n",
            "14/14 [==============================] - 2s 150ms/step - loss: 2.3478e-04 - val_loss: 5.2292e-04\n",
            "Epoch 188/200\n",
            "14/14 [==============================] - 2s 144ms/step - loss: 2.2870e-04 - val_loss: 5.5599e-04\n",
            "Epoch 189/200\n",
            "14/14 [==============================] - 2s 141ms/step - loss: 2.7889e-04 - val_loss: 5.2705e-04\n",
            "Epoch 190/200\n",
            "14/14 [==============================] - 2s 158ms/step - loss: 3.3394e-04 - val_loss: 6.2298e-04\n",
            "Epoch 191/200\n",
            "14/14 [==============================] - 2s 160ms/step - loss: 3.7260e-04 - val_loss: 5.8004e-04\n",
            "Epoch 192/200\n",
            "14/14 [==============================] - 2s 156ms/step - loss: 2.8024e-04 - val_loss: 5.2894e-04\n",
            "Epoch 193/200\n",
            "14/14 [==============================] - 2s 142ms/step - loss: 2.8230e-04 - val_loss: 5.2849e-04\n",
            "Epoch 194/200\n",
            "14/14 [==============================] - 2s 153ms/step - loss: 2.4805e-04 - val_loss: 5.0877e-04\n",
            "Epoch 195/200\n",
            "14/14 [==============================] - 2s 154ms/step - loss: 2.6586e-04 - val_loss: 5.3144e-04\n",
            "Epoch 196/200\n",
            "14/14 [==============================] - 2s 157ms/step - loss: 2.4414e-04 - val_loss: 5.0401e-04\n",
            "Epoch 197/200\n",
            "14/14 [==============================] - 2s 140ms/step - loss: 2.8929e-04 - val_loss: 4.8744e-04\n",
            "Epoch 198/200\n",
            "14/14 [==============================] - 2s 140ms/step - loss: 2.5463e-04 - val_loss: 5.9412e-04\n",
            "Epoch 199/200\n",
            "14/14 [==============================] - 2s 144ms/step - loss: 2.2758e-04 - val_loss: 5.1295e-04\n",
            "Epoch 200/200\n",
            "14/14 [==============================] - 2s 138ms/step - loss: 2.3932e-04 - val_loss: 5.7092e-04\n"
          ],
          "name": "stdout"
        },
        {
          "output_type": "execute_result",
          "data": {
            "text/plain": [
              "<tensorflow.python.keras.callbacks.History at 0x7ffadf6344d0>"
            ]
          },
          "metadata": {
            "tags": []
          },
          "execution_count": 623
        }
      ]
    },
    {
      "cell_type": "code",
      "metadata": {
        "id": "IVcg6YfW3_t3"
      },
      "source": [
        "trainpredict = model.predict(xtrain)\n",
        "testpredict = model.predict(xtest)"
      ],
      "execution_count": 624,
      "outputs": []
    },
    {
      "cell_type": "code",
      "metadata": {
        "id": "SuhglG6rQcfG"
      },
      "source": [
        "from math import sqrt\n",
        "from sklearn.metrics import mean_squared_error"
      ],
      "execution_count": 625,
      "outputs": []
    },
    {
      "cell_type": "code",
      "metadata": {
        "colab": {
          "base_uri": "https://localhost:8080/"
        },
        "id": "S09rQErKQo3K",
        "outputId": "dd622070-d4e8-4783-e2b5-686d2c3d13ef"
      },
      "source": [
        "sqrt(mean_squared_error(ytrain , trainpredict))"
      ],
      "execution_count": 626,
      "outputs": [
        {
          "output_type": "execute_result",
          "data": {
            "text/plain": [
              "0.018143424392605353"
            ]
          },
          "metadata": {
            "tags": []
          },
          "execution_count": 626
        }
      ]
    },
    {
      "cell_type": "code",
      "metadata": {
        "colab": {
          "base_uri": "https://localhost:8080/"
        },
        "id": "xFfygICMQpa-",
        "outputId": "d6bb3e24-036f-4675-d6de-55248c9db370"
      },
      "source": [
        "sqrt(mean_squared_error(ytest , testpredict))"
      ],
      "execution_count": 627,
      "outputs": [
        {
          "output_type": "execute_result",
          "data": {
            "text/plain": [
              "0.023893970540077344"
            ]
          },
          "metadata": {
            "tags": []
          },
          "execution_count": 627
        }
      ]
    },
    {
      "cell_type": "code",
      "metadata": {
        "id": "vL3NUeh_SDRF"
      },
      "source": [
        "# x_train = sc.inverse_transform(xtrain)\n",
        "y_train = sc.inverse_transform(np.reshape(ytrain , (-1 , 1)))"
      ],
      "execution_count": 628,
      "outputs": []
    },
    {
      "cell_type": "code",
      "metadata": {
        "id": "9CQXY0HmqB_J"
      },
      "source": [
        "# x_test = sc.inverse_transform(xtest)\n",
        "y_test = sc.inverse_transform(np.reshape(ytest , (-1 , 1)))"
      ],
      "execution_count": 629,
      "outputs": []
    },
    {
      "cell_type": "code",
      "metadata": {
        "id": "0HAL22HJptoB"
      },
      "source": [
        "train_predict = sc.inverse_transform(trainpredict)\n",
        "test_predict = sc.inverse_transform(testpredict)"
      ],
      "execution_count": 630,
      "outputs": []
    },
    {
      "cell_type": "code",
      "metadata": {
        "colab": {
          "base_uri": "https://localhost:8080/"
        },
        "id": "YH30qIrLqIX3",
        "outputId": "5c49c487-7806-49c3-9c0b-86f2342e370f"
      },
      "source": [
        "sqrt(mean_squared_error(y_train , train_predict))"
      ],
      "execution_count": 631,
      "outputs": [
        {
          "output_type": "execute_result",
          "data": {
            "text/plain": [
              "31.13502246839112"
            ]
          },
          "metadata": {
            "tags": []
          },
          "execution_count": 631
        }
      ]
    },
    {
      "cell_type": "code",
      "metadata": {
        "colab": {
          "base_uri": "https://localhost:8080/"
        },
        "id": "8AWCVzKtqI8-",
        "outputId": "a32c4249-e657-433a-f0a5-170ba4a9dfca"
      },
      "source": [
        "sqrt(mean_squared_error(y_test , test_predict))"
      ],
      "execution_count": 632,
      "outputs": [
        {
          "output_type": "execute_result",
          "data": {
            "text/plain": [
              "41.003248577568655"
            ]
          },
          "metadata": {
            "tags": []
          },
          "execution_count": 632
        }
      ]
    },
    {
      "cell_type": "markdown",
      "metadata": {
        "id": "EKHBpoAXh9gn"
      },
      "source": [
        "# **Plotting**"
      ]
    },
    {
      "cell_type": "code",
      "metadata": {
        "colab": {
          "base_uri": "https://localhost:8080/",
          "height": 265
        },
        "id": "Tjiz5GK9yZWq",
        "outputId": "d2f6b08c-263a-4a02-f794-e61b6e8ead52"
      },
      "source": [
        "from google.colab import files\n",
        "\n",
        "plt.plot(y_train , label='y_train')\n",
        "plt.plot(train_predict , c='red' , label='train_predict')\n",
        "plt.legend()\n",
        "plt.savefig(\"trainprediction.png\")\n",
        "\n",
        "files.download(\"trainprediction.png\")"
      ],
      "execution_count": 642,
      "outputs": [
        {
          "output_type": "display_data",
          "data": {
            "application/javascript": [
              "\n",
              "    async function download(id, filename, size) {\n",
              "      if (!google.colab.kernel.accessAllowed) {\n",
              "        return;\n",
              "      }\n",
              "      const div = document.createElement('div');\n",
              "      const label = document.createElement('label');\n",
              "      label.textContent = `Downloading \"${filename}\": `;\n",
              "      div.appendChild(label);\n",
              "      const progress = document.createElement('progress');\n",
              "      progress.max = size;\n",
              "      div.appendChild(progress);\n",
              "      document.body.appendChild(div);\n",
              "\n",
              "      const buffers = [];\n",
              "      let downloaded = 0;\n",
              "\n",
              "      const channel = await google.colab.kernel.comms.open(id);\n",
              "      // Send a message to notify the kernel that we're ready.\n",
              "      channel.send({})\n",
              "\n",
              "      for await (const message of channel.messages) {\n",
              "        // Send a message to notify the kernel that we're ready.\n",
              "        channel.send({})\n",
              "        if (message.buffers) {\n",
              "          for (const buffer of message.buffers) {\n",
              "            buffers.push(buffer);\n",
              "            downloaded += buffer.byteLength;\n",
              "            progress.value = downloaded;\n",
              "          }\n",
              "        }\n",
              "      }\n",
              "      const blob = new Blob(buffers, {type: 'application/binary'});\n",
              "      const a = document.createElement('a');\n",
              "      a.href = window.URL.createObjectURL(blob);\n",
              "      a.download = filename;\n",
              "      div.appendChild(a);\n",
              "      a.click();\n",
              "      div.remove();\n",
              "    }\n",
              "  "
            ],
            "text/plain": [
              "<IPython.core.display.Javascript object>"
            ]
          },
          "metadata": {
            "tags": []
          }
        },
        {
          "output_type": "display_data",
          "data": {
            "application/javascript": [
              "download(\"download_3ac0120b-7c9a-4079-8e08-fb1cec3a397b\", \"trainprediction.png\", 19188)"
            ],
            "text/plain": [
              "<IPython.core.display.Javascript object>"
            ]
          },
          "metadata": {
            "tags": []
          }
        },
        {
          "output_type": "display_data",
          "data": {
            "image/png": "[encoded data removed]",
            "text/plain": [
              "<Figure size 432x288 with 1 Axes>"
            ]
          },
          "metadata": {
            "tags": [],
            "needs_background": "light"
          }
        }
      ]
    },
    {
      "cell_type": "code",
      "metadata": {
        "colab": {
          "base_uri": "https://localhost:8080/",
          "height": 265
        },
        "id": "9DtAxrtBcofY",
        "outputId": "8ad3076e-cca0-4244-9dfd-86001214c5ce"
      },
      "source": [
        "plt.plot(y_test , label='y_test')\n",
        "plt.plot(test_predict , c='red' , label='test_predict')\n",
        "plt.legend()\n",
        "plt.savefig(\"testprediction.png\")\n",
        "\n",
        "files.download(\"testprediction.png\")"
      ],
      "execution_count": 643,
      "outputs": [
        {
          "output_type": "display_data",
          "data": {
            "application/javascript": [
              "\n",
              "    async function download(id, filename, size) {\n",
              "      if (!google.colab.kernel.accessAllowed) {\n",
              "        return;\n",
              "      }\n",
              "      const div = document.createElement('div');\n",
              "      const label = document.createElement('label');\n",
              "      label.textContent = `Downloading \"${filename}\": `;\n",
              "      div.appendChild(label);\n",
              "      const progress = document.createElement('progress');\n",
              "      progress.max = size;\n",
              "      div.appendChild(progress);\n",
              "      document.body.appendChild(div);\n",
              "\n",
              "      const buffers = [];\n",
              "      let downloaded = 0;\n",
              "\n",
              "      const channel = await google.colab.kernel.comms.open(id);\n",
              "      // Send a message to notify the kernel that we're ready.\n",
              "      channel.send({})\n",
              "\n",
              "      for await (const message of channel.messages) {\n",
              "        // Send a message to notify the kernel that we're ready.\n",
              "        channel.send({})\n",
              "        if (message.buffers) {\n",
              "          for (const buffer of message.buffers) {\n",
              "            buffers.push(buffer);\n",
              "            downloaded += buffer.byteLength;\n",
              "            progress.value = downloaded;\n",
              "          }\n",
              "        }\n",
              "      }\n",
              "      const blob = new Blob(buffers, {type: 'application/binary'});\n",
              "      const a = document.createElement('a');\n",
              "      a.href = window.URL.createObjectURL(blob);\n",
              "      a.download = filename;\n",
              "      div.appendChild(a);\n",
              "      a.click();\n",
              "      div.remove();\n",
              "    }\n",
              "  "
            ],
            "text/plain": [
              "<IPython.core.display.Javascript object>"
            ]
          },
          "metadata": {
            "tags": []
          }
        },
        {
          "output_type": "display_data",
          "data": {
            "application/javascript": [
              "download(\"download_381475e4-cfc9-42f9-8948-4c7c4f1d03cf\", \"testprediction.png\", 19167)"
            ],
            "text/plain": [
              "<IPython.core.display.Javascript object>"
            ]
          },
          "metadata": {
            "tags": []
          }
        },
        {
          "output_type": "display_data",
          "data": {
            "image/png": "[encoded data removed]",
            "text/plain": [
              "<Figure size 432x288 with 1 Axes>"
            ]
          },
          "metadata": {
            "tags": [],
            "needs_background": "light"
          }
        }
      ]
    }
  ]
}